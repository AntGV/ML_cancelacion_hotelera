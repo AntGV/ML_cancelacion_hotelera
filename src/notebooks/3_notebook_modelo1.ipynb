{
 "cells": [
  {
   "cell_type": "code",
   "execution_count": 2,
   "id": "4c36a5da",
   "metadata": {},
   "outputs": [],
   "source": [
    "import os, sys\n",
    "sys.path.append(os.path.abspath(\"../\"))\n",
    "import optuna\n",
    "import numpy as np\n",
    "import pandas as pd\n",
    "\n",
    "from sklearn.feature_selection import RFE\n",
    "from sklearn.metrics import classification_report, ConfusionMatrixDisplay\n",
    "from sklearn.model_selection import cross_val_score, GridSearchCV, train_test_split\n",
    "from sklearn.preprocessing import OrdinalEncoder, StandardScaler\n",
    "from sklearn.utils import resample\n",
    "\n",
    "from sklearn.linear_model import LogisticRegression\n",
    "from sklearn.tree import DecisionTreeClassifier\n",
    "from sklearn.ensemble import RandomForestClassifier\n",
    "from xgboost import XGBClassifier\n",
    "from lightgbm import LGBMClassifier\n",
    "from catboost import CatBoostClassifier"
   ]
  },
  {
   "cell_type": "markdown",
   "id": "f91b3ee2",
   "metadata": {},
   "source": [
    "### CARGA DE DATASET Y DIVISIÓN TRAIN/TEST"
   ]
  },
  {
   "cell_type": "code",
   "execution_count": 235,
   "id": "8761be04",
   "metadata": {},
   "outputs": [],
   "source": [
    "# Se carga el dataset de trabajo\n",
    "df = pd.read_csv(\"../data_sample/Datos_Reservas.csv\")\n",
    "\n",
    "# Se separa los conjuntos de datos de train y test\n",
    "train_set, test_set = train_test_split(df, test_size = 0.2, random_state = 42)\n",
    "\n",
    "# Se identifica el target\n",
    "target = \"canceled\""
   ]
  },
  {
   "cell_type": "markdown",
   "id": "bfc5d60e",
   "metadata": {},
   "source": [
    "### TRANSFORMACIONES"
   ]
  },
  {
   "cell_type": "code",
   "execution_count": 236,
   "id": "f9a7cad2",
   "metadata": {},
   "outputs": [],
   "source": [
    "# TRAIN\n",
    "#---------------------------- CAMBIO 1-----------------------------------------\n",
    "# ELIMINACIÓN DE REGISTROS DE PROMOCIONES, DEVOLUCIONES Y POSIBLES ERRORES\n",
    "# TRANSFORMACIÓN LOGÍSTICA A LA COLUMNA 'daily_price'\n",
    "train_set = train_set.drop(train_set[train_set[\"daily_price\"] <= 0].index, axis = 0)\n",
    "train_set = train_set.drop(train_set[train_set[\"daily_price\"] > 2000].index, axis = 0)\n",
    "train_set[\"daily_price\"] = np.log10(train_set[\"daily_price\"])\n",
    "#---------------------------- CAMBIO 2-----------------------------------------\n",
    "# ELIMINACIÓN DE VALORES INCONSISTENTES Y TRANSFORMACIÓN LOGÍSTICA A LA COLUMNA 'lead_time'\n",
    "train_set = train_set.drop(train_set[train_set[\"lead_time\"] <= 0].index, axis = 0)\n",
    "train_set[\"lead_time\"] = np.log10(train_set[\"lead_time\"])\n",
    "#---------------------------- CAMBIO 3-----------------------------------------\n",
    "# ELIMINACIÓN DE REGISTROS CON VALOR 0 COINCIDENTES EN LAS COLUMNAS 'adults' Y 'children'\n",
    "train_set = train_set.drop(train_set[(train_set[\"adults\"] == 0)&(train_set[\"children\"] == 0)].index, axis = 0)\n",
    "#---------------------------- CAMBIO 4-----------------------------------------\n",
    "# TRANSFORMACIÓN DE 'children' A CATEGÓRICA BINARIA\n",
    "train_set.loc[train_set[\"children\"] > 0, \"children\"] = 1\n",
    "#---------------------------- CAMBIO 5-----------------------------------------\n",
    "# TRANSFORMACIÓN DE 'total_book' A CATEGÓRICA BINARIA\n",
    "train_set.loc[train_set[\"total_book\"] > 0, \"total_book\"] = 1\n",
    "#---------------------------- CAMBIO 6-----------------------------------------\n",
    "# TRANSFORMACIÓN DE 'pre_cancel' A CATEGÓRICA BINARIA\n",
    "train_set.loc[train_set[\"pre_cancel\"] > 0, \"pre_cancel\"] = 1\n",
    "#---------------------------- CAMBIO 7-----------------------------------------\n",
    "# ELIMINACIÓN DE 'arr_date'\n",
    "train_set.drop(columns = [\"arr_date\"], inplace = True)\n",
    "#---------------------------- CAMBIO 8-----------------------------------------\n",
    "# ELIMINACIÓN DE VALORES INCONSISTENTES COINCIDENTES EN LAS COLUMNAs 'week_nights' y 'weekend_nights'\n",
    "# TRANSFORMACIÓN DE ETIQUETAS PARA UNIFICAR LOS VALORES POR ENCIMA DE 5 EN 'week_nights' Y POR ENCIMA DE 2 EN 'weekend_nights'\n",
    "train_set = train_set.drop(train_set[(train_set[\"week_nights\"] == 0)&(train_set[\"weekend_nights\"] == 0)].index, axis = 0)\n",
    "train_set.loc[train_set[\"week_nights\"] > 5, \"week_nights\"] = 6\n",
    "train_set.loc[train_set[\"weekend_nights\"] > 2, \"weekend_nights\"] = 3\n",
    "#---------------------------- CAMBIO 9-----------------------------------------\n",
    "# TRANSFORMACIÓN DE 'meal_plan' A VARIABLE NUMÉRICA CON ORDINAL ENCODER\n",
    "encoder = OrdinalEncoder(categories=[[\"SC\",\"RO\",\"BB\",\"HB\",\"FB\"]])\n",
    "train_set[[\"meal_plan\"]] = encoder.fit_transform(train_set[[\"meal_plan\"]])\n",
    "#---------------------------- CAMBIO 10-----------------------------------------\n",
    "# TRANSFORMACIÓN DE 'parking' A VARIABLE BINARIA\n",
    "train_set.loc[train_set[\"parking\"] > 0, \"parking\"] = 1\n",
    "\n",
    "\n",
    "# TEST\n",
    "#---------------------------- CAMBIO 1-----------------------------------------\n",
    "# ELIMINACIÓN DE REGISTROS DE PROMOCIONES, DEVOLUCIONES Y POSIBLES ERRORES\n",
    "# TRANSFORMACIÓN LOGÍSTICA A LA COLUMNA 'daily_price'\n",
    "test_set = test_set.drop(test_set[test_set[\"daily_price\"] <= 0].index, axis = 0)\n",
    "test_set = test_set.drop(test_set[test_set[\"daily_price\"] > 2000].index, axis = 0)\n",
    "test_set[\"daily_price\"] = np.log10(test_set[\"daily_price\"])\n",
    "#---------------------------- CAMBIO 2-----------------------------------------\n",
    "# ELIMINACIÓN DE VALORES INCONSISTENTES Y TRANSFORMACIÓN LOGÍSTICA A LA COLUMNA 'lead_time'\n",
    "test_set = test_set.drop(test_set[test_set[\"lead_time\"] <= 0].index, axis = 0)\n",
    "test_set[\"lead_time\"] = np.log10(test_set[\"lead_time\"])\n",
    "#---------------------------- CAMBIO 3-----------------------------------------\n",
    "# ELIMINACIÓN DE REGISTROS CON VALOR 0 COINCIDENTES EN LAS COLUMNAS 'adults' Y 'children'\n",
    "test_set = test_set.drop(test_set[(test_set[\"adults\"] == 0)&(test_set[\"children\"] == 0)].index, axis = 0)\n",
    "#---------------------------- CAMBIO 4-----------------------------------------\n",
    "# TRANSFORMACIÓN DE 'children' A CATEGÓRICA BINARIA\n",
    "test_set.loc[test_set[\"children\"] > 0, \"children\"] = 1\n",
    "#---------------------------- CAMBIO 5-----------------------------------------\n",
    "# TRANSFORMACIÓN DE 'total_book' A CATEGÓRICA BINARIA\n",
    "test_set.loc[test_set[\"total_book\"] > 0, \"total_book\"] = 1\n",
    "#---------------------------- CAMBIO 6-----------------------------------------\n",
    "# TRANSFORMACIÓN DE 'pre_cancel' A CATEGÓRICA BINARIA\n",
    "test_set.loc[test_set[\"pre_cancel\"] > 0, \"pre_cancel\"] = 1\n",
    "#---------------------------- CAMBIO 7-----------------------------------------\n",
    "# ELIMINACIÓN DE 'arr_date'\n",
    "test_set.drop(columns = [\"arr_date\"], inplace = True)\n",
    "#---------------------------- CAMBIO 8-----------------------------------------\n",
    "# ELIMINACIÓN DE VALORES INCONSISTENTES COINCIDENTES EN LAS COLUMNAs 'week_nights' y 'weekend_nights'\n",
    "# TRANSFORMACIÓN DE ETIQUETAS PARA UNIFICAR LOS VALORES POR ENCIMA DE 5 EN 'week_nights' Y POR ENCIMA DE 2 EN 'weekend_nights'\n",
    "test_set = test_set.drop(test_set[(test_set[\"week_nights\"] == 0)&(test_set[\"weekend_nights\"] == 0)].index, axis = 0)\n",
    "test_set.loc[test_set[\"week_nights\"] > 5, \"week_nights\"] = 6\n",
    "test_set.loc[test_set[\"weekend_nights\"] > 2, \"weekend_nights\"] = 3\n",
    "#---------------------------- CAMBIO 9-----------------------------------------\n",
    "# TRANSFORMACIÓN DE 'meal_plan' A VARIABLE NUMÉRICA CON ORDINAL ENCODER\n",
    "encoder = OrdinalEncoder(categories=[[\"SC\",\"RO\",\"BB\",\"HB\",\"FB\"]])\n",
    "test_set[[\"meal_plan\"]] = encoder.fit_transform(test_set[[\"meal_plan\"]])\n",
    "#---------------------------- CAMBIO 10-----------------------------------------\n",
    "# TRANSFORMACIÓN DE 'parking' A VARIABLE BINARIA\n",
    "test_set.loc[test_set[\"parking\"] > 0, \"parking\"] = 1"
   ]
  },
  {
   "cell_type": "code",
   "execution_count": 237,
   "id": "74cf1afe",
   "metadata": {},
   "outputs": [
    {
     "name": "stdout",
     "output_type": "stream",
     "text": [
      "<class 'pandas.core.frame.DataFrame'>\n",
      "Index: 79384 entries, 68579 to 15795\n",
      "Data columns (total 14 columns):\n",
      " #   Column          Non-Null Count  Dtype  \n",
      "---  ------          --------------  -----  \n",
      " 0   daily_price     79384 non-null  float64\n",
      " 1   lead_time       79384 non-null  float64\n",
      " 2   adults          79384 non-null  int64  \n",
      " 3   children        79384 non-null  int64  \n",
      " 4   repeated_guest  79384 non-null  int64  \n",
      " 5   total_book      79384 non-null  int64  \n",
      " 6   pre_cancel      79384 non-null  int64  \n",
      " 7   arr_week        79384 non-null  int64  \n",
      " 8   week_nights     79384 non-null  int64  \n",
      " 9   weekend_nights  79384 non-null  int64  \n",
      " 10  meal_plan       79384 non-null  float64\n",
      " 11  parking         79384 non-null  int64  \n",
      " 12  special_req     79384 non-null  int64  \n",
      " 13  canceled        79384 non-null  int64  \n",
      "dtypes: float64(3), int64(11)\n",
      "memory usage: 9.1 MB\n"
     ]
    }
   ],
   "source": [
    "train_set.info()"
   ]
  },
  {
   "cell_type": "code",
   "execution_count": 238,
   "id": "9d9756dd",
   "metadata": {},
   "outputs": [
    {
     "data": {
      "text/html": [
       "<div>\n",
       "<style scoped>\n",
       "    .dataframe tbody tr th:only-of-type {\n",
       "        vertical-align: middle;\n",
       "    }\n",
       "\n",
       "    .dataframe tbody tr th {\n",
       "        vertical-align: top;\n",
       "    }\n",
       "\n",
       "    .dataframe thead th {\n",
       "        text-align: right;\n",
       "    }\n",
       "</style>\n",
       "<table border=\"1\" class=\"dataframe\">\n",
       "  <thead>\n",
       "    <tr style=\"text-align: right;\">\n",
       "      <th></th>\n",
       "      <th>count</th>\n",
       "      <th>mean</th>\n",
       "      <th>std</th>\n",
       "      <th>min</th>\n",
       "      <th>25%</th>\n",
       "      <th>50%</th>\n",
       "      <th>75%</th>\n",
       "      <th>max</th>\n",
       "    </tr>\n",
       "  </thead>\n",
       "  <tbody>\n",
       "    <tr>\n",
       "      <th>daily_price</th>\n",
       "      <td>79384.0</td>\n",
       "      <td>2.000724</td>\n",
       "      <td>0.197510</td>\n",
       "      <td>-0.585027</td>\n",
       "      <td>1.892095</td>\n",
       "      <td>2.005095</td>\n",
       "      <td>2.130334</td>\n",
       "      <td>2.705864</td>\n",
       "    </tr>\n",
       "    <tr>\n",
       "      <th>lead_time</th>\n",
       "      <td>79384.0</td>\n",
       "      <td>1.595461</td>\n",
       "      <td>0.632201</td>\n",
       "      <td>0.000000</td>\n",
       "      <td>1.230449</td>\n",
       "      <td>1.732394</td>\n",
       "      <td>2.089905</td>\n",
       "      <td>2.850646</td>\n",
       "    </tr>\n",
       "    <tr>\n",
       "      <th>adults</th>\n",
       "      <td>79384.0</td>\n",
       "      <td>1.909680</td>\n",
       "      <td>0.498848</td>\n",
       "      <td>0.000000</td>\n",
       "      <td>2.000000</td>\n",
       "      <td>2.000000</td>\n",
       "      <td>2.000000</td>\n",
       "      <td>4.000000</td>\n",
       "    </tr>\n",
       "    <tr>\n",
       "      <th>children</th>\n",
       "      <td>79384.0</td>\n",
       "      <td>0.102955</td>\n",
       "      <td>0.303902</td>\n",
       "      <td>0.000000</td>\n",
       "      <td>0.000000</td>\n",
       "      <td>0.000000</td>\n",
       "      <td>0.000000</td>\n",
       "      <td>1.000000</td>\n",
       "    </tr>\n",
       "    <tr>\n",
       "      <th>repeated_guest</th>\n",
       "      <td>79384.0</td>\n",
       "      <td>0.027210</td>\n",
       "      <td>0.162694</td>\n",
       "      <td>0.000000</td>\n",
       "      <td>0.000000</td>\n",
       "      <td>0.000000</td>\n",
       "      <td>0.000000</td>\n",
       "      <td>1.000000</td>\n",
       "    </tr>\n",
       "    <tr>\n",
       "      <th>total_book</th>\n",
       "      <td>79384.0</td>\n",
       "      <td>0.040915</td>\n",
       "      <td>0.198095</td>\n",
       "      <td>0.000000</td>\n",
       "      <td>0.000000</td>\n",
       "      <td>0.000000</td>\n",
       "      <td>0.000000</td>\n",
       "      <td>1.000000</td>\n",
       "    </tr>\n",
       "    <tr>\n",
       "      <th>pre_cancel</th>\n",
       "      <td>79384.0</td>\n",
       "      <td>0.016426</td>\n",
       "      <td>0.127110</td>\n",
       "      <td>0.000000</td>\n",
       "      <td>0.000000</td>\n",
       "      <td>0.000000</td>\n",
       "      <td>0.000000</td>\n",
       "      <td>1.000000</td>\n",
       "    </tr>\n",
       "    <tr>\n",
       "      <th>arr_week</th>\n",
       "      <td>79384.0</td>\n",
       "      <td>27.295085</td>\n",
       "      <td>13.503051</td>\n",
       "      <td>1.000000</td>\n",
       "      <td>16.000000</td>\n",
       "      <td>28.000000</td>\n",
       "      <td>38.000000</td>\n",
       "      <td>53.000000</td>\n",
       "    </tr>\n",
       "    <tr>\n",
       "      <th>week_nights</th>\n",
       "      <td>79384.0</td>\n",
       "      <td>2.561259</td>\n",
       "      <td>1.569603</td>\n",
       "      <td>0.000000</td>\n",
       "      <td>1.000000</td>\n",
       "      <td>2.000000</td>\n",
       "      <td>4.000000</td>\n",
       "      <td>6.000000</td>\n",
       "    </tr>\n",
       "    <tr>\n",
       "      <th>weekend_nights</th>\n",
       "      <td>79384.0</td>\n",
       "      <td>1.001562</td>\n",
       "      <td>0.913390</td>\n",
       "      <td>0.000000</td>\n",
       "      <td>0.000000</td>\n",
       "      <td>1.000000</td>\n",
       "      <td>2.000000</td>\n",
       "      <td>3.000000</td>\n",
       "    </tr>\n",
       "    <tr>\n",
       "      <th>meal_plan</th>\n",
       "      <td>79384.0</td>\n",
       "      <td>1.886287</td>\n",
       "      <td>0.690221</td>\n",
       "      <td>0.000000</td>\n",
       "      <td>2.000000</td>\n",
       "      <td>2.000000</td>\n",
       "      <td>2.000000</td>\n",
       "      <td>4.000000</td>\n",
       "    </tr>\n",
       "    <tr>\n",
       "      <th>parking</th>\n",
       "      <td>79384.0</td>\n",
       "      <td>0.073340</td>\n",
       "      <td>0.260695</td>\n",
       "      <td>0.000000</td>\n",
       "      <td>0.000000</td>\n",
       "      <td>0.000000</td>\n",
       "      <td>0.000000</td>\n",
       "      <td>1.000000</td>\n",
       "    </tr>\n",
       "    <tr>\n",
       "      <th>special_req</th>\n",
       "      <td>79384.0</td>\n",
       "      <td>0.747178</td>\n",
       "      <td>0.836146</td>\n",
       "      <td>0.000000</td>\n",
       "      <td>0.000000</td>\n",
       "      <td>1.000000</td>\n",
       "      <td>1.000000</td>\n",
       "      <td>5.000000</td>\n",
       "    </tr>\n",
       "    <tr>\n",
       "      <th>canceled</th>\n",
       "      <td>79384.0</td>\n",
       "      <td>0.301912</td>\n",
       "      <td>0.459090</td>\n",
       "      <td>0.000000</td>\n",
       "      <td>0.000000</td>\n",
       "      <td>0.000000</td>\n",
       "      <td>1.000000</td>\n",
       "      <td>1.000000</td>\n",
       "    </tr>\n",
       "  </tbody>\n",
       "</table>\n",
       "</div>"
      ],
      "text/plain": [
       "                  count       mean        std       min        25%        50%  \\\n",
       "daily_price     79384.0   2.000724   0.197510 -0.585027   1.892095   2.005095   \n",
       "lead_time       79384.0   1.595461   0.632201  0.000000   1.230449   1.732394   \n",
       "adults          79384.0   1.909680   0.498848  0.000000   2.000000   2.000000   \n",
       "children        79384.0   0.102955   0.303902  0.000000   0.000000   0.000000   \n",
       "repeated_guest  79384.0   0.027210   0.162694  0.000000   0.000000   0.000000   \n",
       "total_book      79384.0   0.040915   0.198095  0.000000   0.000000   0.000000   \n",
       "pre_cancel      79384.0   0.016426   0.127110  0.000000   0.000000   0.000000   \n",
       "arr_week        79384.0  27.295085  13.503051  1.000000  16.000000  28.000000   \n",
       "week_nights     79384.0   2.561259   1.569603  0.000000   1.000000   2.000000   \n",
       "weekend_nights  79384.0   1.001562   0.913390  0.000000   0.000000   1.000000   \n",
       "meal_plan       79384.0   1.886287   0.690221  0.000000   2.000000   2.000000   \n",
       "parking         79384.0   0.073340   0.260695  0.000000   0.000000   0.000000   \n",
       "special_req     79384.0   0.747178   0.836146  0.000000   0.000000   1.000000   \n",
       "canceled        79384.0   0.301912   0.459090  0.000000   0.000000   0.000000   \n",
       "\n",
       "                      75%        max  \n",
       "daily_price      2.130334   2.705864  \n",
       "lead_time        2.089905   2.850646  \n",
       "adults           2.000000   4.000000  \n",
       "children         0.000000   1.000000  \n",
       "repeated_guest   0.000000   1.000000  \n",
       "total_book       0.000000   1.000000  \n",
       "pre_cancel       0.000000   1.000000  \n",
       "arr_week        38.000000  53.000000  \n",
       "week_nights      4.000000   6.000000  \n",
       "weekend_nights   2.000000   3.000000  \n",
       "meal_plan        2.000000   4.000000  \n",
       "parking          0.000000   1.000000  \n",
       "special_req      1.000000   5.000000  \n",
       "canceled         1.000000   1.000000  "
      ]
     },
     "execution_count": 238,
     "metadata": {},
     "output_type": "execute_result"
    }
   ],
   "source": [
    "train_set.describe().T"
   ]
  },
  {
   "cell_type": "markdown",
   "id": "2ef33671",
   "metadata": {},
   "source": [
    "### DIVISIÓN DE SUBCONJUNTOS X,Y"
   ]
  },
  {
   "cell_type": "code",
   "execution_count": 239,
   "id": "b013b6a9",
   "metadata": {},
   "outputs": [],
   "source": [
    "# Se forman los subconjuntos X,y\n",
    "X_train = train_set.copy()\n",
    "X_train.drop(columns = [target], inplace = True)\n",
    "y_train = train_set[target].copy()\n",
    "\n",
    "X_test = test_set.copy()\n",
    "X_test.drop(columns = [target], inplace = True)\n",
    "y_test = test_set[target].copy()"
   ]
  },
  {
   "cell_type": "markdown",
   "id": "b63366c0",
   "metadata": {},
   "source": [
    "##### ESCALADO DE VARIABLES"
   ]
  },
  {
   "cell_type": "code",
   "execution_count": 240,
   "id": "a94c779d",
   "metadata": {},
   "outputs": [],
   "source": [
    "# Se lleva a cabo un escalado de los valores para aplicar con los modelos sensibles a la distancia\n",
    "scaler = StandardScaler()\n",
    "features = X_train.columns.to_list()\n",
    "\n",
    "X_train_scaled = pd.DataFrame(scaler.fit_transform(X_train), columns = features)\n",
    "X_test_scaled = pd.DataFrame(scaler.transform(X_test), columns = features)"
   ]
  },
  {
   "cell_type": "code",
   "execution_count": 222,
   "id": "6f8375fa",
   "metadata": {},
   "outputs": [
    {
     "data": {
      "text/html": [
       "<div>\n",
       "<style scoped>\n",
       "    .dataframe tbody tr th:only-of-type {\n",
       "        vertical-align: middle;\n",
       "    }\n",
       "\n",
       "    .dataframe tbody tr th {\n",
       "        vertical-align: top;\n",
       "    }\n",
       "\n",
       "    .dataframe thead th {\n",
       "        text-align: right;\n",
       "    }\n",
       "</style>\n",
       "<table border=\"1\" class=\"dataframe\">\n",
       "  <thead>\n",
       "    <tr style=\"text-align: right;\">\n",
       "      <th></th>\n",
       "      <th>count</th>\n",
       "      <th>mean</th>\n",
       "      <th>std</th>\n",
       "      <th>min</th>\n",
       "      <th>25%</th>\n",
       "      <th>50%</th>\n",
       "      <th>75%</th>\n",
       "      <th>max</th>\n",
       "    </tr>\n",
       "  </thead>\n",
       "  <tbody>\n",
       "    <tr>\n",
       "      <th>daily_price</th>\n",
       "      <td>79384.0</td>\n",
       "      <td>1.101832e-15</td>\n",
       "      <td>1.000006</td>\n",
       "      <td>-13.091801</td>\n",
       "      <td>-0.549995</td>\n",
       "      <td>0.022131</td>\n",
       "      <td>0.656223</td>\n",
       "      <td>3.570164</td>\n",
       "    </tr>\n",
       "    <tr>\n",
       "      <th>lead_time</th>\n",
       "      <td>79384.0</td>\n",
       "      <td>-2.898238e-16</td>\n",
       "      <td>1.000006</td>\n",
       "      <td>-2.523677</td>\n",
       "      <td>-0.577371</td>\n",
       "      <td>0.216598</td>\n",
       "      <td>0.782105</td>\n",
       "      <td>1.985434</td>\n",
       "    </tr>\n",
       "    <tr>\n",
       "      <th>adults</th>\n",
       "      <td>79384.0</td>\n",
       "      <td>1.432113e-18</td>\n",
       "      <td>1.000006</td>\n",
       "      <td>-3.828204</td>\n",
       "      <td>0.181059</td>\n",
       "      <td>0.181059</td>\n",
       "      <td>0.181059</td>\n",
       "      <td>4.190322</td>\n",
       "    </tr>\n",
       "    <tr>\n",
       "      <th>children</th>\n",
       "      <td>79384.0</td>\n",
       "      <td>-6.627997e-17</td>\n",
       "      <td>1.000006</td>\n",
       "      <td>-0.338780</td>\n",
       "      <td>-0.338780</td>\n",
       "      <td>-0.338780</td>\n",
       "      <td>-0.338780</td>\n",
       "      <td>2.951772</td>\n",
       "    </tr>\n",
       "    <tr>\n",
       "      <th>repeated_guest</th>\n",
       "      <td>79384.0</td>\n",
       "      <td>-4.618564e-17</td>\n",
       "      <td>1.000006</td>\n",
       "      <td>-0.167244</td>\n",
       "      <td>-0.167244</td>\n",
       "      <td>-0.167244</td>\n",
       "      <td>-0.167244</td>\n",
       "      <td>5.979285</td>\n",
       "    </tr>\n",
       "    <tr>\n",
       "      <th>total_book</th>\n",
       "      <td>79384.0</td>\n",
       "      <td>6.766733e-17</td>\n",
       "      <td>1.000006</td>\n",
       "      <td>-0.206544</td>\n",
       "      <td>-0.206544</td>\n",
       "      <td>-0.206544</td>\n",
       "      <td>-0.206544</td>\n",
       "      <td>4.841579</td>\n",
       "    </tr>\n",
       "    <tr>\n",
       "      <th>pre_cancel</th>\n",
       "      <td>79384.0</td>\n",
       "      <td>1.682732e-17</td>\n",
       "      <td>1.000006</td>\n",
       "      <td>-0.129232</td>\n",
       "      <td>-0.129232</td>\n",
       "      <td>-0.129232</td>\n",
       "      <td>-0.129232</td>\n",
       "      <td>7.738042</td>\n",
       "    </tr>\n",
       "    <tr>\n",
       "      <th>arr_week</th>\n",
       "      <td>79384.0</td>\n",
       "      <td>-3.857754e-17</td>\n",
       "      <td>1.000006</td>\n",
       "      <td>-1.947356</td>\n",
       "      <td>-0.836489</td>\n",
       "      <td>0.052204</td>\n",
       "      <td>0.792782</td>\n",
       "      <td>1.903650</td>\n",
       "    </tr>\n",
       "    <tr>\n",
       "      <th>week_nights</th>\n",
       "      <td>79384.0</td>\n",
       "      <td>-7.093433e-17</td>\n",
       "      <td>1.000006</td>\n",
       "      <td>-1.631799</td>\n",
       "      <td>-0.994691</td>\n",
       "      <td>-0.357583</td>\n",
       "      <td>0.916633</td>\n",
       "      <td>2.190849</td>\n",
       "    </tr>\n",
       "    <tr>\n",
       "      <th>weekend_nights</th>\n",
       "      <td>79384.0</td>\n",
       "      <td>3.848803e-17</td>\n",
       "      <td>1.000006</td>\n",
       "      <td>-1.096539</td>\n",
       "      <td>-1.096539</td>\n",
       "      <td>-0.001710</td>\n",
       "      <td>1.093119</td>\n",
       "      <td>2.187948</td>\n",
       "    </tr>\n",
       "    <tr>\n",
       "      <th>meal_plan</th>\n",
       "      <td>79384.0</td>\n",
       "      <td>-3.705592e-17</td>\n",
       "      <td>1.000006</td>\n",
       "      <td>-2.732889</td>\n",
       "      <td>0.164750</td>\n",
       "      <td>0.164750</td>\n",
       "      <td>0.164750</td>\n",
       "      <td>3.062389</td>\n",
       "    </tr>\n",
       "    <tr>\n",
       "      <th>parking</th>\n",
       "      <td>79384.0</td>\n",
       "      <td>6.346050e-17</td>\n",
       "      <td>1.000006</td>\n",
       "      <td>-0.281326</td>\n",
       "      <td>-0.281326</td>\n",
       "      <td>-0.281326</td>\n",
       "      <td>-0.281326</td>\n",
       "      <td>3.554599</td>\n",
       "    </tr>\n",
       "    <tr>\n",
       "      <th>special_req</th>\n",
       "      <td>79384.0</td>\n",
       "      <td>2.434592e-17</td>\n",
       "      <td>1.000006</td>\n",
       "      <td>-0.893603</td>\n",
       "      <td>-0.893603</td>\n",
       "      <td>0.302367</td>\n",
       "      <td>0.302367</td>\n",
       "      <td>5.086250</td>\n",
       "    </tr>\n",
       "  </tbody>\n",
       "</table>\n",
       "</div>"
      ],
      "text/plain": [
       "                  count          mean       std        min       25%  \\\n",
       "daily_price     79384.0  1.101832e-15  1.000006 -13.091801 -0.549995   \n",
       "lead_time       79384.0 -2.898238e-16  1.000006  -2.523677 -0.577371   \n",
       "adults          79384.0  1.432113e-18  1.000006  -3.828204  0.181059   \n",
       "children        79384.0 -6.627997e-17  1.000006  -0.338780 -0.338780   \n",
       "repeated_guest  79384.0 -4.618564e-17  1.000006  -0.167244 -0.167244   \n",
       "total_book      79384.0  6.766733e-17  1.000006  -0.206544 -0.206544   \n",
       "pre_cancel      79384.0  1.682732e-17  1.000006  -0.129232 -0.129232   \n",
       "arr_week        79384.0 -3.857754e-17  1.000006  -1.947356 -0.836489   \n",
       "week_nights     79384.0 -7.093433e-17  1.000006  -1.631799 -0.994691   \n",
       "weekend_nights  79384.0  3.848803e-17  1.000006  -1.096539 -1.096539   \n",
       "meal_plan       79384.0 -3.705592e-17  1.000006  -2.732889  0.164750   \n",
       "parking         79384.0  6.346050e-17  1.000006  -0.281326 -0.281326   \n",
       "special_req     79384.0  2.434592e-17  1.000006  -0.893603 -0.893603   \n",
       "\n",
       "                     50%       75%       max  \n",
       "daily_price     0.022131  0.656223  3.570164  \n",
       "lead_time       0.216598  0.782105  1.985434  \n",
       "adults          0.181059  0.181059  4.190322  \n",
       "children       -0.338780 -0.338780  2.951772  \n",
       "repeated_guest -0.167244 -0.167244  5.979285  \n",
       "total_book     -0.206544 -0.206544  4.841579  \n",
       "pre_cancel     -0.129232 -0.129232  7.738042  \n",
       "arr_week        0.052204  0.792782  1.903650  \n",
       "week_nights    -0.357583  0.916633  2.190849  \n",
       "weekend_nights -0.001710  1.093119  2.187948  \n",
       "meal_plan       0.164750  0.164750  3.062389  \n",
       "parking        -0.281326 -0.281326  3.554599  \n",
       "special_req     0.302367  0.302367  5.086250  "
      ]
     },
     "execution_count": 222,
     "metadata": {},
     "output_type": "execute_result"
    }
   ],
   "source": [
    "X_train_scaled.describe().T"
   ]
  },
  {
   "cell_type": "markdown",
   "id": "e7462b9f",
   "metadata": {},
   "source": [
    "### GENERACIÓN DE BASELINE"
   ]
  },
  {
   "cell_type": "code",
   "execution_count": 223,
   "id": "1f4aa72a",
   "metadata": {},
   "outputs": [
    {
     "name": "stdout",
     "output_type": "stream",
     "text": [
      "LogisticRegression(max_iter=10000)\n",
      "DecisionTreeClassifier(random_state=42)\n",
      "RandomForestClassifier(random_state=42)\n",
      "XGBClassifier(base_score=None, booster=None, callbacks=None,\n",
      "              colsample_bylevel=None, colsample_bynode=None,\n",
      "              colsample_bytree=None, device=None, early_stopping_rounds=None,\n",
      "              enable_categorical=False, eval_metric=None, feature_types=None,\n",
      "              feature_weights=None, gamma=None, grow_policy=None,\n",
      "              importance_type=None, interaction_constraints=None,\n",
      "              learning_rate=None, max_bin=None, max_cat_threshold=None,\n",
      "              max_cat_to_onehot=None, max_delta_step=None, max_depth=None,\n",
      "              max_leaves=None, min_child_weight=None, missing=nan,\n",
      "              monotone_constraints=None, multi_strategy=None, n_estimators=None,\n",
      "              n_jobs=None, num_parallel_tree=None, ...)\n",
      "LGBMClassifier(random_state=42, verbose=-100)\n",
      "<catboost.core.CatBoostClassifier object at 0x00000263E7450560>\n",
      "Model <Logistic Regression>, Accuracy_CV: 0.6337755329239982\n",
      "Model <DecisionTree>, Accuracy_CV: 0.696846177608084\n",
      "Model <Random Forest>, Accuracy_CV: 0.7255843088082824\n",
      "Model <XGBoost>, Accuracy_CV: 0.6895302079915855\n",
      "Model <LightGBM>, Accuracy_CV: 0.6795987574065019\n",
      "Model <CatBoost>, Accuracy_CV: 0.6881689686285666\n",
      "El modelo con mejor métrica es Random Forest\n"
     ]
    }
   ],
   "source": [
    "# Escalado (StandarScaler) aplicado a Logistic Regression\n",
    "model_names = [\"Logistic Regression\",\"DecisionTree\",\"Random Forest\",\"XGBoost\",\"LightGBM\",\"CatBoost\"]\n",
    "clf_LR = LogisticRegression(max_iter = 10000)\n",
    "clf_DT = DecisionTreeClassifier(random_state = 42)\n",
    "clf_RF = RandomForestClassifier(random_state = 42)\n",
    "clf_XG = XGBClassifier(random_state = 42)\n",
    "clf_LG = LGBMClassifier(random_state = 42, verbose = -100)\n",
    "clf_CA = CatBoostClassifier(random_state = 42, verbose = False)\n",
    "model_set = [clf_LR, clf_DT, clf_RF, clf_XG, clf_LG, clf_CA]\n",
    "\n",
    "metricas_cv = {}\n",
    "valores = []\n",
    "for name,model in zip(model_names, model_set):\n",
    "    print(model)\n",
    "    if name != \"Logistic Regression\":\n",
    "        metricas_cv[name] = cross_val_score(model, X_train, y_train, cv = 5, scoring = \"balanced_accuracy\")\n",
    "    else:\n",
    "        metricas_cv[name] = cross_val_score(model, X_train_scaled, y_train, cv = 5, scoring = \"balanced_accuracy\")\n",
    "    valores.append(np.mean(metricas_cv[name]))\n",
    "ganador = list(metricas_cv.keys())[np.argmax(valores)]\n",
    "\n",
    "for model_name, valores in metricas_cv.items():\n",
    "    print(f\"Model <{model_name}>, Accuracy_CV: {np.mean(valores)}\")\n",
    "print(f\"El modelo con mejor métrica es {ganador}\")"
   ]
  },
  {
   "cell_type": "code",
   "execution_count": 224,
   "id": "200ec08e",
   "metadata": {},
   "outputs": [
    {
     "name": "stdout",
     "output_type": "stream",
     "text": [
      "              precision    recall  f1-score   support\n",
      "\n",
      "           0       0.83      0.89      0.86     13904\n",
      "           1       0.70      0.58      0.64      5959\n",
      "\n",
      "    accuracy                           0.80     19863\n",
      "   macro avg       0.77      0.74      0.75     19863\n",
      "weighted avg       0.79      0.80      0.79     19863\n",
      "\n"
     ]
    },
    {
     "data": {
      "image/png": "[encoded data removed]",
      "text/plain": [
       "<Figure size 640x480 with 2 Axes>"
      ]
     },
     "metadata": {},
     "output_type": "display_data"
    }
   ],
   "source": [
    "# Entrenar modelo\n",
    "clf_RF.fit(X_train, y_train)\n",
    "\n",
    "# Realizar predicciones y evaluar el modelo\n",
    "y_pred_RF = clf_RF.predict(X_test)\n",
    "print(classification_report(y_test, y_pred_RF))\n",
    "ConfusionMatrixDisplay.from_predictions(y_test, y_pred_RF);"
   ]
  },
  {
   "cell_type": "markdown",
   "id": "72f331a3",
   "metadata": {},
   "source": [
    "### BALANCEO DE TARGET"
   ]
  },
  {
   "cell_type": "code",
   "execution_count": 225,
   "id": "022af4fc",
   "metadata": {},
   "outputs": [
    {
     "name": "stdout",
     "output_type": "stream",
     "text": [
      "              precision    recall  f1-score   support\n",
      "\n",
      "           0       0.88      0.74      0.81     13904\n",
      "           1       0.56      0.77      0.65      5959\n",
      "\n",
      "    accuracy                           0.75     19863\n",
      "   macro avg       0.72      0.75      0.73     19863\n",
      "weighted avg       0.78      0.75      0.76     19863\n",
      "\n"
     ]
    },
    {
     "data": {
      "image/png": "[encoded data removed]",
      "text/plain": [
       "<Figure size 640x480 with 2 Axes>"
      ]
     },
     "metadata": {},
     "output_type": "display_data"
    }
   ],
   "source": [
    "# Se balancea el target empleando un undersampling (resample)\n",
    "\n",
    "feature_w = X_train[y_train == 0]\n",
    "feature_l = X_train[y_train == 1]\n",
    "feature_w_us = resample(feature_w, replace = False, n_samples = len(feature_l), random_state = 42)\n",
    "X_train_us = pd.concat([feature_w_us, feature_l])\n",
    "y_train_us = pd.concat([y_train.loc[feature_w_us.index], y_train.loc[feature_l.index]])\n",
    "\n",
    "# Entrenar el modelo con los datos bajomuestreados\n",
    "clf_RF_us = RandomForestClassifier(random_state = 42)\n",
    "clf_RF_us.fit(X_train_us, y_train_us)\n",
    "\n",
    "# Realizar predicciones y evaluar el modelo\n",
    "y_pred_RF_us = clf_RF_us.predict(X_test)\n",
    "print(classification_report(y_test, y_pred_RF_us))\n",
    "ConfusionMatrixDisplay.from_predictions(y_test, y_pred_RF_us);"
   ]
  },
  {
   "cell_type": "code",
   "execution_count": 226,
   "id": "5c994c74",
   "metadata": {},
   "outputs": [
    {
     "name": "stdout",
     "output_type": "stream",
     "text": [
      "              precision    recall  f1-score   support\n",
      "\n",
      "           0       0.83      0.89      0.86     13904\n",
      "           1       0.70      0.58      0.64      5959\n",
      "\n",
      "    accuracy                           0.80     19863\n",
      "   macro avg       0.77      0.74      0.75     19863\n",
      "weighted avg       0.79      0.80      0.79     19863\n",
      "\n"
     ]
    },
    {
     "data": {
      "image/png": "[encoded data removed]",
      "text/plain": [
       "<Figure size 640x480 with 2 Axes>"
      ]
     },
     "metadata": {},
     "output_type": "display_data"
    }
   ],
   "source": [
    "# Se balancea el target empleando 'class_weight'\n",
    "\n",
    "# Entrenar el modelo indicando 'class_weight'\n",
    "clf_RF_cw = RandomForestClassifier(random_state = 42, class_weight = \"balanced\")\n",
    "clf_RF_cw.fit(X_train, y_train)\n",
    "\n",
    "# Realizar predicciones y evaluar el modelo\n",
    "y_pred_RF_cw = clf_RF_cw.predict(X_test)\n",
    "print(classification_report(y_test, y_pred_RF_cw))\n",
    "ConfusionMatrixDisplay.from_predictions(y_test, y_pred_RF_cw);"
   ]
  },
  {
   "cell_type": "markdown",
   "id": "d8b407cc",
   "metadata": {},
   "source": [
    "### AJUSTE DE PARÁMETOS"
   ]
  },
  {
   "cell_type": "code",
   "execution_count": null,
   "id": "8fc5cf3f",
   "metadata": {},
   "outputs": [],
   "source": [
    "# Optimización de parámetros mediante Optuna\n",
    "\n",
    "def objective(trial):\n",
    "    # Suggest values for hyperparameters\n",
    "    criterion = trial.suggest_categorical(\"criterion\", [\"gini\",\"entropy\",\"log_loss\"])\n",
    "    n_estimators = trial.suggest_int(\"n_estimators\", 10, 1000, log = True)\n",
    "    max_depth = trial.suggest_int(\"max_depth\", 2, 32)\n",
    "    min_samples_split = trial.suggest_int(\"min_samples_split\", 2, 10)\n",
    "    min_samples_leaf = trial.suggest_int(\"min_samples_leaf\", 1, 10)\n",
    "\n",
    "    # Create and fit random forest model\n",
    "    model = RandomForestClassifier(\n",
    "        criterion = criterion,\n",
    "        n_estimators = n_estimators,\n",
    "        max_depth = max_depth,\n",
    "        min_samples_split = min_samples_split,\n",
    "        min_samples_leaf = min_samples_leaf,\n",
    "        random_state = 42,\n",
    "        )\n",
    "        \n",
    "    model.fit(X_train, y_train)\n",
    "    return model.score(X_test, y_test)"
   ]
  },
  {
   "cell_type": "code",
   "execution_count": 91,
   "id": "a6059340",
   "metadata": {},
   "outputs": [
    {
     "name": "stderr",
     "output_type": "stream",
     "text": [
      "[I 2025-06-30 16:08:23,391] A new study created in memory with name: no-name-47cb5f98-cd75-4eea-9838-a3018711022e\n",
      "[I 2025-06-30 16:08:32,734] Trial 0 finished with value: 0.7711826008155868 and parameters: {'criterion': 'entropy', 'n_estimators': 211, 'max_depth': 16, 'min_samples_split': 10, 'min_samples_leaf': 9}. Best is trial 0 with value: 0.7711826008155868.\n",
      "[I 2025-06-30 16:08:35,013] Trial 1 finished with value: 0.7806474349292655 and parameters: {'criterion': 'gini', 'n_estimators': 45, 'max_depth': 25, 'min_samples_split': 2, 'min_samples_leaf': 6}. Best is trial 1 with value: 0.7806474349292655.\n",
      "[I 2025-06-30 16:08:35,537] Trial 2 finished with value: 0.7606101797311584 and parameters: {'criterion': 'gini', 'n_estimators': 19, 'max_depth': 9, 'min_samples_split': 5, 'min_samples_leaf': 2}. Best is trial 1 with value: 0.7806474349292655.\n",
      "[I 2025-06-30 16:08:37,579] Trial 3 finished with value: 0.7396163721492222 and parameters: {'criterion': 'log_loss', 'n_estimators': 99, 'max_depth': 6, 'min_samples_split': 5, 'min_samples_leaf': 8}. Best is trial 1 with value: 0.7806474349292655.\n",
      "[I 2025-06-30 16:08:40,764] Trial 4 finished with value: 0.7885515783114333 and parameters: {'criterion': 'gini', 'n_estimators': 56, 'max_depth': 29, 'min_samples_split': 3, 'min_samples_leaf': 3}. Best is trial 4 with value: 0.7885515783114333.\n",
      "[I 2025-06-30 16:08:55,951] Trial 5 finished with value: 0.7661481145849066 and parameters: {'criterion': 'entropy', 'n_estimators': 424, 'max_depth': 12, 'min_samples_split': 9, 'min_samples_leaf': 4}. Best is trial 4 with value: 0.7885515783114333.\n",
      "[I 2025-06-30 16:09:05,430] Trial 6 finished with value: 0.7769722599808689 and parameters: {'criterion': 'log_loss', 'n_estimators': 192, 'max_depth': 18, 'min_samples_split': 2, 'min_samples_leaf': 5}. Best is trial 4 with value: 0.7885515783114333.\n",
      "[I 2025-06-30 16:09:06,273] Trial 7 finished with value: 0.7582439712027388 and parameters: {'criterion': 'gini', 'n_estimators': 35, 'max_depth': 8, 'min_samples_split': 7, 'min_samples_leaf': 10}. Best is trial 4 with value: 0.7885515783114333.\n",
      "[I 2025-06-30 16:09:07,825] Trial 8 finished with value: 0.7697729446709963 and parameters: {'criterion': 'entropy', 'n_estimators': 38, 'max_depth': 14, 'min_samples_split': 9, 'min_samples_leaf': 3}. Best is trial 4 with value: 0.7885515783114333.\n",
      "[I 2025-06-30 16:09:11,462] Trial 9 finished with value: 0.7798419171323566 and parameters: {'criterion': 'entropy', 'n_estimators': 64, 'max_depth': 29, 'min_samples_split': 6, 'min_samples_leaf': 6}. Best is trial 4 with value: 0.7885515783114333.\n",
      "[I 2025-06-30 16:09:12,161] Trial 10 finished with value: 0.7859839903337864 and parameters: {'criterion': 'gini', 'n_estimators': 10, 'max_depth': 31, 'min_samples_split': 3, 'min_samples_leaf': 1}. Best is trial 4 with value: 0.7885515783114333.\n",
      "[I 2025-06-30 16:09:13,017] Trial 11 finished with value: 0.7895081306952626 and parameters: {'criterion': 'gini', 'n_estimators': 12, 'max_depth': 32, 'min_samples_split': 3, 'min_samples_leaf': 1}. Best is trial 11 with value: 0.7895081306952626.\n",
      "[I 2025-06-30 16:09:13,642] Trial 12 finished with value: 0.7808991592407994 and parameters: {'criterion': 'gini', 'n_estimators': 10, 'max_depth': 23, 'min_samples_split': 4, 'min_samples_leaf': 1}. Best is trial 11 with value: 0.7895081306952626.\n",
      "[I 2025-06-30 16:09:14,788] Trial 13 finished with value: 0.7875950259276041 and parameters: {'criterion': 'gini', 'n_estimators': 20, 'max_depth': 32, 'min_samples_split': 3, 'min_samples_leaf': 3}. Best is trial 11 with value: 0.7895081306952626.\n",
      "[I 2025-06-30 16:10:06,399] Trial 14 finished with value: 0.7916226149121482 and parameters: {'criterion': 'gini', 'n_estimators': 859, 'max_depth': 25, 'min_samples_split': 4, 'min_samples_leaf': 2}. Best is trial 14 with value: 0.7916226149121482.\n",
      "[I 2025-06-30 16:11:03,692] Trial 15 finished with value: 0.7893067512460353 and parameters: {'criterion': 'gini', 'n_estimators': 992, 'max_depth': 22, 'min_samples_split': 5, 'min_samples_leaf': 1}. Best is trial 14 with value: 0.7916226149121482.\n",
      "[I 2025-06-30 16:11:10,060] Trial 16 finished with value: 0.6999949655137693 and parameters: {'criterion': 'log_loss', 'n_estimators': 709, 'max_depth': 2, 'min_samples_split': 7, 'min_samples_leaf': 2}. Best is trial 14 with value: 0.7916226149121482.\n",
      "[I 2025-06-30 16:11:18,769] Trial 17 finished with value: 0.7814026078638675 and parameters: {'criterion': 'gini', 'n_estimators': 170, 'max_depth': 26, 'min_samples_split': 4, 'min_samples_leaf': 5}. Best is trial 14 with value: 0.7916226149121482.\n",
      "[I 2025-06-30 16:11:35,737] Trial 18 finished with value: 0.7774253637416302 and parameters: {'criterion': 'gini', 'n_estimators': 363, 'max_depth': 20, 'min_samples_split': 4, 'min_samples_leaf': 7}. Best is trial 14 with value: 0.7916226149121482.\n",
      "[I 2025-06-30 16:11:42,155] Trial 19 finished with value: 0.7846246790515028 and parameters: {'criterion': 'log_loss', 'n_estimators': 106, 'max_depth': 27, 'min_samples_split': 2, 'min_samples_leaf': 4}. Best is trial 14 with value: 0.7916226149121482.\n",
      "[I 2025-06-30 16:11:43,490] Trial 20 finished with value: 0.788400543724513 and parameters: {'criterion': 'gini', 'n_estimators': 22, 'max_depth': 32, 'min_samples_split': 6, 'min_samples_leaf': 2}. Best is trial 14 with value: 0.7916226149121482.\n",
      "[I 2025-06-30 16:12:39,074] Trial 21 finished with value: 0.7892564063837285 and parameters: {'criterion': 'gini', 'n_estimators': 978, 'max_depth': 22, 'min_samples_split': 5, 'min_samples_leaf': 1}. Best is trial 14 with value: 0.7916226149121482.\n",
      "[I 2025-06-30 16:13:12,721] Trial 22 finished with value: 0.7930826159190455 and parameters: {'criterion': 'gini', 'n_estimators': 560, 'max_depth': 23, 'min_samples_split': 4, 'min_samples_leaf': 1}. Best is trial 22 with value: 0.7930826159190455.\n",
      "[I 2025-06-30 16:13:42,444] Trial 23 finished with value: 0.7937370991290339 and parameters: {'criterion': 'gini', 'n_estimators': 501, 'max_depth': 28, 'min_samples_split': 3, 'min_samples_leaf': 2}. Best is trial 23 with value: 0.7937370991290339.\n",
      "[I 2025-06-30 16:14:05,128] Trial 24 finished with value: 0.784070885566128 and parameters: {'criterion': 'gini', 'n_estimators': 439, 'max_depth': 24, 'min_samples_split': 4, 'min_samples_leaf': 4}. Best is trial 23 with value: 0.7937370991290339.\n",
      "[I 2025-06-30 16:14:35,048] Trial 25 finished with value: 0.7827115742838443 and parameters: {'criterion': 'gini', 'n_estimators': 608, 'max_depth': 19, 'min_samples_split': 6, 'min_samples_leaf': 2}. Best is trial 23 with value: 0.7937370991290339.\n",
      "[I 2025-06-30 16:14:50,692] Trial 26 finished with value: 0.7895081306952626 and parameters: {'criterion': 'gini', 'n_estimators': 280, 'max_depth': 28, 'min_samples_split': 3, 'min_samples_leaf': 3}. Best is trial 23 with value: 0.7937370991290339.\n",
      "[I 2025-06-30 16:15:27,515] Trial 27 finished with value: 0.7922770981221366 and parameters: {'criterion': 'gini', 'n_estimators': 621, 'max_depth': 25, 'min_samples_split': 4, 'min_samples_leaf': 2}. Best is trial 23 with value: 0.7937370991290339.\n",
      "[I 2025-06-30 16:15:57,916] Trial 28 finished with value: 0.7808991592407994 and parameters: {'criterion': 'log_loss', 'n_estimators': 556, 'max_depth': 21, 'min_samples_split': 7, 'min_samples_leaf': 4}. Best is trial 23 with value: 0.7937370991290339.\n",
      "[I 2025-06-30 16:16:10,230] Trial 29 finished with value: 0.7735991542063132 and parameters: {'criterion': 'entropy', 'n_estimators': 272, 'max_depth': 16, 'min_samples_split': 2, 'min_samples_leaf': 3}. Best is trial 23 with value: 0.7937370991290339.\n",
      "[I 2025-06-30 16:16:17,393] Trial 30 finished with value: 0.7740019131047676 and parameters: {'criterion': 'entropy', 'n_estimators': 148, 'max_depth': 16, 'min_samples_split': 5, 'min_samples_leaf': 2}. Best is trial 23 with value: 0.7937370991290339.\n",
      "[I 2025-06-30 16:17:01,800] Trial 31 finished with value: 0.7922267532598298 and parameters: {'criterion': 'gini', 'n_estimators': 745, 'max_depth': 25, 'min_samples_split': 4, 'min_samples_leaf': 2}. Best is trial 23 with value: 0.7937370991290339.\n",
      "[I 2025-06-30 16:17:37,284] Trial 32 finished with value: 0.7964053768312944 and parameters: {'criterion': 'gini', 'n_estimators': 534, 'max_depth': 26, 'min_samples_split': 4, 'min_samples_leaf': 1}. Best is trial 32 with value: 0.7964053768312944.\n",
      "[I 2025-06-30 16:17:58,248] Trial 33 finished with value: 0.7997281377435432 and parameters: {'criterion': 'gini', 'n_estimators': 314, 'max_depth': 30, 'min_samples_split': 3, 'min_samples_leaf': 1}. Best is trial 33 with value: 0.7997281377435432.\n",
      "[I 2025-06-30 16:18:20,878] Trial 34 finished with value: 0.798771585359714 and parameters: {'criterion': 'gini', 'n_estimators': 283, 'max_depth': 30, 'min_samples_split': 2, 'min_samples_leaf': 1}. Best is trial 33 with value: 0.7997281377435432.\n",
      "[I 2025-06-30 16:18:43,086] Trial 35 finished with value: 0.7991239993958617 and parameters: {'criterion': 'gini', 'n_estimators': 269, 'max_depth': 30, 'min_samples_split': 2, 'min_samples_leaf': 1}. Best is trial 33 with value: 0.7997281377435432.\n",
      "[I 2025-06-30 16:19:07,847] Trial 36 finished with value: 0.7988722750843277 and parameters: {'criterion': 'gini', 'n_estimators': 311, 'max_depth': 30, 'min_samples_split': 2, 'min_samples_leaf': 1}. Best is trial 33 with value: 0.7997281377435432.\n",
      "[I 2025-06-30 16:19:20,002] Trial 37 finished with value: 0.7785832955746866 and parameters: {'criterion': 'gini', 'n_estimators': 238, 'max_depth': 29, 'min_samples_split': 2, 'min_samples_leaf': 8}. Best is trial 33 with value: 0.7997281377435432.\n",
      "[I 2025-06-30 16:19:51,081] Trial 38 finished with value: 0.7995267582943161 and parameters: {'criterion': 'log_loss', 'n_estimators': 332, 'max_depth': 30, 'min_samples_split': 2, 'min_samples_leaf': 1}. Best is trial 33 with value: 0.7997281377435432.\n",
      "[I 2025-06-30 16:20:04,768] Trial 39 finished with value: 0.7900619241806374 and parameters: {'criterion': 'log_loss', 'n_estimators': 140, 'max_depth': 30, 'min_samples_split': 2, 'min_samples_leaf': 3}. Best is trial 33 with value: 0.7997281377435432.\n",
      "[I 2025-06-30 16:20:31,361] Trial 40 finished with value: 0.7766198459447213 and parameters: {'criterion': 'log_loss', 'n_estimators': 351, 'max_depth': 27, 'min_samples_split': 2, 'min_samples_leaf': 10}. Best is trial 33 with value: 0.7997281377435432.\n",
      "[I 2025-06-30 16:20:56,707] Trial 41 finished with value: 0.7996274480189297 and parameters: {'criterion': 'log_loss', 'n_estimators': 220, 'max_depth': 31, 'min_samples_split': 2, 'min_samples_leaf': 1}. Best is trial 33 with value: 0.7997281377435432.\n",
      "[I 2025-06-30 16:21:21,929] Trial 42 finished with value: 0.798771585359714 and parameters: {'criterion': 'log_loss', 'n_estimators': 222, 'max_depth': 30, 'min_samples_split': 3, 'min_samples_leaf': 1}. Best is trial 33 with value: 0.7997281377435432.\n",
      "[I 2025-06-30 16:22:01,661] Trial 43 finished with value: 0.7995267582943161 and parameters: {'criterion': 'log_loss', 'n_estimators': 356, 'max_depth': 31, 'min_samples_split': 2, 'min_samples_leaf': 1}. Best is trial 33 with value: 0.7997281377435432.\n",
      "[I 2025-06-30 16:22:13,177] Trial 44 finished with value: 0.7991743442581685 and parameters: {'criterion': 'log_loss', 'n_estimators': 117, 'max_depth': 32, 'min_samples_split': 3, 'min_samples_leaf': 1}. Best is trial 33 with value: 0.7997281377435432.\n",
      "[I 2025-06-30 16:22:18,313] Trial 45 finished with value: 0.7951467552736243 and parameters: {'criterion': 'log_loss', 'n_estimators': 66, 'max_depth': 32, 'min_samples_split': 3, 'min_samples_leaf': 2}. Best is trial 33 with value: 0.7997281377435432.\n",
      "[I 2025-06-30 16:22:26,103] Trial 46 finished with value: 0.7874439913406837 and parameters: {'criterion': 'log_loss', 'n_estimators': 117, 'max_depth': 28, 'min_samples_split': 10, 'min_samples_leaf': 3}. Best is trial 33 with value: 0.7997281377435432.\n",
      "[I 2025-06-30 16:22:45,480] Trial 47 finished with value: 0.7996777928812364 and parameters: {'criterion': 'log_loss', 'n_estimators': 180, 'max_depth': 31, 'min_samples_split': 3, 'min_samples_leaf': 1}. Best is trial 33 with value: 0.7997281377435432.\n",
      "[I 2025-06-30 16:22:54,319] Trial 48 finished with value: 0.7614156975280673 and parameters: {'criterion': 'log_loss', 'n_estimators': 180, 'max_depth': 10, 'min_samples_split': 3, 'min_samples_leaf': 9}. Best is trial 33 with value: 0.7997281377435432.\n",
      "[I 2025-06-30 16:23:34,495] Trial 49 finished with value: 0.7958515833459195 and parameters: {'criterion': 'log_loss', 'n_estimators': 389, 'max_depth': 31, 'min_samples_split': 2, 'min_samples_leaf': 2}. Best is trial 33 with value: 0.7997281377435432.\n",
      "[I 2025-06-30 16:23:40,330] Trial 50 finished with value: 0.7799426068569703 and parameters: {'criterion': 'log_loss', 'n_estimators': 73, 'max_depth': 27, 'min_samples_split': 9, 'min_samples_leaf': 6}. Best is trial 33 with value: 0.7997281377435432.\n",
      "[I 2025-06-30 16:23:50,201] Trial 51 finished with value: 0.7991239993958617 and parameters: {'criterion': 'log_loss', 'n_estimators': 90, 'max_depth': 31, 'min_samples_split': 3, 'min_samples_leaf': 1}. Best is trial 33 with value: 0.7997281377435432.\n",
      "[I 2025-06-30 16:24:13,540] Trial 52 finished with value: 0.7990736545335548 and parameters: {'criterion': 'log_loss', 'n_estimators': 203, 'max_depth': 32, 'min_samples_split': 3, 'min_samples_leaf': 1}. Best is trial 33 with value: 0.7997281377435432.\n",
      "[I 2025-06-30 16:24:29,577] Trial 53 finished with value: 0.7985702059104869 and parameters: {'criterion': 'log_loss', 'n_estimators': 140, 'max_depth': 29, 'min_samples_split': 2, 'min_samples_leaf': 1}. Best is trial 33 with value: 0.7997281377435432.\n",
      "[I 2025-06-30 16:24:54,153] Trial 54 finished with value: 0.7999295171927705 and parameters: {'criterion': 'log_loss', 'n_estimators': 222, 'max_depth': 31, 'min_samples_split': 3, 'min_samples_leaf': 1}. Best is trial 54 with value: 0.7999295171927705.\n",
      "[I 2025-06-30 16:25:35,155] Trial 55 finished with value: 0.7930826159190455 and parameters: {'criterion': 'log_loss', 'n_estimators': 436, 'max_depth': 28, 'min_samples_split': 2, 'min_samples_leaf': 2}. Best is trial 54 with value: 0.7999295171927705.\n",
      "[I 2025-06-30 16:25:59,905] Trial 56 finished with value: 0.7996777928812364 and parameters: {'criterion': 'log_loss', 'n_estimators': 231, 'max_depth': 31, 'min_samples_split': 3, 'min_samples_leaf': 1}. Best is trial 54 with value: 0.7999295171927705.\n",
      "[I 2025-06-30 16:26:02,186] Trial 57 finished with value: 0.6999949655137693 and parameters: {'criterion': 'log_loss', 'n_estimators': 162, 'max_depth': 2, 'min_samples_split': 3, 'min_samples_leaf': 2}. Best is trial 54 with value: 0.7999295171927705.\n",
      "[I 2025-06-30 16:26:21,823] Trial 58 finished with value: 0.7900619241806374 and parameters: {'criterion': 'log_loss', 'n_estimators': 220, 'max_depth': 29, 'min_samples_split': 3, 'min_samples_leaf': 3}. Best is trial 54 with value: 0.7999295171927705.\n",
      "[I 2025-06-30 16:26:36,780] Trial 59 finished with value: 0.7832653677692192 and parameters: {'criterion': 'entropy', 'n_estimators': 182, 'max_depth': 26, 'min_samples_split': 8, 'min_samples_leaf': 5}. Best is trial 54 with value: 0.7999295171927705.\n",
      "[I 2025-06-30 16:26:59,793] Trial 60 finished with value: 0.7948446860997835 and parameters: {'criterion': 'log_loss', 'n_estimators': 243, 'max_depth': 31, 'min_samples_split': 4, 'min_samples_leaf': 2}. Best is trial 54 with value: 0.7999295171927705.\n",
      "[I 2025-06-30 16:27:28,581] Trial 61 finished with value: 0.7992246891204753 and parameters: {'criterion': 'log_loss', 'n_estimators': 328, 'max_depth': 31, 'min_samples_split': 2, 'min_samples_leaf': 1}. Best is trial 54 with value: 0.7999295171927705.\n",
      "[I 2025-06-30 16:28:13,337] Trial 62 finished with value: 0.7983184815989528 and parameters: {'criterion': 'log_loss', 'n_estimators': 454, 'max_depth': 29, 'min_samples_split': 3, 'min_samples_leaf': 1}. Best is trial 54 with value: 0.7999295171927705.\n",
      "[I 2025-06-30 16:28:49,511] Trial 63 finished with value: 0.7993253788450888 and parameters: {'criterion': 'log_loss', 'n_estimators': 338, 'max_depth': 31, 'min_samples_split': 2, 'min_samples_leaf': 1}. Best is trial 54 with value: 0.7999295171927705.\n",
      "[I 2025-06-30 16:29:07,769] Trial 64 finished with value: 0.7933343402305795 and parameters: {'criterion': 'log_loss', 'n_estimators': 201, 'max_depth': 27, 'min_samples_split': 5, 'min_samples_leaf': 2}. Best is trial 54 with value: 0.7999295171927705.\n",
      "[I 2025-06-30 16:29:47,937] Trial 65 finished with value: 0.7997281377435432 and parameters: {'criterion': 'log_loss', 'n_estimators': 386, 'max_depth': 32, 'min_samples_split': 3, 'min_samples_leaf': 1}. Best is trial 54 with value: 0.7999295171927705.\n",
      "[I 2025-06-30 16:30:12,006] Trial 66 finished with value: 0.7955998590343856 and parameters: {'criterion': 'log_loss', 'n_estimators': 260, 'max_depth': 32, 'min_samples_split': 3, 'min_samples_leaf': 2}. Best is trial 54 with value: 0.7999295171927705.\n",
      "[I 2025-06-30 16:30:27,653] Trial 67 finished with value: 0.7986708956351004 and parameters: {'criterion': 'entropy', 'n_estimators': 155, 'max_depth': 28, 'min_samples_split': 3, 'min_samples_leaf': 1}. Best is trial 54 with value: 0.7999295171927705.\n",
      "[I 2025-06-30 16:30:58,619] Trial 68 finished with value: 0.799023309671248 and parameters: {'criterion': 'log_loss', 'n_estimators': 304, 'max_depth': 30, 'min_samples_split': 4, 'min_samples_leaf': 1}. Best is trial 54 with value: 0.7999295171927705.\n",
      "[I 2025-06-30 16:31:08,975] Trial 69 finished with value: 0.7890046820721945 and parameters: {'criterion': 'log_loss', 'n_estimators': 124, 'max_depth': 24, 'min_samples_split': 3, 'min_samples_leaf': 2}. Best is trial 54 with value: 0.7999295171927705.\n",
      "[I 2025-06-30 16:31:30,760] Trial 70 finished with value: 0.7696722549463827 and parameters: {'criterion': 'log_loss', 'n_estimators': 391, 'max_depth': 14, 'min_samples_split': 5, 'min_samples_leaf': 1}. Best is trial 54 with value: 0.7999295171927705.\n",
      "[I 2025-06-30 16:32:12,937] Trial 71 finished with value: 0.8000302069173841 and parameters: {'criterion': 'log_loss', 'n_estimators': 394, 'max_depth': 31, 'min_samples_split': 2, 'min_samples_leaf': 1}. Best is trial 71 with value: 0.8000302069173841.\n",
      "[I 2025-06-30 16:32:44,279] Trial 72 finished with value: 0.779489503096209 and parameters: {'criterion': 'log_loss', 'n_estimators': 494, 'max_depth': 30, 'min_samples_split': 2, 'min_samples_leaf': 7}. Best is trial 71 with value: 0.8000302069173841.\n",
      "[I 2025-06-30 16:33:23,180] Trial 73 finished with value: 0.7998791723304637 and parameters: {'criterion': 'log_loss', 'n_estimators': 401, 'max_depth': 32, 'min_samples_split': 3, 'min_samples_leaf': 1}. Best is trial 71 with value: 0.8000302069173841.\n",
      "[I 2025-06-30 16:34:00,272] Trial 74 finished with value: 0.7992750339827821 and parameters: {'criterion': 'log_loss', 'n_estimators': 407, 'max_depth': 32, 'min_samples_split': 4, 'min_samples_leaf': 1}. Best is trial 71 with value: 0.8000302069173841.\n",
      "[I 2025-06-30 16:34:56,755] Trial 75 finished with value: 0.795247444998238 and parameters: {'criterion': 'log_loss', 'n_estimators': 685, 'max_depth': 32, 'min_samples_split': 3, 'min_samples_leaf': 2}. Best is trial 71 with value: 0.8000302069173841.\n",
      "[I 2025-06-30 16:35:20,118] Trial 76 finished with value: 0.7963550319689876 and parameters: {'criterion': 'entropy', 'n_estimators': 239, 'max_depth': 28, 'min_samples_split': 4, 'min_samples_leaf': 1}. Best is trial 71 with value: 0.8000302069173841.\n",
      "[I 2025-06-30 16:35:50,030] Trial 77 finished with value: 0.8004833106781453 and parameters: {'criterion': 'log_loss', 'n_estimators': 290, 'max_depth': 31, 'min_samples_split': 3, 'min_samples_leaf': 1}. Best is trial 77 with value: 0.8004833106781453.\n",
      "[I 2025-06-30 16:36:17,193] Trial 78 finished with value: 0.7934350299551931 and parameters: {'criterion': 'log_loss', 'n_estimators': 295, 'max_depth': 29, 'min_samples_split': 4, 'min_samples_leaf': 2}. Best is trial 77 with value: 0.8004833106781453.\n",
      "[I 2025-06-30 16:37:05,141] Trial 79 finished with value: 0.7983688264612596 and parameters: {'criterion': 'log_loss', 'n_estimators': 467, 'max_depth': 29, 'min_samples_split': 3, 'min_samples_leaf': 1}. Best is trial 77 with value: 0.8004833106781453.\n",
      "[I 2025-06-30 16:38:17,169] Trial 80 finished with value: 0.7903136484921713 and parameters: {'criterion': 'log_loss', 'n_estimators': 842, 'max_depth': 31, 'min_samples_split': 3, 'min_samples_leaf': 3}. Best is trial 77 with value: 0.8004833106781453.\n",
      "[I 2025-06-30 16:38:38,538] Trial 81 finished with value: 0.7992750339827821 and parameters: {'criterion': 'log_loss', 'n_estimators': 205, 'max_depth': 32, 'min_samples_split': 3, 'min_samples_leaf': 1}. Best is trial 77 with value: 0.8004833106781453.\n",
      "[I 2025-06-30 16:39:02,716] Trial 82 finished with value: 0.7998791723304637 and parameters: {'criterion': 'log_loss', 'n_estimators': 257, 'max_depth': 31, 'min_samples_split': 3, 'min_samples_leaf': 1}. Best is trial 77 with value: 0.8004833106781453.\n",
      "[I 2025-06-30 16:39:24,745] Trial 83 finished with value: 0.7996274480189297 and parameters: {'criterion': 'log_loss', 'n_estimators': 267, 'max_depth': 30, 'min_samples_split': 4, 'min_samples_leaf': 1}. Best is trial 77 with value: 0.8004833106781453.\n",
      "[I 2025-06-30 16:39:57,660] Trial 84 finished with value: 0.79977848260585 and parameters: {'criterion': 'log_loss', 'n_estimators': 380, 'max_depth': 31, 'min_samples_split': 3, 'min_samples_leaf': 1}. Best is trial 77 with value: 0.8004833106781453.\n",
      "[I 2025-06-30 16:40:58,975] Trial 85 finished with value: 0.7949453758243972 and parameters: {'criterion': 'log_loss', 'n_estimators': 619, 'max_depth': 32, 'min_samples_split': 3, 'min_samples_leaf': 2}. Best is trial 77 with value: 0.8004833106781453.\n",
      "[I 2025-06-30 16:41:37,032] Trial 86 finished with value: 0.7991743442581685 and parameters: {'criterion': 'log_loss', 'n_estimators': 356, 'max_depth': 30, 'min_samples_split': 3, 'min_samples_leaf': 1}. Best is trial 77 with value: 0.8004833106781453.\n",
      "[I 2025-06-30 16:42:05,865] Trial 87 finished with value: 0.7813522630015607 and parameters: {'criterion': 'log_loss', 'n_estimators': 393, 'max_depth': 18, 'min_samples_split': 4, 'min_samples_leaf': 1}. Best is trial 77 with value: 0.8004833106781453.\n",
      "[I 2025-06-30 16:43:00,152] Trial 88 finished with value: 0.7933343402305795 and parameters: {'criterion': 'log_loss', 'n_estimators': 550, 'max_depth': 29, 'min_samples_split': 3, 'min_samples_leaf': 2}. Best is trial 77 with value: 0.8004833106781453.\n",
      "[I 2025-06-30 16:43:29,141] Trial 89 finished with value: 0.7927805467452047 and parameters: {'criterion': 'entropy', 'n_estimators': 298, 'max_depth': 31, 'min_samples_split': 5, 'min_samples_leaf': 2}. Best is trial 77 with value: 0.8004833106781453.\n",
      "[I 2025-06-30 16:43:32,571] Trial 90 finished with value: 0.7948446860997835 and parameters: {'criterion': 'log_loss', 'n_estimators': 33, 'max_depth': 28, 'min_samples_split': 2, 'min_samples_leaf': 1}. Best is trial 77 with value: 0.8004833106781453.\n",
      "[I 2025-06-30 16:43:54,958] Trial 91 finished with value: 0.7995771031566229 and parameters: {'criterion': 'log_loss', 'n_estimators': 256, 'max_depth': 31, 'min_samples_split': 3, 'min_samples_leaf': 1}. Best is trial 77 with value: 0.8004833106781453.\n",
      "[I 2025-06-30 16:44:22,243] Trial 92 finished with value: 0.8002315863666113 and parameters: {'criterion': 'log_loss', 'n_estimators': 317, 'max_depth': 32, 'min_samples_split': 3, 'min_samples_leaf': 1}. Best is trial 77 with value: 0.8004833106781453.\n",
      "[I 2025-06-30 16:45:04,646] Trial 93 finished with value: 0.7998288274681569 and parameters: {'criterion': 'log_loss', 'n_estimators': 492, 'max_depth': 32, 'min_samples_split': 4, 'min_samples_leaf': 1}. Best is trial 77 with value: 0.8004833106781453.\n",
      "[I 2025-06-30 16:45:47,677] Trial 94 finished with value: 0.7996274480189297 and parameters: {'criterion': 'log_loss', 'n_estimators': 516, 'max_depth': 32, 'min_samples_split': 4, 'min_samples_leaf': 1}. Best is trial 77 with value: 0.8004833106781453.\n",
      "[I 2025-06-30 16:46:23,504] Trial 95 finished with value: 0.7992246891204753 and parameters: {'criterion': 'log_loss', 'n_estimators': 428, 'max_depth': 30, 'min_samples_split': 4, 'min_samples_leaf': 1}. Best is trial 77 with value: 0.8004833106781453.\n",
      "[I 2025-06-30 16:46:32,422] Trial 96 finished with value: 0.7359411972008256 and parameters: {'criterion': 'log_loss', 'n_estimators': 386, 'max_depth': 6, 'min_samples_split': 2, 'min_samples_leaf': 2}. Best is trial 77 with value: 0.8004833106781453.\n",
      "[I 2025-06-30 16:46:56,307] Trial 97 finished with value: 0.8002819312289181 and parameters: {'criterion': 'gini', 'n_estimators': 322, 'max_depth': 32, 'min_samples_split': 3, 'min_samples_leaf': 1}. Best is trial 77 with value: 0.8004833106781453.\n",
      "[I 2025-06-30 16:47:18,930] Trial 98 finished with value: 0.7956502038966924 and parameters: {'criterion': 'gini', 'n_estimators': 333, 'max_depth': 30, 'min_samples_split': 7, 'min_samples_leaf': 1}. Best is trial 77 with value: 0.8004833106781453.\n",
      "[I 2025-06-30 16:47:49,348] Trial 99 finished with value: 0.793183305643659 and parameters: {'criterion': 'gini', 'n_estimators': 472, 'max_depth': 29, 'min_samples_split': 3, 'min_samples_leaf': 2}. Best is trial 77 with value: 0.8004833106781453.\n"
     ]
    },
    {
     "name": "stdout",
     "output_type": "stream",
     "text": [
      "Best parameters: {'criterion': 'log_loss', 'n_estimators': 290, 'max_depth': 31, 'min_samples_split': 3, 'min_samples_leaf': 1}\n",
      "Best score: 0.8004833106781453\n"
     ]
    }
   ],
   "source": [
    "study = optuna.create_study(direction = 'maximize')\n",
    "study.optimize(objective, n_trials = 100)\n",
    "\n",
    "print(f\"Best parameters: {study.best_params}\")\n",
    "print(f\"Best score: {study.best_value}\")"
   ]
  },
  {
   "cell_type": "code",
   "execution_count": 227,
   "id": "0cef5255",
   "metadata": {},
   "outputs": [
    {
     "name": "stdout",
     "output_type": "stream",
     "text": [
      "              precision    recall  f1-score   support\n",
      "\n",
      "           0       0.88      0.74      0.81     13904\n",
      "           1       0.56      0.77      0.65      5959\n",
      "\n",
      "    accuracy                           0.75     19863\n",
      "   macro avg       0.72      0.75      0.73     19863\n",
      "weighted avg       0.79      0.75      0.76     19863\n",
      "\n"
     ]
    },
    {
     "data": {
      "image/png": "[encoded data removed]",
      "text/plain": [
       "<Figure size 640x480 with 2 Axes>"
      ]
     },
     "metadata": {},
     "output_type": "display_data"
    }
   ],
   "source": [
    "# Entrenar el modelo indicando los mejores parámetros\n",
    "clf_RF_op = RandomForestClassifier(criterion = \"log_loss\", n_estimators = 290, max_depth = 31, min_samples_split = 3, min_samples_leaf = 1, random_state = 42)\n",
    "clf_RF_op.fit(X_train_us, y_train_us)\n",
    "\n",
    "# Realizar predicciones y evaluar el modelo\n",
    "y_pred_RF_op = clf_RF_op.predict(X_test)\n",
    "print(classification_report(y_test, y_pred_RF_op))\n",
    "ConfusionMatrixDisplay.from_predictions(y_test, y_pred_RF_op);"
   ]
  },
  {
   "cell_type": "code",
   "execution_count": 229,
   "id": "d1271553",
   "metadata": {},
   "outputs": [],
   "source": [
    "# Optimización de parámetros por GridSearchCV\n",
    "\n",
    "parameters = {\n",
    "    \"n_estimators\": [100,200,300],\n",
    "    \"max_depth\": [None],\n",
    "    \"min_samples_leaf\": [1,2,4],\n",
    "    \"min_samples_split\": [2,5,10],\n",
    "    \"max_features\": [\"sqrt\",\"log2\",None]}\n",
    "\n",
    "grid_RF = GridSearchCV(clf_RF,\n",
    "                       param_grid = parameters,\n",
    "                       cv = 5,\n",
    "                       scoring = \"balanced_accuracy\",\n",
    "                       n_jobs = -1)"
   ]
  },
  {
   "cell_type": "code",
   "execution_count": 230,
   "id": "a9c5a292",
   "metadata": {},
   "outputs": [
    {
     "name": "stdout",
     "output_type": "stream",
     "text": [
      "0.7303632985163672\n",
      "{'max_depth': None, 'max_features': None, 'min_samples_leaf': 1, 'min_samples_split': 2, 'n_estimators': 300}\n",
      "              precision    recall  f1-score   support\n",
      "\n",
      "           0       0.84      0.88      0.86     13904\n",
      "           1       0.69      0.60      0.64      5959\n",
      "\n",
      "    accuracy                           0.80     19863\n",
      "   macro avg       0.76      0.74      0.75     19863\n",
      "weighted avg       0.79      0.80      0.80     19863\n",
      "\n"
     ]
    },
    {
     "data": {
      "text/plain": [
       "<sklearn.metrics._plot.confusion_matrix.ConfusionMatrixDisplay at 0x263e741e9d0>"
      ]
     },
     "execution_count": 230,
     "metadata": {},
     "output_type": "execute_result"
    },
    {
     "data": {
      "image/png": "[encoded data removed]",
      "text/plain": [
       "<Figure size 640x480 with 2 Axes>"
      ]
     },
     "metadata": {},
     "output_type": "display_data"
    }
   ],
   "source": [
    "# Entrenar el modelo indicando los mejores parámetros\n",
    "grid_RF.fit(X_train, y_train)\n",
    "print(grid_RF.best_score_)\n",
    "print(grid_RF.best_params_)\n",
    "\n",
    "# Realizar predicciones y evaluar el modelo\n",
    "y_pred_RF_gs = grid_RF.best_estimator_.predict(X_test)\n",
    "print(classification_report(y_test, y_pred_RF_gs))\n",
    "ConfusionMatrixDisplay.from_predictions(y_test, y_pred_RF_gs)"
   ]
  },
  {
   "cell_type": "markdown",
   "id": "7db69220",
   "metadata": {},
   "source": [
    "### REPLANTEAMIENTO DE FEATURES"
   ]
  },
  {
   "cell_type": "code",
   "execution_count": 241,
   "id": "698c4d30",
   "metadata": {},
   "outputs": [],
   "source": [
    "# Se descarta la variable 'arr_week', que mostró poca relación estadística con el 'target'\n",
    "X_train2 = X_train.copy()\n",
    "X_train2.drop(columns = [\"arr_week\"], inplace = True)\n",
    "\n",
    "X_test2 = X_test.copy()\n",
    "X_test2.drop(columns = [\"arr_week\"], inplace = True)"
   ]
  },
  {
   "cell_type": "code",
   "execution_count": 244,
   "id": "9369a308",
   "metadata": {},
   "outputs": [
    {
     "name": "stdout",
     "output_type": "stream",
     "text": [
      "              precision    recall  f1-score   support\n",
      "\n",
      "           0       0.83      0.88      0.85     13904\n",
      "           1       0.67      0.57      0.61      5959\n",
      "\n",
      "    accuracy                           0.79     19863\n",
      "   macro avg       0.75      0.72      0.73     19863\n",
      "weighted avg       0.78      0.79      0.78     19863\n",
      "\n"
     ]
    },
    {
     "data": {
      "image/png": "[encoded data removed]",
      "text/plain": [
       "<Figure size 640x480 with 2 Axes>"
      ]
     },
     "metadata": {},
     "output_type": "display_data"
    }
   ],
   "source": [
    "# Entrenar modelo\n",
    "clf_RF.fit(X_train2, y_train)\n",
    "\n",
    "# Realizar predicciones y evaluar el modelo\n",
    "y_pred2_RF = clf_RF.predict(X_test2)\n",
    "print(classification_report(y_test, y_pred2_RF))\n",
    "ConfusionMatrixDisplay.from_predictions(y_test, y_pred2_RF);"
   ]
  },
  {
   "cell_type": "code",
   "execution_count": 259,
   "id": "c7f5fdb4",
   "metadata": {},
   "outputs": [
    {
     "name": "stdout",
     "output_type": "stream",
     "text": [
      "[1 1 1 1 1 2 1 1 1 1 1 1 1]\n"
     ]
    },
    {
     "data": {
      "text/html": [
       "<div>\n",
       "<style scoped>\n",
       "    .dataframe tbody tr th:only-of-type {\n",
       "        vertical-align: middle;\n",
       "    }\n",
       "\n",
       "    .dataframe tbody tr th {\n",
       "        vertical-align: top;\n",
       "    }\n",
       "\n",
       "    .dataframe thead th {\n",
       "        text-align: right;\n",
       "    }\n",
       "</style>\n",
       "<table border=\"1\" class=\"dataframe\">\n",
       "  <thead>\n",
       "    <tr style=\"text-align: right;\">\n",
       "      <th></th>\n",
       "      <th>ranking</th>\n",
       "    </tr>\n",
       "  </thead>\n",
       "  <tbody>\n",
       "    <tr>\n",
       "      <th>daily_price</th>\n",
       "      <td>1</td>\n",
       "    </tr>\n",
       "    <tr>\n",
       "      <th>lead_time</th>\n",
       "      <td>1</td>\n",
       "    </tr>\n",
       "    <tr>\n",
       "      <th>adults</th>\n",
       "      <td>1</td>\n",
       "    </tr>\n",
       "    <tr>\n",
       "      <th>children</th>\n",
       "      <td>1</td>\n",
       "    </tr>\n",
       "    <tr>\n",
       "      <th>repeated_guest</th>\n",
       "      <td>1</td>\n",
       "    </tr>\n",
       "    <tr>\n",
       "      <th>pre_cancel</th>\n",
       "      <td>1</td>\n",
       "    </tr>\n",
       "    <tr>\n",
       "      <th>arr_week</th>\n",
       "      <td>1</td>\n",
       "    </tr>\n",
       "    <tr>\n",
       "      <th>week_nights</th>\n",
       "      <td>1</td>\n",
       "    </tr>\n",
       "    <tr>\n",
       "      <th>special_req</th>\n",
       "      <td>1</td>\n",
       "    </tr>\n",
       "    <tr>\n",
       "      <th>weekend_nights</th>\n",
       "      <td>1</td>\n",
       "    </tr>\n",
       "    <tr>\n",
       "      <th>meal_plan</th>\n",
       "      <td>1</td>\n",
       "    </tr>\n",
       "    <tr>\n",
       "      <th>parking</th>\n",
       "      <td>1</td>\n",
       "    </tr>\n",
       "    <tr>\n",
       "      <th>total_book</th>\n",
       "      <td>2</td>\n",
       "    </tr>\n",
       "  </tbody>\n",
       "</table>\n",
       "</div>"
      ],
      "text/plain": [
       "                ranking\n",
       "daily_price           1\n",
       "lead_time             1\n",
       "adults                1\n",
       "children              1\n",
       "repeated_guest        1\n",
       "pre_cancel            1\n",
       "arr_week              1\n",
       "week_nights           1\n",
       "special_req           1\n",
       "weekend_nights        1\n",
       "meal_plan             1\n",
       "parking               1\n",
       "total_book            2"
      ]
     },
     "execution_count": 259,
     "metadata": {},
     "output_type": "execute_result"
    }
   ],
   "source": [
    "clf_RF_rf = RandomForestClassifier(max_depth = None, max_features = None, min_samples_leaf = 1, min_samples_split = 2, n_estimators = 300, random_state = 42)\n",
    "features = X_train.columns.to_list()\n",
    "\n",
    "rfe = RFE(estimator = clf_RF_rf, n_features_to_select = 12, step = 1)\n",
    "rfe.fit(X_train, y_train)\n",
    "print(rfe.ranking_)\n",
    "pd.DataFrame(rfe.ranking_, columns = [\"ranking\"], index = features).sort_values(\"ranking\")"
   ]
  },
  {
   "cell_type": "code",
   "execution_count": 260,
   "id": "22be92b9",
   "metadata": {},
   "outputs": [],
   "source": [
    "rfe.transform(X_train)\n",
    "X_train_rfe = pd.DataFrame(rfe.transform(X_train), columns = rfe.get_feature_names_out())\n",
    "features_sel = X_train_rfe.columns.to_list()\n",
    "X_test_rfe = X_test[features_sel]"
   ]
  },
  {
   "cell_type": "code",
   "execution_count": 261,
   "id": "60868c22",
   "metadata": {},
   "outputs": [
    {
     "name": "stdout",
     "output_type": "stream",
     "text": [
      "              precision    recall  f1-score   support\n",
      "\n",
      "           0       0.83      0.90      0.86     13904\n",
      "           1       0.70      0.58      0.64      5959\n",
      "\n",
      "    accuracy                           0.80     19863\n",
      "   macro avg       0.77      0.74      0.75     19863\n",
      "weighted avg       0.79      0.80      0.79     19863\n",
      "\n"
     ]
    },
    {
     "data": {
      "image/png": "[encoded data removed]",
      "text/plain": [
       "<Figure size 640x480 with 2 Axes>"
      ]
     },
     "metadata": {},
     "output_type": "display_data"
    }
   ],
   "source": [
    "# Entrenar modelo\n",
    "clf_RF.fit(X_train_rfe, y_train)\n",
    "\n",
    "# Realizar predicciones y evaluar el modelo\n",
    "y_pred_RF_rfe = clf_RF.predict(X_test_rfe)\n",
    "print(classification_report(y_test, y_pred_RF_rfe))\n",
    "ConfusionMatrixDisplay.from_predictions(y_test, y_pred_RF_rfe);"
   ]
  },
  {
   "cell_type": "code",
   "execution_count": 262,
   "id": "b9ba23f7",
   "metadata": {},
   "outputs": [
    {
     "name": "stdout",
     "output_type": "stream",
     "text": [
      "[1 1 1 1 2 3 1 1 1 1 1 1 1]\n",
      "              precision    recall  f1-score   support\n",
      "\n",
      "           0       0.83      0.89      0.86     13904\n",
      "           1       0.70      0.58      0.63      5959\n",
      "\n",
      "    accuracy                           0.80     19863\n",
      "   macro avg       0.76      0.74      0.75     19863\n",
      "weighted avg       0.79      0.80      0.79     19863\n",
      "\n"
     ]
    },
    {
     "data": {
      "image/png": "[encoded data removed]",
      "text/plain": [
       "<Figure size 640x480 with 2 Axes>"
      ]
     },
     "metadata": {},
     "output_type": "display_data"
    }
   ],
   "source": [
    "clf_RF_rf = RandomForestClassifier(max_depth = None, max_features = None, min_samples_leaf = 1, min_samples_split = 2, n_estimators = 300, random_state = 42)\n",
    "features = X_train.columns.to_list()\n",
    "\n",
    "rfe = RFE(estimator = clf_RF_rf, n_features_to_select = 11, step = 1)\n",
    "rfe.fit(X_train, y_train)\n",
    "print(rfe.ranking_)\n",
    "pd.DataFrame(rfe.ranking_, columns = [\"ranking\"], index = features).sort_values(\"ranking\")\n",
    "\n",
    "rfe.transform(X_train)\n",
    "X_train_rfe = pd.DataFrame(rfe.transform(X_train), columns = rfe.get_feature_names_out())\n",
    "features_sel = X_train_rfe.columns.to_list()\n",
    "X_test_rfe = X_test[features_sel]\n",
    "\n",
    "# Entrenar modelo\n",
    "clf_RF.fit(X_train_rfe, y_train)\n",
    "\n",
    "# Realizar predicciones y evaluar el modelo\n",
    "y_pred_RF_rfe = clf_RF.predict(X_test_rfe)\n",
    "print(classification_report(y_test, y_pred_RF_rfe))\n",
    "ConfusionMatrixDisplay.from_predictions(y_test, y_pred_RF_rfe);"
   ]
  },
  {
   "cell_type": "code",
   "execution_count": 263,
   "id": "ad1d1997",
   "metadata": {},
   "outputs": [
    {
     "name": "stdout",
     "output_type": "stream",
     "text": [
      "[1 1 1 2 3 4 1 1 1 1 1 1 1]\n",
      "              precision    recall  f1-score   support\n",
      "\n",
      "           0       0.83      0.89      0.86     13904\n",
      "           1       0.70      0.59      0.64      5959\n",
      "\n",
      "    accuracy                           0.80     19863\n",
      "   macro avg       0.77      0.74      0.75     19863\n",
      "weighted avg       0.79      0.80      0.80     19863\n",
      "\n"
     ]
    },
    {
     "data": {
      "image/png": "[encoded data removed]",
      "text/plain": [
       "<Figure size 640x480 with 2 Axes>"
      ]
     },
     "metadata": {},
     "output_type": "display_data"
    }
   ],
   "source": [
    "clf_RF_rf = RandomForestClassifier(max_depth = None, max_features = None, min_samples_leaf = 1, min_samples_split = 2, n_estimators = 300, random_state = 42)\n",
    "features = X_train.columns.to_list()\n",
    "\n",
    "rfe = RFE(estimator = clf_RF_rf, n_features_to_select = 10, step = 1)\n",
    "rfe.fit(X_train, y_train)\n",
    "print(rfe.ranking_)\n",
    "pd.DataFrame(rfe.ranking_, columns = [\"ranking\"], index = features).sort_values(\"ranking\")\n",
    "\n",
    "rfe.transform(X_train)\n",
    "X_train_rfe = pd.DataFrame(rfe.transform(X_train), columns = rfe.get_feature_names_out())\n",
    "features_sel = X_train_rfe.columns.to_list()\n",
    "X_test_rfe = X_test[features_sel]\n",
    "\n",
    "# Entrenar modelo\n",
    "clf_RF.fit(X_train_rfe, y_train)\n",
    "\n",
    "# Realizar predicciones y evaluar el modelo\n",
    "y_pred_RF_rfe = clf_RF.predict(X_test_rfe)\n",
    "print(classification_report(y_test, y_pred_RF_rfe))\n",
    "ConfusionMatrixDisplay.from_predictions(y_test, y_pred_RF_rfe);"
   ]
  },
  {
   "cell_type": "code",
   "execution_count": 264,
   "id": "4be29456",
   "metadata": {},
   "outputs": [
    {
     "name": "stdout",
     "output_type": "stream",
     "text": [
      "[1 1 1 3 4 5 2 1 1 1 1 1 1]\n",
      "              precision    recall  f1-score   support\n",
      "\n",
      "           0       0.83      0.89      0.86     13904\n",
      "           1       0.69      0.57      0.62      5959\n",
      "\n",
      "    accuracy                           0.79     19863\n",
      "   macro avg       0.76      0.73      0.74     19863\n",
      "weighted avg       0.79      0.79      0.79     19863\n",
      "\n"
     ]
    },
    {
     "data": {
      "image/png": "[encoded data removed]",
      "text/plain": [
       "<Figure size 640x480 with 2 Axes>"
      ]
     },
     "metadata": {},
     "output_type": "display_data"
    }
   ],
   "source": [
    "clf_RF_rf = RandomForestClassifier(max_depth = None, max_features = None, min_samples_leaf = 1, min_samples_split = 2, n_estimators = 300, random_state = 42)\n",
    "features = X_train.columns.to_list()\n",
    "\n",
    "rfe = RFE(estimator = clf_RF_rf, n_features_to_select = 9, step = 1)\n",
    "rfe.fit(X_train, y_train)\n",
    "print(rfe.ranking_)\n",
    "pd.DataFrame(rfe.ranking_, columns = [\"ranking\"], index = features).sort_values(\"ranking\")\n",
    "\n",
    "rfe.transform(X_train)\n",
    "X_train_rfe = pd.DataFrame(rfe.transform(X_train), columns = rfe.get_feature_names_out())\n",
    "features_sel = X_train_rfe.columns.to_list()\n",
    "X_test_rfe = X_test[features_sel]\n",
    "\n",
    "# Entrenar modelo\n",
    "clf_RF.fit(X_train_rfe, y_train)\n",
    "\n",
    "# Realizar predicciones y evaluar el modelo\n",
    "y_pred_RF_rfe = clf_RF.predict(X_test_rfe)\n",
    "print(classification_report(y_test, y_pred_RF_rfe))\n",
    "ConfusionMatrixDisplay.from_predictions(y_test, y_pred_RF_rfe);"
   ]
  },
  {
   "cell_type": "code",
   "execution_count": 265,
   "id": "55f925ac",
   "metadata": {},
   "outputs": [
    {
     "name": "stdout",
     "output_type": "stream",
     "text": [
      "[1 1 1 4 5 6 3 1 1 1 1 2 1]\n",
      "              precision    recall  f1-score   support\n",
      "\n",
      "           0       0.82      0.89      0.85     13904\n",
      "           1       0.68      0.54      0.60      5959\n",
      "\n",
      "    accuracy                           0.78     19863\n",
      "   macro avg       0.75      0.71      0.72     19863\n",
      "weighted avg       0.77      0.78      0.78     19863\n",
      "\n"
     ]
    },
    {
     "data": {
      "image/png": "[encoded data removed]",
      "text/plain": [
       "<Figure size 640x480 with 2 Axes>"
      ]
     },
     "metadata": {},
     "output_type": "display_data"
    }
   ],
   "source": [
    "clf_RF_rf = RandomForestClassifier(max_depth = None, max_features = None, min_samples_leaf = 1, min_samples_split = 2, n_estimators = 300, random_state = 42)\n",
    "features = X_train.columns.to_list()\n",
    "\n",
    "rfe = RFE(estimator = clf_RF_rf, n_features_to_select = 8, step = 1)\n",
    "rfe.fit(X_train, y_train)\n",
    "print(rfe.ranking_)\n",
    "pd.DataFrame(rfe.ranking_, columns = [\"ranking\"], index = features).sort_values(\"ranking\")\n",
    "\n",
    "rfe.transform(X_train)\n",
    "X_train_rfe = pd.DataFrame(rfe.transform(X_train), columns = rfe.get_feature_names_out())\n",
    "features_sel = X_train_rfe.columns.to_list()\n",
    "X_test_rfe = X_test[features_sel]\n",
    "\n",
    "# Entrenar modelo\n",
    "clf_RF.fit(X_train_rfe, y_train)\n",
    "\n",
    "# Realizar predicciones y evaluar el modelo\n",
    "y_pred_RF_rfe = clf_RF.predict(X_test_rfe)\n",
    "print(classification_report(y_test, y_pred_RF_rfe))\n",
    "ConfusionMatrixDisplay.from_predictions(y_test, y_pred_RF_rfe);"
   ]
  },
  {
   "cell_type": "markdown",
   "id": "0f2ff3d3",
   "metadata": {},
   "source": [
    "## CONCLUSIONES"
   ]
  },
  {
   "cell_type": "markdown",
   "id": "5c9e0dd5",
   "metadata": {},
   "source": [
    "El mejor resultado se obtiene con una selección de 10 variables, aplicada a un modelo RandomForestClassifier.  \n",
    "Sin embargo, los resultados no son muy diferentes si se emplean todas las variables y se indica la opción 'balanced' en el 'class_weight' del modelo, o incluso si se entrena el modelo sin optimización de hiperparámetros o features.  \n",
    "En ninguno de los casos se ha superado el 80% de accuracy."
   ]
  }
 ],
 "metadata": {
  "kernelspec": {
   "display_name": "Python 3",
   "language": "python",
   "name": "python3"
  },
  "language_info": {
   "codemirror_mode": {
    "name": "ipython",
    "version": 3
   },
   "file_extension": ".py",
   "mimetype": "text/x-python",
   "name": "python",
   "nbconvert_exporter": "python",
   "pygments_lexer": "ipython3",
   "version": "3.13.2"
  }
 },
 "nbformat": 4,
 "nbformat_minor": 5
}
