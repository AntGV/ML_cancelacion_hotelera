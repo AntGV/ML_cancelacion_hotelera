{
 "cells": [
  {
   "cell_type": "code",
   "execution_count": 1,
   "id": "4c36a5da",
   "metadata": {},
   "outputs": [
    {
     "name": "stderr",
     "output_type": "stream",
     "text": [
      "s:\\Users\\NewWalhalla\\AppData\\Local\\Programs\\Python\\Python313\\Lib\\site-packages\\tqdm\\auto.py:21: TqdmWarning: IProgress not found. Please update jupyter and ipywidgets. See https://ipywidgets.readthedocs.io/en/stable/user_install.html\n",
      "  from .autonotebook import tqdm as notebook_tqdm\n"
     ]
    }
   ],
   "source": [
    "import os, sys\n",
    "sys.path.append(os.path.abspath(\"../\"))\n",
    "import optuna\n",
    "import numpy as np\n",
    "import pandas as pd\n",
    "\n",
    "from sklearn.feature_selection import RFE\n",
    "from sklearn.metrics import classification_report, ConfusionMatrixDisplay\n",
    "from sklearn.model_selection import cross_val_score, GridSearchCV, train_test_split\n",
    "from sklearn.preprocessing import OrdinalEncoder, StandardScaler\n",
    "from sklearn.utils import resample\n",
    "\n",
    "from sklearn.linear_model import LogisticRegression\n",
    "from sklearn.tree import DecisionTreeClassifier\n",
    "from sklearn.ensemble import RandomForestClassifier\n",
    "from xgboost import XGBClassifier\n",
    "from lightgbm import LGBMClassifier\n",
    "from catboost import CatBoostClassifier"
   ]
  },
  {
   "cell_type": "markdown",
   "id": "f91b3ee2",
   "metadata": {},
   "source": [
    "### CARGA DE DATASET Y DIVISIÓN TRAIN/TEST"
   ]
  },
  {
   "cell_type": "code",
   "execution_count": 2,
   "id": "8761be04",
   "metadata": {},
   "outputs": [],
   "source": [
    "# Se carga el dataset de trabajo\n",
    "df = pd.read_csv(\"../data/Datos_Reservas.csv\")\n",
    "\n",
    "# Se separa los conjuntos de datos de train y test\n",
    "train_set, test_set = train_test_split(df, test_size = 0.2, random_state = 42)\n",
    "\n",
    "# Se identifica el target\n",
    "target = \"canceled\""
   ]
  },
  {
   "cell_type": "markdown",
   "id": "bfc5d60e",
   "metadata": {},
   "source": [
    "### TRANSFORMACIONES"
   ]
  },
  {
   "cell_type": "code",
   "execution_count": 3,
   "id": "f9a7cad2",
   "metadata": {},
   "outputs": [],
   "source": [
    "# TRAIN\n",
    "#---------------------------- CAMBIO 1-----------------------------------------\n",
    "# ELIMINACIÓN DE REGISTROS DE PROMOCIONES, DEVOLUCIONES Y POSIBLES ERRORES\n",
    "# TRANSFORMACIÓN LOGÍSTICA A LA COLUMNA 'daily_price'\n",
    "train_set = train_set.drop(train_set[train_set[\"daily_price\"] <= 0].index, axis = 0)\n",
    "train_set = train_set.drop(train_set[train_set[\"daily_price\"] > 2000].index, axis = 0)\n",
    "train_set[\"daily_price\"] = np.log10(train_set[\"daily_price\"])\n",
    "#---------------------------- CAMBIO 2-----------------------------------------\n",
    "# ELIMINACIÓN DE VALORES INCONSISTENTES Y TRANSFORMACIÓN LOGÍSTICA A LA COLUMNA 'lead_time'\n",
    "train_set = train_set.drop(train_set[train_set[\"lead_time\"] <= 0].index, axis = 0)\n",
    "train_set[\"lead_time\"] = np.log10(train_set[\"lead_time\"])\n",
    "#---------------------------- CAMBIO 3-----------------------------------------\n",
    "# ELIMINACIÓN DE REGISTROS CON VALOR 0 COINCIDENTES EN LAS COLUMNAS 'adults' Y 'children'\n",
    "train_set = train_set.drop(train_set[(train_set[\"adults\"] == 0)&(train_set[\"children\"] == 0)].index, axis = 0)\n",
    "#---------------------------- CAMBIO 4-----------------------------------------\n",
    "# TRANSFORMACIÓN DE 'children' A CATEGÓRICA BINARIA\n",
    "train_set.loc[train_set[\"children\"] > 0, \"children\"] = 1\n",
    "#---------------------------- CAMBIO 5-----------------------------------------\n",
    "# TRANSFORMACIÓN DE 'total_book' A CATEGÓRICA BINARIA\n",
    "train_set.loc[train_set[\"total_book\"] > 0, \"total_book\"] = 1\n",
    "#---------------------------- CAMBIO 6-----------------------------------------\n",
    "# TRANSFORMACIÓN DE 'pre_cancel' Y 'pre_not_cancel' A CATEGÓRICA BINARIA\n",
    "train_set.loc[train_set[\"pre_cancel\"] > 0, \"pre_cancel\"] = 1\n",
    "train_set.loc[train_set[\"pre_not_cancel\"] > 0, \"pre_not_cancel\"] = 1\n",
    "#---------------------------- CAMBIO 7-----------------------------------------\n",
    "# ELIMINACIÓN DE 'arr_date'\n",
    "train_set.drop(columns = [\"arr_date\"], inplace = True)\n",
    "#---------------------------- CAMBIO 8-----------------------------------------\n",
    "# ELIMINACIÓN DE VALORES INCONSISTENTES COINCIDENTES EN LAS COLUMNAs 'week_nights' y 'weekend_nights'\n",
    "# TRANSFORMACIÓN DE ETIQUETAS PARA UNIFICAR LOS VALORES POR ENCIMA DE 5 EN 'week_nights' Y POR ENCIMA DE 2 EN 'weekend_nights'\n",
    "train_set = train_set.drop(train_set[(train_set[\"week_nights\"] == 0)&(train_set[\"weekend_nights\"] == 0)].index, axis = 0)\n",
    "train_set.loc[train_set[\"week_nights\"] > 5, \"week_nights\"] = 6\n",
    "train_set.loc[train_set[\"weekend_nights\"] > 2, \"weekend_nights\"] = 3\n",
    "#---------------------------- CAMBIO 9-----------------------------------------\n",
    "# TRANSFORMACIÓN DE 'meal_plan' A VARIABLE NUMÉRICA CON ORDINAL ENCODER\n",
    "encoder = OrdinalEncoder(categories=[[\"SC\",\"RO\",\"BB\",\"HB\",\"FB\"]])\n",
    "train_set[[\"meal_plan\"]] = encoder.fit_transform(train_set[[\"meal_plan\"]])\n",
    "#---------------------------- CAMBIO 10-----------------------------------------\n",
    "# TRANSFORMACIÓN DE 'parking' A VARIABLE BINARIA\n",
    "train_set.loc[train_set[\"parking\"] > 0, \"parking\"] = 1\n",
    "\n",
    "\n",
    "# TEST\n",
    "#---------------------------- CAMBIO 1-----------------------------------------\n",
    "# ELIMINACIÓN DE REGISTROS DE PROMOCIONES, DEVOLUCIONES Y POSIBLES ERRORES\n",
    "# TRANSFORMACIÓN LOGÍSTICA A LA COLUMNA 'daily_price'\n",
    "test_set = test_set.drop(test_set[test_set[\"daily_price\"] <= 0].index, axis = 0)\n",
    "test_set = test_set.drop(test_set[test_set[\"daily_price\"] > 2000].index, axis = 0)\n",
    "test_set[\"daily_price\"] = np.log10(test_set[\"daily_price\"])\n",
    "#---------------------------- CAMBIO 2-----------------------------------------\n",
    "# ELIMINACIÓN DE VALORES INCONSISTENTES Y TRANSFORMACIÓN LOGÍSTICA A LA COLUMNA 'lead_time'\n",
    "test_set = test_set.drop(test_set[test_set[\"lead_time\"] <= 0].index, axis = 0)\n",
    "test_set[\"lead_time\"] = np.log10(test_set[\"lead_time\"])\n",
    "#---------------------------- CAMBIO 3-----------------------------------------\n",
    "# ELIMINACIÓN DE REGISTROS CON VALOR 0 COINCIDENTES EN LAS COLUMNAS 'adults' Y 'children'\n",
    "test_set = test_set.drop(test_set[(test_set[\"adults\"] == 0)&(test_set[\"children\"] == 0)].index, axis = 0)\n",
    "#---------------------------- CAMBIO 4-----------------------------------------\n",
    "# TRANSFORMACIÓN DE 'children' A CATEGÓRICA BINARIA\n",
    "test_set.loc[test_set[\"children\"] > 0, \"children\"] = 1\n",
    "#---------------------------- CAMBIO 5-----------------------------------------\n",
    "# TRANSFORMACIÓN DE 'total_book' A CATEGÓRICA BINARIA\n",
    "test_set.loc[test_set[\"total_book\"] > 0, \"total_book\"] = 1\n",
    "#---------------------------- CAMBIO 6-----------------------------------------\n",
    "# TRANSFORMACIÓN DE 'pre_cancel' Y 'pre_not_cancel' A CATEGÓRICA BINARIA\n",
    "test_set.loc[test_set[\"pre_cancel\"] > 0, \"pre_cancel\"] = 1\n",
    "test_set.loc[test_set[\"pre_not_cancel\"] > 0, \"pre_not_cancel\"] = 1\n",
    "#---------------------------- CAMBIO 7-----------------------------------------\n",
    "# ELIMINACIÓN DE 'arr_date'\n",
    "test_set.drop(columns = [\"arr_date\"], inplace = True)\n",
    "#---------------------------- CAMBIO 8-----------------------------------------\n",
    "# ELIMINACIÓN DE VALORES INCONSISTENTES COINCIDENTES EN LAS COLUMNAs 'week_nights' y 'weekend_nights'\n",
    "# TRANSFORMACIÓN DE ETIQUETAS PARA UNIFICAR LOS VALORES POR ENCIMA DE 5 EN 'week_nights' Y POR ENCIMA DE 2 EN 'weekend_nights'\n",
    "test_set = test_set.drop(test_set[(test_set[\"week_nights\"] == 0)&(test_set[\"weekend_nights\"] == 0)].index, axis = 0)\n",
    "test_set.loc[test_set[\"week_nights\"] > 5, \"week_nights\"] = 6\n",
    "test_set.loc[test_set[\"weekend_nights\"] > 2, \"weekend_nights\"] = 3\n",
    "#---------------------------- CAMBIO 9-----------------------------------------\n",
    "# TRANSFORMACIÓN DE 'meal_plan' A VARIABLE NUMÉRICA CON ORDINAL ENCODER\n",
    "encoder = OrdinalEncoder(categories=[[\"SC\",\"RO\",\"BB\",\"HB\",\"FB\"]])\n",
    "test_set[[\"meal_plan\"]] = encoder.fit_transform(test_set[[\"meal_plan\"]])\n",
    "#---------------------------- CAMBIO 10-----------------------------------------\n",
    "# TRANSFORMACIÓN DE 'parking' A VARIABLE BINARIA\n",
    "test_set.loc[test_set[\"parking\"] > 0, \"parking\"] = 1"
   ]
  },
  {
   "cell_type": "code",
   "execution_count": 4,
   "id": "74cf1afe",
   "metadata": {},
   "outputs": [
    {
     "name": "stdout",
     "output_type": "stream",
     "text": [
      "<class 'pandas.core.frame.DataFrame'>\n",
      "Index: 79384 entries, 68579 to 15795\n",
      "Data columns (total 15 columns):\n",
      " #   Column          Non-Null Count  Dtype  \n",
      "---  ------          --------------  -----  \n",
      " 0   daily_price     79384 non-null  float64\n",
      " 1   lead_time       79384 non-null  float64\n",
      " 2   adults          79384 non-null  int64  \n",
      " 3   children        79384 non-null  int64  \n",
      " 4   repeated_guest  79384 non-null  int64  \n",
      " 5   total_book      79384 non-null  int64  \n",
      " 6   pre_cancel      79384 non-null  int64  \n",
      " 7   pre_not_cancel  79384 non-null  int64  \n",
      " 8   arr_week        79384 non-null  int64  \n",
      " 9   week_nights     79384 non-null  int64  \n",
      " 10  weekend_nights  79384 non-null  int64  \n",
      " 11  meal_plan       79384 non-null  float64\n",
      " 12  parking         79384 non-null  int64  \n",
      " 13  special_req     79384 non-null  int64  \n",
      " 14  canceled        79384 non-null  int64  \n",
      "dtypes: float64(3), int64(12)\n",
      "memory usage: 9.7 MB\n"
     ]
    }
   ],
   "source": [
    "train_set.info()"
   ]
  },
  {
   "cell_type": "code",
   "execution_count": 5,
   "id": "9d9756dd",
   "metadata": {},
   "outputs": [
    {
     "data": {
      "text/html": [
       "<div>\n",
       "<style scoped>\n",
       "    .dataframe tbody tr th:only-of-type {\n",
       "        vertical-align: middle;\n",
       "    }\n",
       "\n",
       "    .dataframe tbody tr th {\n",
       "        vertical-align: top;\n",
       "    }\n",
       "\n",
       "    .dataframe thead th {\n",
       "        text-align: right;\n",
       "    }\n",
       "</style>\n",
       "<table border=\"1\" class=\"dataframe\">\n",
       "  <thead>\n",
       "    <tr style=\"text-align: right;\">\n",
       "      <th></th>\n",
       "      <th>count</th>\n",
       "      <th>mean</th>\n",
       "      <th>std</th>\n",
       "      <th>min</th>\n",
       "      <th>25%</th>\n",
       "      <th>50%</th>\n",
       "      <th>75%</th>\n",
       "      <th>max</th>\n",
       "    </tr>\n",
       "  </thead>\n",
       "  <tbody>\n",
       "    <tr>\n",
       "      <th>daily_price</th>\n",
       "      <td>79384.0</td>\n",
       "      <td>2.000724</td>\n",
       "      <td>0.197510</td>\n",
       "      <td>-0.585027</td>\n",
       "      <td>1.892095</td>\n",
       "      <td>2.005095</td>\n",
       "      <td>2.130334</td>\n",
       "      <td>2.705864</td>\n",
       "    </tr>\n",
       "    <tr>\n",
       "      <th>lead_time</th>\n",
       "      <td>79384.0</td>\n",
       "      <td>1.595461</td>\n",
       "      <td>0.632201</td>\n",
       "      <td>0.000000</td>\n",
       "      <td>1.230449</td>\n",
       "      <td>1.732394</td>\n",
       "      <td>2.089905</td>\n",
       "      <td>2.850646</td>\n",
       "    </tr>\n",
       "    <tr>\n",
       "      <th>adults</th>\n",
       "      <td>79384.0</td>\n",
       "      <td>1.909680</td>\n",
       "      <td>0.498848</td>\n",
       "      <td>0.000000</td>\n",
       "      <td>2.000000</td>\n",
       "      <td>2.000000</td>\n",
       "      <td>2.000000</td>\n",
       "      <td>4.000000</td>\n",
       "    </tr>\n",
       "    <tr>\n",
       "      <th>children</th>\n",
       "      <td>79384.0</td>\n",
       "      <td>0.102955</td>\n",
       "      <td>0.303902</td>\n",
       "      <td>0.000000</td>\n",
       "      <td>0.000000</td>\n",
       "      <td>0.000000</td>\n",
       "      <td>0.000000</td>\n",
       "      <td>1.000000</td>\n",
       "    </tr>\n",
       "    <tr>\n",
       "      <th>repeated_guest</th>\n",
       "      <td>79384.0</td>\n",
       "      <td>0.027210</td>\n",
       "      <td>0.162694</td>\n",
       "      <td>0.000000</td>\n",
       "      <td>0.000000</td>\n",
       "      <td>0.000000</td>\n",
       "      <td>0.000000</td>\n",
       "      <td>1.000000</td>\n",
       "    </tr>\n",
       "    <tr>\n",
       "      <th>total_book</th>\n",
       "      <td>79384.0</td>\n",
       "      <td>0.040915</td>\n",
       "      <td>0.198095</td>\n",
       "      <td>0.000000</td>\n",
       "      <td>0.000000</td>\n",
       "      <td>0.000000</td>\n",
       "      <td>0.000000</td>\n",
       "      <td>1.000000</td>\n",
       "    </tr>\n",
       "    <tr>\n",
       "      <th>pre_cancel</th>\n",
       "      <td>79384.0</td>\n",
       "      <td>0.016426</td>\n",
       "      <td>0.127110</td>\n",
       "      <td>0.000000</td>\n",
       "      <td>0.000000</td>\n",
       "      <td>0.000000</td>\n",
       "      <td>0.000000</td>\n",
       "      <td>1.000000</td>\n",
       "    </tr>\n",
       "    <tr>\n",
       "      <th>pre_not_cancel</th>\n",
       "      <td>79384.0</td>\n",
       "      <td>0.030888</td>\n",
       "      <td>0.173015</td>\n",
       "      <td>0.000000</td>\n",
       "      <td>0.000000</td>\n",
       "      <td>0.000000</td>\n",
       "      <td>0.000000</td>\n",
       "      <td>1.000000</td>\n",
       "    </tr>\n",
       "    <tr>\n",
       "      <th>arr_week</th>\n",
       "      <td>79384.0</td>\n",
       "      <td>27.295085</td>\n",
       "      <td>13.503051</td>\n",
       "      <td>1.000000</td>\n",
       "      <td>16.000000</td>\n",
       "      <td>28.000000</td>\n",
       "      <td>38.000000</td>\n",
       "      <td>53.000000</td>\n",
       "    </tr>\n",
       "    <tr>\n",
       "      <th>week_nights</th>\n",
       "      <td>79384.0</td>\n",
       "      <td>2.561259</td>\n",
       "      <td>1.569603</td>\n",
       "      <td>0.000000</td>\n",
       "      <td>1.000000</td>\n",
       "      <td>2.000000</td>\n",
       "      <td>4.000000</td>\n",
       "      <td>6.000000</td>\n",
       "    </tr>\n",
       "    <tr>\n",
       "      <th>weekend_nights</th>\n",
       "      <td>79384.0</td>\n",
       "      <td>1.001562</td>\n",
       "      <td>0.913390</td>\n",
       "      <td>0.000000</td>\n",
       "      <td>0.000000</td>\n",
       "      <td>1.000000</td>\n",
       "      <td>2.000000</td>\n",
       "      <td>3.000000</td>\n",
       "    </tr>\n",
       "    <tr>\n",
       "      <th>meal_plan</th>\n",
       "      <td>79384.0</td>\n",
       "      <td>1.886287</td>\n",
       "      <td>0.690221</td>\n",
       "      <td>0.000000</td>\n",
       "      <td>2.000000</td>\n",
       "      <td>2.000000</td>\n",
       "      <td>2.000000</td>\n",
       "      <td>4.000000</td>\n",
       "    </tr>\n",
       "    <tr>\n",
       "      <th>parking</th>\n",
       "      <td>79384.0</td>\n",
       "      <td>0.073340</td>\n",
       "      <td>0.260695</td>\n",
       "      <td>0.000000</td>\n",
       "      <td>0.000000</td>\n",
       "      <td>0.000000</td>\n",
       "      <td>0.000000</td>\n",
       "      <td>1.000000</td>\n",
       "    </tr>\n",
       "    <tr>\n",
       "      <th>special_req</th>\n",
       "      <td>79384.0</td>\n",
       "      <td>0.747178</td>\n",
       "      <td>0.836146</td>\n",
       "      <td>0.000000</td>\n",
       "      <td>0.000000</td>\n",
       "      <td>1.000000</td>\n",
       "      <td>1.000000</td>\n",
       "      <td>5.000000</td>\n",
       "    </tr>\n",
       "    <tr>\n",
       "      <th>canceled</th>\n",
       "      <td>79384.0</td>\n",
       "      <td>0.301912</td>\n",
       "      <td>0.459090</td>\n",
       "      <td>0.000000</td>\n",
       "      <td>0.000000</td>\n",
       "      <td>0.000000</td>\n",
       "      <td>1.000000</td>\n",
       "      <td>1.000000</td>\n",
       "    </tr>\n",
       "  </tbody>\n",
       "</table>\n",
       "</div>"
      ],
      "text/plain": [
       "                  count       mean        std       min        25%        50%  \\\n",
       "daily_price     79384.0   2.000724   0.197510 -0.585027   1.892095   2.005095   \n",
       "lead_time       79384.0   1.595461   0.632201  0.000000   1.230449   1.732394   \n",
       "adults          79384.0   1.909680   0.498848  0.000000   2.000000   2.000000   \n",
       "children        79384.0   0.102955   0.303902  0.000000   0.000000   0.000000   \n",
       "repeated_guest  79384.0   0.027210   0.162694  0.000000   0.000000   0.000000   \n",
       "total_book      79384.0   0.040915   0.198095  0.000000   0.000000   0.000000   \n",
       "pre_cancel      79384.0   0.016426   0.127110  0.000000   0.000000   0.000000   \n",
       "pre_not_cancel  79384.0   0.030888   0.173015  0.000000   0.000000   0.000000   \n",
       "arr_week        79384.0  27.295085  13.503051  1.000000  16.000000  28.000000   \n",
       "week_nights     79384.0   2.561259   1.569603  0.000000   1.000000   2.000000   \n",
       "weekend_nights  79384.0   1.001562   0.913390  0.000000   0.000000   1.000000   \n",
       "meal_plan       79384.0   1.886287   0.690221  0.000000   2.000000   2.000000   \n",
       "parking         79384.0   0.073340   0.260695  0.000000   0.000000   0.000000   \n",
       "special_req     79384.0   0.747178   0.836146  0.000000   0.000000   1.000000   \n",
       "canceled        79384.0   0.301912   0.459090  0.000000   0.000000   0.000000   \n",
       "\n",
       "                      75%        max  \n",
       "daily_price      2.130334   2.705864  \n",
       "lead_time        2.089905   2.850646  \n",
       "adults           2.000000   4.000000  \n",
       "children         0.000000   1.000000  \n",
       "repeated_guest   0.000000   1.000000  \n",
       "total_book       0.000000   1.000000  \n",
       "pre_cancel       0.000000   1.000000  \n",
       "pre_not_cancel   0.000000   1.000000  \n",
       "arr_week        38.000000  53.000000  \n",
       "week_nights      4.000000   6.000000  \n",
       "weekend_nights   2.000000   3.000000  \n",
       "meal_plan        2.000000   4.000000  \n",
       "parking          0.000000   1.000000  \n",
       "special_req      1.000000   5.000000  \n",
       "canceled         1.000000   1.000000  "
      ]
     },
     "execution_count": 5,
     "metadata": {},
     "output_type": "execute_result"
    }
   ],
   "source": [
    "train_set.describe().T"
   ]
  },
  {
   "cell_type": "markdown",
   "id": "2ef33671",
   "metadata": {},
   "source": [
    "### DIVISIÓN DE SUBCONJUNTOS X,Y"
   ]
  },
  {
   "cell_type": "code",
   "execution_count": 6,
   "id": "b013b6a9",
   "metadata": {},
   "outputs": [],
   "source": [
    "# Se forman los subconjuntos X,y\n",
    "X_train = train_set.copy()\n",
    "X_train.drop(columns = [target], inplace = True)\n",
    "y_train = train_set[target].copy()\n",
    "\n",
    "X_test = test_set.copy()\n",
    "X_test.drop(columns = [target], inplace = True)\n",
    "y_test = test_set[target].copy()"
   ]
  },
  {
   "cell_type": "markdown",
   "id": "b63366c0",
   "metadata": {},
   "source": [
    "##### ESCALADO DE VARIABLES"
   ]
  },
  {
   "cell_type": "code",
   "execution_count": 7,
   "id": "a94c779d",
   "metadata": {},
   "outputs": [],
   "source": [
    "# Se lleva a cabo un escalado de los valores para aplicar con los modelos sensibles a la distancia\n",
    "scaler = StandardScaler()\n",
    "features = X_train.columns.to_list()\n",
    "\n",
    "X_train_scaled = pd.DataFrame(scaler.fit_transform(X_train), columns = features)\n",
    "X_test_scaled = pd.DataFrame(scaler.transform(X_test), columns = features)"
   ]
  },
  {
   "cell_type": "code",
   "execution_count": 8,
   "id": "6f8375fa",
   "metadata": {},
   "outputs": [
    {
     "data": {
      "text/html": [
       "<div>\n",
       "<style scoped>\n",
       "    .dataframe tbody tr th:only-of-type {\n",
       "        vertical-align: middle;\n",
       "    }\n",
       "\n",
       "    .dataframe tbody tr th {\n",
       "        vertical-align: top;\n",
       "    }\n",
       "\n",
       "    .dataframe thead th {\n",
       "        text-align: right;\n",
       "    }\n",
       "</style>\n",
       "<table border=\"1\" class=\"dataframe\">\n",
       "  <thead>\n",
       "    <tr style=\"text-align: right;\">\n",
       "      <th></th>\n",
       "      <th>count</th>\n",
       "      <th>mean</th>\n",
       "      <th>std</th>\n",
       "      <th>min</th>\n",
       "      <th>25%</th>\n",
       "      <th>50%</th>\n",
       "      <th>75%</th>\n",
       "      <th>max</th>\n",
       "    </tr>\n",
       "  </thead>\n",
       "  <tbody>\n",
       "    <tr>\n",
       "      <th>daily_price</th>\n",
       "      <td>79384.0</td>\n",
       "      <td>1.101832e-15</td>\n",
       "      <td>1.000006</td>\n",
       "      <td>-13.091801</td>\n",
       "      <td>-0.549995</td>\n",
       "      <td>0.022131</td>\n",
       "      <td>0.656223</td>\n",
       "      <td>3.570164</td>\n",
       "    </tr>\n",
       "    <tr>\n",
       "      <th>lead_time</th>\n",
       "      <td>79384.0</td>\n",
       "      <td>-2.898238e-16</td>\n",
       "      <td>1.000006</td>\n",
       "      <td>-2.523677</td>\n",
       "      <td>-0.577371</td>\n",
       "      <td>0.216598</td>\n",
       "      <td>0.782105</td>\n",
       "      <td>1.985434</td>\n",
       "    </tr>\n",
       "    <tr>\n",
       "      <th>adults</th>\n",
       "      <td>79384.0</td>\n",
       "      <td>1.432113e-18</td>\n",
       "      <td>1.000006</td>\n",
       "      <td>-3.828204</td>\n",
       "      <td>0.181059</td>\n",
       "      <td>0.181059</td>\n",
       "      <td>0.181059</td>\n",
       "      <td>4.190322</td>\n",
       "    </tr>\n",
       "    <tr>\n",
       "      <th>children</th>\n",
       "      <td>79384.0</td>\n",
       "      <td>-6.627997e-17</td>\n",
       "      <td>1.000006</td>\n",
       "      <td>-0.338780</td>\n",
       "      <td>-0.338780</td>\n",
       "      <td>-0.338780</td>\n",
       "      <td>-0.338780</td>\n",
       "      <td>2.951772</td>\n",
       "    </tr>\n",
       "    <tr>\n",
       "      <th>repeated_guest</th>\n",
       "      <td>79384.0</td>\n",
       "      <td>-4.618564e-17</td>\n",
       "      <td>1.000006</td>\n",
       "      <td>-0.167244</td>\n",
       "      <td>-0.167244</td>\n",
       "      <td>-0.167244</td>\n",
       "      <td>-0.167244</td>\n",
       "      <td>5.979285</td>\n",
       "    </tr>\n",
       "    <tr>\n",
       "      <th>total_book</th>\n",
       "      <td>79384.0</td>\n",
       "      <td>6.766733e-17</td>\n",
       "      <td>1.000006</td>\n",
       "      <td>-0.206544</td>\n",
       "      <td>-0.206544</td>\n",
       "      <td>-0.206544</td>\n",
       "      <td>-0.206544</td>\n",
       "      <td>4.841579</td>\n",
       "    </tr>\n",
       "    <tr>\n",
       "      <th>pre_cancel</th>\n",
       "      <td>79384.0</td>\n",
       "      <td>1.682732e-17</td>\n",
       "      <td>1.000006</td>\n",
       "      <td>-0.129232</td>\n",
       "      <td>-0.129232</td>\n",
       "      <td>-0.129232</td>\n",
       "      <td>-0.129232</td>\n",
       "      <td>7.738042</td>\n",
       "    </tr>\n",
       "    <tr>\n",
       "      <th>pre_not_cancel</th>\n",
       "      <td>79384.0</td>\n",
       "      <td>9.308733e-18</td>\n",
       "      <td>1.000006</td>\n",
       "      <td>-0.178528</td>\n",
       "      <td>-0.178528</td>\n",
       "      <td>-0.178528</td>\n",
       "      <td>-0.178528</td>\n",
       "      <td>5.601357</td>\n",
       "    </tr>\n",
       "    <tr>\n",
       "      <th>arr_week</th>\n",
       "      <td>79384.0</td>\n",
       "      <td>-3.857754e-17</td>\n",
       "      <td>1.000006</td>\n",
       "      <td>-1.947356</td>\n",
       "      <td>-0.836489</td>\n",
       "      <td>0.052204</td>\n",
       "      <td>0.792782</td>\n",
       "      <td>1.903650</td>\n",
       "    </tr>\n",
       "    <tr>\n",
       "      <th>week_nights</th>\n",
       "      <td>79384.0</td>\n",
       "      <td>-7.093433e-17</td>\n",
       "      <td>1.000006</td>\n",
       "      <td>-1.631799</td>\n",
       "      <td>-0.994691</td>\n",
       "      <td>-0.357583</td>\n",
       "      <td>0.916633</td>\n",
       "      <td>2.190849</td>\n",
       "    </tr>\n",
       "    <tr>\n",
       "      <th>weekend_nights</th>\n",
       "      <td>79384.0</td>\n",
       "      <td>3.848803e-17</td>\n",
       "      <td>1.000006</td>\n",
       "      <td>-1.096539</td>\n",
       "      <td>-1.096539</td>\n",
       "      <td>-0.001710</td>\n",
       "      <td>1.093119</td>\n",
       "      <td>2.187948</td>\n",
       "    </tr>\n",
       "    <tr>\n",
       "      <th>meal_plan</th>\n",
       "      <td>79384.0</td>\n",
       "      <td>-3.705592e-17</td>\n",
       "      <td>1.000006</td>\n",
       "      <td>-2.732889</td>\n",
       "      <td>0.164750</td>\n",
       "      <td>0.164750</td>\n",
       "      <td>0.164750</td>\n",
       "      <td>3.062389</td>\n",
       "    </tr>\n",
       "    <tr>\n",
       "      <th>parking</th>\n",
       "      <td>79384.0</td>\n",
       "      <td>6.346050e-17</td>\n",
       "      <td>1.000006</td>\n",
       "      <td>-0.281326</td>\n",
       "      <td>-0.281326</td>\n",
       "      <td>-0.281326</td>\n",
       "      <td>-0.281326</td>\n",
       "      <td>3.554599</td>\n",
       "    </tr>\n",
       "    <tr>\n",
       "      <th>special_req</th>\n",
       "      <td>79384.0</td>\n",
       "      <td>2.434592e-17</td>\n",
       "      <td>1.000006</td>\n",
       "      <td>-0.893603</td>\n",
       "      <td>-0.893603</td>\n",
       "      <td>0.302367</td>\n",
       "      <td>0.302367</td>\n",
       "      <td>5.086250</td>\n",
       "    </tr>\n",
       "  </tbody>\n",
       "</table>\n",
       "</div>"
      ],
      "text/plain": [
       "                  count          mean       std        min       25%  \\\n",
       "daily_price     79384.0  1.101832e-15  1.000006 -13.091801 -0.549995   \n",
       "lead_time       79384.0 -2.898238e-16  1.000006  -2.523677 -0.577371   \n",
       "adults          79384.0  1.432113e-18  1.000006  -3.828204  0.181059   \n",
       "children        79384.0 -6.627997e-17  1.000006  -0.338780 -0.338780   \n",
       "repeated_guest  79384.0 -4.618564e-17  1.000006  -0.167244 -0.167244   \n",
       "total_book      79384.0  6.766733e-17  1.000006  -0.206544 -0.206544   \n",
       "pre_cancel      79384.0  1.682732e-17  1.000006  -0.129232 -0.129232   \n",
       "pre_not_cancel  79384.0  9.308733e-18  1.000006  -0.178528 -0.178528   \n",
       "arr_week        79384.0 -3.857754e-17  1.000006  -1.947356 -0.836489   \n",
       "week_nights     79384.0 -7.093433e-17  1.000006  -1.631799 -0.994691   \n",
       "weekend_nights  79384.0  3.848803e-17  1.000006  -1.096539 -1.096539   \n",
       "meal_plan       79384.0 -3.705592e-17  1.000006  -2.732889  0.164750   \n",
       "parking         79384.0  6.346050e-17  1.000006  -0.281326 -0.281326   \n",
       "special_req     79384.0  2.434592e-17  1.000006  -0.893603 -0.893603   \n",
       "\n",
       "                     50%       75%       max  \n",
       "daily_price     0.022131  0.656223  3.570164  \n",
       "lead_time       0.216598  0.782105  1.985434  \n",
       "adults          0.181059  0.181059  4.190322  \n",
       "children       -0.338780 -0.338780  2.951772  \n",
       "repeated_guest -0.167244 -0.167244  5.979285  \n",
       "total_book     -0.206544 -0.206544  4.841579  \n",
       "pre_cancel     -0.129232 -0.129232  7.738042  \n",
       "pre_not_cancel -0.178528 -0.178528  5.601357  \n",
       "arr_week        0.052204  0.792782  1.903650  \n",
       "week_nights    -0.357583  0.916633  2.190849  \n",
       "weekend_nights -0.001710  1.093119  2.187948  \n",
       "meal_plan       0.164750  0.164750  3.062389  \n",
       "parking        -0.281326 -0.281326  3.554599  \n",
       "special_req     0.302367  0.302367  5.086250  "
      ]
     },
     "execution_count": 8,
     "metadata": {},
     "output_type": "execute_result"
    }
   ],
   "source": [
    "X_train_scaled.describe().T"
   ]
  },
  {
   "cell_type": "markdown",
   "id": "e7462b9f",
   "metadata": {},
   "source": [
    "### GENERACIÓN DE BASELINE"
   ]
  },
  {
   "cell_type": "code",
   "execution_count": 9,
   "id": "1f4aa72a",
   "metadata": {},
   "outputs": [
    {
     "name": "stdout",
     "output_type": "stream",
     "text": [
      "LogisticRegression(max_iter=10000)\n",
      "DecisionTreeClassifier(random_state=42)\n",
      "RandomForestClassifier(random_state=42)\n",
      "XGBClassifier(base_score=None, booster=None, callbacks=None,\n",
      "              colsample_bylevel=None, colsample_bynode=None,\n",
      "              colsample_bytree=None, device=None, early_stopping_rounds=None,\n",
      "              enable_categorical=False, eval_metric=None, feature_types=None,\n",
      "              feature_weights=None, gamma=None, grow_policy=None,\n",
      "              importance_type=None, interaction_constraints=None,\n",
      "              learning_rate=None, max_bin=None, max_cat_threshold=None,\n",
      "              max_cat_to_onehot=None, max_delta_step=None, max_depth=None,\n",
      "              max_leaves=None, min_child_weight=None, missing=nan,\n",
      "              monotone_constraints=None, multi_strategy=None, n_estimators=None,\n",
      "              n_jobs=None, num_parallel_tree=None, ...)\n",
      "LGBMClassifier(random_state=42, verbose=-100)\n",
      "<catboost.core.CatBoostClassifier object at 0x000001C034E3B8C0>\n",
      "Model <Logistic Regression>, Accuracy_CV: 0.634192810328549\n",
      "Model <DecisionTree>, Accuracy_CV: 0.6988654383386089\n",
      "Model <Random Forest>, Accuracy_CV: 0.7261103495218982\n",
      "Model <XGBoost>, Accuracy_CV: 0.6905152484234062\n",
      "Model <LightGBM>, Accuracy_CV: 0.6797148859410165\n",
      "Model <CatBoost>, Accuracy_CV: 0.6880612329454939\n",
      "El modelo con mejor métrica es Random Forest\n"
     ]
    }
   ],
   "source": [
    "# Escalado (StandarScaler) aplicado a Logistic Regression\n",
    "model_names = [\"Logistic Regression\",\"DecisionTree\",\"Random Forest\",\"XGBoost\",\"LightGBM\",\"CatBoost\"]\n",
    "clf_LR = LogisticRegression(max_iter = 10000)\n",
    "clf_DT = DecisionTreeClassifier(random_state = 42)\n",
    "clf_RF = RandomForestClassifier(random_state = 42)\n",
    "clf_XG = XGBClassifier(random_state = 42)\n",
    "clf_LG = LGBMClassifier(random_state = 42, verbose = -100)\n",
    "clf_CA = CatBoostClassifier(random_state = 42, verbose = False)\n",
    "model_set = [clf_LR, clf_DT, clf_RF, clf_XG, clf_LG, clf_CA]\n",
    "\n",
    "metricas_cv = {}\n",
    "valores = []\n",
    "for name,model in zip(model_names, model_set):\n",
    "    print(model)\n",
    "    if name != \"Logistic Regression\":\n",
    "        metricas_cv[name] = cross_val_score(model, X_train, y_train, cv = 5, scoring = \"balanced_accuracy\")\n",
    "    else:\n",
    "        metricas_cv[name] = cross_val_score(model, X_train_scaled, y_train, cv = 5, scoring = \"balanced_accuracy\")\n",
    "    valores.append(np.mean(metricas_cv[name]))\n",
    "ganador = list(metricas_cv.keys())[np.argmax(valores)]\n",
    "\n",
    "for model_name, valores in metricas_cv.items():\n",
    "    print(f\"Model <{model_name}>, Accuracy_CV: {np.mean(valores)}\")\n",
    "print(f\"El modelo con mejor métrica es {ganador}\")"
   ]
  },
  {
   "cell_type": "code",
   "execution_count": 10,
   "id": "200ec08e",
   "metadata": {},
   "outputs": [
    {
     "name": "stdout",
     "output_type": "stream",
     "text": [
      "              precision    recall  f1-score   support\n",
      "\n",
      "           0       0.83      0.89      0.86     13904\n",
      "           1       0.70      0.58      0.63      5959\n",
      "\n",
      "    accuracy                           0.80     19863\n",
      "   macro avg       0.76      0.74      0.75     19863\n",
      "weighted avg       0.79      0.80      0.79     19863\n",
      "\n"
     ]
    },
    {
     "data": {
      "image/png": "[encoded data removed]",
      "text/plain": [
       "<Figure size 640x480 with 2 Axes>"
      ]
     },
     "metadata": {},
     "output_type": "display_data"
    }
   ],
   "source": [
    "# Entrenar modelo\n",
    "clf_RF.fit(X_train, y_train)\n",
    "\n",
    "# Realizar predicciones y evaluar el modelo\n",
    "y_pred_RF = clf_RF.predict(X_test)\n",
    "print(classification_report(y_test, y_pred_RF))\n",
    "ConfusionMatrixDisplay.from_predictions(y_test, y_pred_RF);"
   ]
  },
  {
   "cell_type": "markdown",
   "id": "72f331a3",
   "metadata": {},
   "source": [
    "### BALANCEO DE TARGET"
   ]
  },
  {
   "cell_type": "code",
   "execution_count": 11,
   "id": "022af4fc",
   "metadata": {},
   "outputs": [
    {
     "name": "stdout",
     "output_type": "stream",
     "text": [
      "              precision    recall  f1-score   support\n",
      "\n",
      "           0       0.88      0.74      0.80     13904\n",
      "           1       0.56      0.77      0.65      5959\n",
      "\n",
      "    accuracy                           0.75     19863\n",
      "   macro avg       0.72      0.75      0.72     19863\n",
      "weighted avg       0.78      0.75      0.76     19863\n",
      "\n"
     ]
    },
    {
     "data": {
      "image/png": "[encoded data removed]",
      "text/plain": [
       "<Figure size 640x480 with 2 Axes>"
      ]
     },
     "metadata": {},
     "output_type": "display_data"
    }
   ],
   "source": [
    "# Se balancea el target empleando un undersampling (resample)\n",
    "\n",
    "feature_w = X_train[y_train == 0]\n",
    "feature_l = X_train[y_train == 1]\n",
    "feature_w_us = resample(feature_w, replace = False, n_samples = len(feature_l), random_state = 42)\n",
    "X_train_us = pd.concat([feature_w_us, feature_l])\n",
    "y_train_us = pd.concat([y_train.loc[feature_w_us.index], y_train.loc[feature_l.index]])\n",
    "\n",
    "# Entrenar el modelo con los datos bajomuestreados\n",
    "clf_RF_us = RandomForestClassifier(random_state = 42)\n",
    "clf_RF_us.fit(X_train_us, y_train_us)\n",
    "\n",
    "# Realizar predicciones y evaluar el modelo\n",
    "y_pred_RF_us = clf_RF_us.predict(X_test)\n",
    "print(classification_report(y_test, y_pred_RF_us))\n",
    "ConfusionMatrixDisplay.from_predictions(y_test, y_pred_RF_us);"
   ]
  },
  {
   "cell_type": "code",
   "execution_count": 12,
   "id": "5c994c74",
   "metadata": {},
   "outputs": [
    {
     "name": "stdout",
     "output_type": "stream",
     "text": [
      "              precision    recall  f1-score   support\n",
      "\n",
      "           0       0.83      0.90      0.86     13904\n",
      "           1       0.70      0.58      0.63      5959\n",
      "\n",
      "    accuracy                           0.80     19863\n",
      "   macro avg       0.77      0.74      0.75     19863\n",
      "weighted avg       0.79      0.80      0.79     19863\n",
      "\n"
     ]
    },
    {
     "data": {
      "image/png": "[encoded data removed]",
      "text/plain": [
       "<Figure size 640x480 with 2 Axes>"
      ]
     },
     "metadata": {},
     "output_type": "display_data"
    }
   ],
   "source": [
    "# Se balancea el target empleando 'class_weight'\n",
    "\n",
    "# Entrenar el modelo indicando 'class_weight'\n",
    "clf_RF_cw = RandomForestClassifier(random_state = 42, class_weight = \"balanced\")\n",
    "clf_RF_cw.fit(X_train, y_train)\n",
    "\n",
    "# Realizar predicciones y evaluar el modelo\n",
    "y_pred_RF_cw = clf_RF_cw.predict(X_test)\n",
    "print(classification_report(y_test, y_pred_RF_cw))\n",
    "ConfusionMatrixDisplay.from_predictions(y_test, y_pred_RF_cw);"
   ]
  },
  {
   "cell_type": "markdown",
   "id": "d8b407cc",
   "metadata": {},
   "source": [
    "### AJUSTE DE PARÁMETOS"
   ]
  },
  {
   "cell_type": "code",
   "execution_count": 13,
   "id": "8fc5cf3f",
   "metadata": {},
   "outputs": [],
   "source": [
    "# Optimización de parámetros mediante Optuna\n",
    "\n",
    "def objective(trial):\n",
    "    # Suggest values for hyperparameters\n",
    "    criterion = trial.suggest_categorical(\"criterion\", [\"gini\",\"entropy\",\"log_loss\"])\n",
    "    n_estimators = trial.suggest_int(\"n_estimators\", 10, 1000, log = True)\n",
    "    max_depth = trial.suggest_int(\"max_depth\", 2, 32)\n",
    "    min_samples_split = trial.suggest_int(\"min_samples_split\", 2, 10)\n",
    "    min_samples_leaf = trial.suggest_int(\"min_samples_leaf\", 1, 10)\n",
    "\n",
    "    # Create and fit random forest model\n",
    "    model = RandomForestClassifier(\n",
    "        criterion = criterion,\n",
    "        n_estimators = n_estimators,\n",
    "        max_depth = max_depth,\n",
    "        min_samples_split = min_samples_split,\n",
    "        min_samples_leaf = min_samples_leaf,\n",
    "        random_state = 42,\n",
    "        )\n",
    "        \n",
    "    model.fit(X_train, y_train)\n",
    "    return model.score(X_test, y_test)"
   ]
  },
  {
   "cell_type": "code",
   "execution_count": 14,
   "id": "a6059340",
   "metadata": {},
   "outputs": [
    {
     "name": "stderr",
     "output_type": "stream",
     "text": [
      "[I 2025-07-02 11:18:19,919] A new study created in memory with name: no-name-7f41924d-429d-45a5-9aa2-220314903964\n",
      "[I 2025-07-02 11:18:55,558] Trial 0 finished with value: 0.7857826108845593 and parameters: {'criterion': 'entropy', 'n_estimators': 609, 'max_depth': 31, 'min_samples_split': 9, 'min_samples_leaf': 4}. Best is trial 0 with value: 0.7857826108845593.\n",
      "[I 2025-07-02 11:18:55,699] Trial 1 finished with value: 0.6999949655137693 and parameters: {'criterion': 'entropy', 'n_estimators': 13, 'max_depth': 2, 'min_samples_split': 9, 'min_samples_leaf': 3}. Best is trial 0 with value: 0.7857826108845593.\n",
      "[I 2025-07-02 11:19:03,428] Trial 2 finished with value: 0.7746060514524493 and parameters: {'criterion': 'gini', 'n_estimators': 175, 'max_depth': 31, 'min_samples_split': 5, 'min_samples_leaf': 9}. Best is trial 0 with value: 0.7857826108845593.\n",
      "[I 2025-07-02 11:19:03,905] Trial 3 finished with value: 0.7644363892664754 and parameters: {'criterion': 'gini', 'n_estimators': 13, 'max_depth': 14, 'min_samples_split': 4, 'min_samples_leaf': 10}. Best is trial 0 with value: 0.7857826108845593.\n",
      "[I 2025-07-02 11:19:25,792] Trial 4 finished with value: 0.7673060464179631 and parameters: {'criterion': 'gini', 'n_estimators': 664, 'max_depth': 13, 'min_samples_split': 8, 'min_samples_leaf': 7}. Best is trial 0 with value: 0.7857826108845593.\n",
      "[I 2025-07-02 11:19:29,114] Trial 5 finished with value: 0.7767708805316418 and parameters: {'criterion': 'entropy', 'n_estimators': 68, 'max_depth': 31, 'min_samples_split': 3, 'min_samples_leaf': 9}. Best is trial 0 with value: 0.7857826108845593.\n",
      "[I 2025-07-02 11:19:31,209] Trial 6 finished with value: 0.7741026028293813 and parameters: {'criterion': 'entropy', 'n_estimators': 42, 'max_depth': 22, 'min_samples_split': 2, 'min_samples_leaf': 7}. Best is trial 0 with value: 0.7857826108845593.\n",
      "[I 2025-07-02 11:19:35,701] Trial 7 finished with value: 0.7784322609877662 and parameters: {'criterion': 'log_loss', 'n_estimators': 87, 'max_depth': 23, 'min_samples_split': 3, 'min_samples_leaf': 6}. Best is trial 0 with value: 0.7857826108845593.\n",
      "[I 2025-07-02 11:19:36,004] Trial 8 finished with value: 0.7552736243266375 and parameters: {'criterion': 'entropy', 'n_estimators': 11, 'max_depth': 9, 'min_samples_split': 3, 'min_samples_leaf': 10}. Best is trial 0 with value: 0.7857826108845593.\n",
      "[I 2025-07-02 11:19:42,325] Trial 9 finished with value: 0.7572370739566028 and parameters: {'criterion': 'log_loss', 'n_estimators': 258, 'max_depth': 8, 'min_samples_split': 6, 'min_samples_leaf': 6}. Best is trial 0 with value: 0.7857826108845593.\n",
      "[I 2025-07-02 11:20:26,809] Trial 10 finished with value: 0.788400543724513 and parameters: {'criterion': 'entropy', 'n_estimators': 695, 'max_depth': 24, 'min_samples_split': 10, 'min_samples_leaf': 1}. Best is trial 10 with value: 0.788400543724513.\n",
      "[I 2025-07-02 11:21:23,326] Trial 11 finished with value: 0.7897598550067966 and parameters: {'criterion': 'entropy', 'n_estimators': 887, 'max_depth': 25, 'min_samples_split': 10, 'min_samples_leaf': 1}. Best is trial 11 with value: 0.7897598550067966.\n",
      "[I 2025-07-02 11:22:10,441] Trial 12 finished with value: 0.7881991642752857 and parameters: {'criterion': 'entropy', 'n_estimators': 788, 'max_depth': 23, 'min_samples_split': 10, 'min_samples_leaf': 1}. Best is trial 11 with value: 0.7897598550067966.\n",
      "[I 2025-07-02 11:22:28,973] Trial 13 finished with value: 0.7921260635352162 and parameters: {'criterion': 'entropy', 'n_estimators': 289, 'max_depth': 25, 'min_samples_split': 7, 'min_samples_leaf': 1}. Best is trial 13 with value: 0.7921260635352162.\n",
      "[I 2025-07-02 11:22:46,913] Trial 14 finished with value: 0.7875446810652973 and parameters: {'criterion': 'log_loss', 'n_estimators': 310, 'max_depth': 27, 'min_samples_split': 7, 'min_samples_leaf': 3}. Best is trial 13 with value: 0.7921260635352162.\n",
      "[I 2025-07-02 11:23:06,272] Trial 15 finished with value: 0.7796405376831295 and parameters: {'criterion': 'entropy', 'n_estimators': 384, 'max_depth': 19, 'min_samples_split': 7, 'min_samples_leaf': 2}. Best is trial 13 with value: 0.7921260635352162.\n",
      "[I 2025-07-02 11:23:15,221] Trial 16 finished with value: 0.7838695061169008 and parameters: {'criterion': 'entropy', 'n_estimators': 163, 'max_depth': 27, 'min_samples_split': 8, 'min_samples_leaf': 4}. Best is trial 13 with value: 0.7921260635352162.\n",
      "[I 2025-07-02 11:23:46,093] Trial 17 finished with value: 0.7953481347228515 and parameters: {'criterion': 'entropy', 'n_estimators': 455, 'max_depth': 27, 'min_samples_split': 6, 'min_samples_leaf': 1}. Best is trial 17 with value: 0.7953481347228515.\n",
      "[I 2025-07-02 11:23:53,203] Trial 18 finished with value: 0.7782812264008458 and parameters: {'criterion': 'gini', 'n_estimators': 159, 'max_depth': 19, 'min_samples_split': 6, 'min_samples_leaf': 3}. Best is trial 17 with value: 0.7953481347228515.\n",
      "[I 2025-07-02 11:24:20,319] Trial 19 finished with value: 0.7932839953682727 and parameters: {'criterion': 'log_loss', 'n_estimators': 428, 'max_depth': 28, 'min_samples_split': 5, 'min_samples_leaf': 2}. Best is trial 17 with value: 0.7953481347228515.\n",
      "[I 2025-07-02 11:24:22,313] Trial 20 finished with value: 0.7828626088707648 and parameters: {'criterion': 'log_loss', 'n_estimators': 36, 'max_depth': 28, 'min_samples_split': 5, 'min_samples_leaf': 4}. Best is trial 17 with value: 0.7953481347228515.\n",
      "[I 2025-07-02 11:24:49,871] Trial 21 finished with value: 0.7932839953682727 and parameters: {'criterion': 'log_loss', 'n_estimators': 435, 'max_depth': 28, 'min_samples_split': 5, 'min_samples_leaf': 2}. Best is trial 17 with value: 0.7953481347228515.\n",
      "[I 2025-07-02 11:25:22,758] Trial 22 finished with value: 0.7937370991290339 and parameters: {'criterion': 'log_loss', 'n_estimators': 494, 'max_depth': 29, 'min_samples_split': 5, 'min_samples_leaf': 2}. Best is trial 17 with value: 0.7953481347228515.\n",
      "[I 2025-07-02 11:25:57,238] Trial 23 finished with value: 0.7941398580274883 and parameters: {'criterion': 'log_loss', 'n_estimators': 515, 'max_depth': 32, 'min_samples_split': 4, 'min_samples_leaf': 2}. Best is trial 17 with value: 0.7953481347228515.\n",
      "[I 2025-07-02 11:27:02,264] Trial 24 finished with value: 0.7935860645421134 and parameters: {'criterion': 'log_loss', 'n_estimators': 992, 'max_depth': 32, 'min_samples_split': 4, 'min_samples_leaf': 2}. Best is trial 17 with value: 0.7953481347228515.\n",
      "[I 2025-07-02 11:27:28,336] Trial 25 finished with value: 0.7839701958415144 and parameters: {'criterion': 'log_loss', 'n_estimators': 492, 'max_depth': 30, 'min_samples_split': 4, 'min_samples_leaf': 5}. Best is trial 17 with value: 0.7953481347228515.\n",
      "[I 2025-07-02 11:27:39,103] Trial 26 finished with value: 0.7800432965815839 and parameters: {'criterion': 'log_loss', 'n_estimators': 213, 'max_depth': 20, 'min_samples_split': 6, 'min_samples_leaf': 3}. Best is trial 17 with value: 0.7953481347228515.\n",
      "[I 2025-07-02 11:27:47,819] Trial 27 finished with value: 0.7941902028897951 and parameters: {'criterion': 'log_loss', 'n_estimators': 132, 'max_depth': 29, 'min_samples_split': 2, 'min_samples_leaf': 2}. Best is trial 17 with value: 0.7953481347228515.\n",
      "[I 2025-07-02 11:27:53,235] Trial 28 finished with value: 0.7818557116246287 and parameters: {'criterion': 'log_loss', 'n_estimators': 103, 'max_depth': 32, 'min_samples_split': 2, 'min_samples_leaf': 5}. Best is trial 17 with value: 0.7953481347228515.\n",
      "[I 2025-07-02 11:27:58,489] Trial 29 finished with value: 0.7729950158586316 and parameters: {'criterion': 'log_loss', 'n_estimators': 126, 'max_depth': 16, 'min_samples_split': 2, 'min_samples_leaf': 4}. Best is trial 17 with value: 0.7953481347228515.\n",
      "[I 2025-07-02 11:28:01,918] Trial 30 finished with value: 0.7924784775713638 and parameters: {'criterion': 'gini', 'n_estimators': 56, 'max_depth': 26, 'min_samples_split': 3, 'min_samples_leaf': 1}. Best is trial 17 with value: 0.7953481347228515.\n",
      "[I 2025-07-02 11:28:39,075] Trial 31 finished with value: 0.7943915823390223 and parameters: {'criterion': 'log_loss', 'n_estimators': 573, 'max_depth': 29, 'min_samples_split': 4, 'min_samples_leaf': 2}. Best is trial 17 with value: 0.7953481347228515.\n",
      "[I 2025-07-02 11:29:20,093] Trial 32 finished with value: 0.7944922720636359 and parameters: {'criterion': 'log_loss', 'n_estimators': 632, 'max_depth': 30, 'min_samples_split': 4, 'min_samples_leaf': 2}. Best is trial 17 with value: 0.7953481347228515.\n",
      "[I 2025-07-02 11:29:39,999] Trial 33 finished with value: 0.7896088204198761 and parameters: {'criterion': 'log_loss', 'n_estimators': 338, 'max_depth': 30, 'min_samples_split': 2, 'min_samples_leaf': 3}. Best is trial 17 with value: 0.7953481347228515.\n",
      "[I 2025-07-02 11:29:52,713] Trial 34 finished with value: 0.7893570961083421 and parameters: {'criterion': 'log_loss', 'n_estimators': 217, 'max_depth': 29, 'min_samples_split': 4, 'min_samples_leaf': 3}. Best is trial 17 with value: 0.7953481347228515.\n",
      "[I 2025-07-02 11:30:33,432] Trial 35 finished with value: 0.7862860595076272 and parameters: {'criterion': 'log_loss', 'n_estimators': 693, 'max_depth': 21, 'min_samples_split': 3, 'min_samples_leaf': 1}. Best is trial 17 with value: 0.7953481347228515.\n",
      "[I 2025-07-02 11:31:06,097] Trial 36 finished with value: 0.789407440970649 and parameters: {'criterion': 'gini', 'n_estimators': 618, 'max_depth': 26, 'min_samples_split': 8, 'min_samples_leaf': 2}. Best is trial 17 with value: 0.7953481347228515.\n",
      "[I 2025-07-02 11:31:39,410] Trial 37 finished with value: 0.7898101998691034 and parameters: {'criterion': 'log_loss', 'n_estimators': 566, 'max_depth': 30, 'min_samples_split': 4, 'min_samples_leaf': 3}. Best is trial 17 with value: 0.7953481347228515.\n",
      "[I 2025-07-02 11:31:40,513] Trial 38 finished with value: 0.7828626088707648 and parameters: {'criterion': 'gini', 'n_estimators': 22, 'max_depth': 26, 'min_samples_split': 6, 'min_samples_leaf': 4}. Best is trial 17 with value: 0.7953481347228515.\n",
      "[I 2025-07-02 11:31:50,385] Trial 39 finished with value: 0.7720384634748024 and parameters: {'criterion': 'entropy', 'n_estimators': 239, 'max_depth': 17, 'min_samples_split': 3, 'min_samples_leaf': 8}. Best is trial 17 with value: 0.7953481347228515.\n",
      "[I 2025-07-02 11:31:50,711] Trial 40 finished with value: 0.7097618688012888 and parameters: {'criterion': 'log_loss', 'n_estimators': 22, 'max_depth': 4, 'min_samples_split': 9, 'min_samples_leaf': 1}. Best is trial 17 with value: 0.7953481347228515.\n",
      "[I 2025-07-02 11:32:26,285] Trial 41 finished with value: 0.7935357196798066 and parameters: {'criterion': 'log_loss', 'n_estimators': 544, 'max_depth': 32, 'min_samples_split': 4, 'min_samples_leaf': 2}. Best is trial 17 with value: 0.7953481347228515.\n",
      "[I 2025-07-02 11:33:19,430] Trial 42 finished with value: 0.7942908926144087 and parameters: {'criterion': 'log_loss', 'n_estimators': 814, 'max_depth': 31, 'min_samples_split': 3, 'min_samples_leaf': 2}. Best is trial 17 with value: 0.7953481347228515.\n",
      "[I 2025-07-02 11:34:11,490] Trial 43 finished with value: 0.7940895131651815 and parameters: {'criterion': 'log_loss', 'n_estimators': 799, 'max_depth': 30, 'min_samples_split': 2, 'min_samples_leaf': 2}. Best is trial 17 with value: 0.7953481347228515.\n",
      "[I 2025-07-02 11:35:16,609] Trial 44 finished with value: 0.7933343402305795 and parameters: {'criterion': 'log_loss', 'n_estimators': 981, 'max_depth': 24, 'min_samples_split': 3, 'min_samples_leaf': 1}. Best is trial 17 with value: 0.7953481347228515.\n",
      "[I 2025-07-02 11:35:38,742] Trial 45 finished with value: 0.7892564063837285 and parameters: {'criterion': 'entropy', 'n_estimators': 374, 'max_depth': 29, 'min_samples_split': 3, 'min_samples_leaf': 3}. Best is trial 17 with value: 0.7953481347228515.\n",
      "[I 2025-07-02 11:36:36,222] Trial 46 finished with value: 0.7997281377435432 and parameters: {'criterion': 'log_loss', 'n_estimators': 768, 'max_depth': 31, 'min_samples_split': 2, 'min_samples_leaf': 1}. Best is trial 46 with value: 0.7997281377435432.\n",
      "[I 2025-07-02 11:37:00,632] Trial 47 finished with value: 0.7656950108241454 and parameters: {'criterion': 'entropy', 'n_estimators': 739, 'max_depth': 12, 'min_samples_split': 5, 'min_samples_leaf': 1}. Best is trial 46 with value: 0.7997281377435432.\n",
      "[I 2025-07-02 11:37:48,639] Trial 48 finished with value: 0.7999295171927705 and parameters: {'criterion': 'log_loss', 'n_estimators': 643, 'max_depth': 31, 'min_samples_split': 2, 'min_samples_leaf': 1}. Best is trial 48 with value: 0.7999295171927705.\n",
      "[I 2025-07-02 11:38:32,860] Trial 49 finished with value: 0.7976136535266576 and parameters: {'criterion': 'entropy', 'n_estimators': 618, 'max_depth': 27, 'min_samples_split': 2, 'min_samples_leaf': 1}. Best is trial 48 with value: 0.7999295171927705.\n",
      "[I 2025-07-02 11:38:52,354] Trial 50 finished with value: 0.7911191662890802 and parameters: {'criterion': 'entropy', 'n_estimators': 303, 'max_depth': 23, 'min_samples_split': 2, 'min_samples_leaf': 1}. Best is trial 48 with value: 0.7999295171927705.\n",
      "[I 2025-07-02 11:39:38,101] Trial 51 finished with value: 0.7976136535266576 and parameters: {'criterion': 'entropy', 'n_estimators': 638, 'max_depth': 27, 'min_samples_split': 2, 'min_samples_leaf': 1}. Best is trial 48 with value: 0.7999295171927705.\n",
      "[I 2025-07-02 11:40:24,041] Trial 52 finished with value: 0.7942405477521018 and parameters: {'criterion': 'entropy', 'n_estimators': 668, 'max_depth': 25, 'min_samples_split': 2, 'min_samples_leaf': 1}. Best is trial 48 with value: 0.7999295171927705.\n",
      "[I 2025-07-02 11:40:53,460] Trial 53 finished with value: 0.7979660675628052 and parameters: {'criterion': 'entropy', 'n_estimators': 411, 'max_depth': 27, 'min_samples_split': 2, 'min_samples_leaf': 1}. Best is trial 48 with value: 0.7999295171927705.\n",
      "[I 2025-07-02 11:41:21,390] Trial 54 finished with value: 0.7877964053768313 and parameters: {'criterion': 'entropy', 'n_estimators': 448, 'max_depth': 22, 'min_samples_split': 2, 'min_samples_leaf': 1}. Best is trial 48 with value: 0.7999295171927705.\n",
      "[I 2025-07-02 11:42:24,105] Trial 55 finished with value: 0.7978150329758849 and parameters: {'criterion': 'entropy', 'n_estimators': 874, 'max_depth': 27, 'min_samples_split': 2, 'min_samples_leaf': 1}. Best is trial 48 with value: 0.7999295171927705.\n",
      "[I 2025-07-02 11:43:23,315] Trial 56 finished with value: 0.7973115843528168 and parameters: {'criterion': 'entropy', 'n_estimators': 823, 'max_depth': 27, 'min_samples_split': 2, 'min_samples_leaf': 1}. Best is trial 48 with value: 0.7999295171927705.\n",
      "[I 2025-07-02 11:44:06,483] Trial 57 finished with value: 0.7757639832855057 and parameters: {'criterion': 'entropy', 'n_estimators': 920, 'max_depth': 25, 'min_samples_split': 3, 'min_samples_leaf': 9}. Best is trial 48 with value: 0.7999295171927705.\n",
      "[I 2025-07-02 11:44:29,981] Trial 58 finished with value: 0.7937874439913407 and parameters: {'criterion': 'entropy', 'n_estimators': 350, 'max_depth': 24, 'min_samples_split': 2, 'min_samples_leaf': 1}. Best is trial 48 with value: 0.7999295171927705.\n",
      "[I 2025-07-02 11:44:59,064] Trial 59 finished with value: 0.7992750339827821 and parameters: {'criterion': 'entropy', 'n_estimators': 399, 'max_depth': 28, 'min_samples_split': 2, 'min_samples_leaf': 1}. Best is trial 48 with value: 0.7999295171927705.\n",
      "[I 2025-07-02 11:45:27,112] Trial 60 finished with value: 0.7997281377435432 and parameters: {'criterion': 'entropy', 'n_estimators': 382, 'max_depth': 31, 'min_samples_split': 3, 'min_samples_leaf': 1}. Best is trial 48 with value: 0.7999295171927705.\n",
      "[I 2025-07-02 11:45:47,579] Trial 61 finished with value: 0.7993757237073956 and parameters: {'criterion': 'entropy', 'n_estimators': 278, 'max_depth': 31, 'min_samples_split': 3, 'min_samples_leaf': 1}. Best is trial 48 with value: 0.7999295171927705.\n",
      "[I 2025-07-02 11:46:07,643] Trial 62 finished with value: 0.7992246891204753 and parameters: {'criterion': 'entropy', 'n_estimators': 271, 'max_depth': 31, 'min_samples_split': 3, 'min_samples_leaf': 1}. Best is trial 48 with value: 0.7999295171927705.\n",
      "[I 2025-07-02 11:46:27,165] Trial 63 finished with value: 0.7785329507123798 and parameters: {'criterion': 'entropy', 'n_estimators': 392, 'max_depth': 31, 'min_samples_split': 3, 'min_samples_leaf': 7}. Best is trial 48 with value: 0.7999295171927705.\n",
      "[I 2025-07-02 11:46:44,967] Trial 64 finished with value: 0.7944922720636359 and parameters: {'criterion': 'entropy', 'n_estimators': 274, 'max_depth': 31, 'min_samples_split': 3, 'min_samples_leaf': 2}. Best is trial 48 with value: 0.7999295171927705.\n",
      "[I 2025-07-02 11:46:59,802] Trial 65 finished with value: 0.7996274480189297 and parameters: {'criterion': 'entropy', 'n_estimators': 202, 'max_depth': 31, 'min_samples_split': 3, 'min_samples_leaf': 1}. Best is trial 48 with value: 0.7999295171927705.\n",
      "[I 2025-07-02 11:47:11,723] Trial 66 finished with value: 0.7953481347228515 and parameters: {'criterion': 'entropy', 'n_estimators': 182, 'max_depth': 32, 'min_samples_split': 3, 'min_samples_leaf': 2}. Best is trial 48 with value: 0.7999295171927705.\n",
      "[I 2025-07-02 11:47:25,750] Trial 67 finished with value: 0.8000302069173841 and parameters: {'criterion': 'entropy', 'n_estimators': 191, 'max_depth': 31, 'min_samples_split': 3, 'min_samples_leaf': 1}. Best is trial 67 with value: 0.8000302069173841.\n",
      "[I 2025-07-02 11:47:37,929] Trial 68 finished with value: 0.7924784775713638 and parameters: {'criterion': 'entropy', 'n_estimators': 190, 'max_depth': 28, 'min_samples_split': 3, 'min_samples_leaf': 2}. Best is trial 67 with value: 0.8000302069173841.\n",
      "[I 2025-07-02 11:47:47,679] Trial 69 finished with value: 0.7997281377435432 and parameters: {'criterion': 'gini', 'n_estimators': 153, 'max_depth': 31, 'min_samples_split': 3, 'min_samples_leaf': 1}. Best is trial 67 with value: 0.8000302069173841.\n",
      "[I 2025-07-02 11:47:56,061] Trial 70 finished with value: 0.7934350299551931 and parameters: {'criterion': 'gini', 'n_estimators': 148, 'max_depth': 32, 'min_samples_split': 4, 'min_samples_leaf': 2}. Best is trial 67 with value: 0.8000302069173841.\n",
      "[I 2025-07-02 11:48:03,136] Trial 71 finished with value: 0.7995267582943161 and parameters: {'criterion': 'gini', 'n_estimators': 110, 'max_depth': 31, 'min_samples_split': 3, 'min_samples_leaf': 1}. Best is trial 67 with value: 0.8000302069173841.\n",
      "[I 2025-07-02 11:48:09,156] Trial 72 finished with value: 0.797764688113578 and parameters: {'criterion': 'gini', 'n_estimators': 95, 'max_depth': 30, 'min_samples_split': 3, 'min_samples_leaf': 1}. Best is trial 67 with value: 0.8000302069173841.\n",
      "[I 2025-07-02 11:48:13,981] Trial 73 finished with value: 0.7974626189397372 and parameters: {'criterion': 'gini', 'n_estimators': 76, 'max_depth': 29, 'min_samples_split': 3, 'min_samples_leaf': 1}. Best is trial 67 with value: 0.8000302069173841.\n",
      "[I 2025-07-02 11:48:22,388] Trial 74 finished with value: 0.797764688113578 and parameters: {'criterion': 'gini', 'n_estimators': 133, 'max_depth': 32, 'min_samples_split': 4, 'min_samples_leaf': 1}. Best is trial 67 with value: 0.8000302069173841.\n",
      "[I 2025-07-02 11:48:29,489] Trial 75 finished with value: 0.7986205507727936 and parameters: {'criterion': 'gini', 'n_estimators': 112, 'max_depth': 30, 'min_samples_split': 3, 'min_samples_leaf': 1}. Best is trial 67 with value: 0.8000302069173841.\n",
      "[I 2025-07-02 11:48:42,352] Trial 76 finished with value: 0.7940895131651815 and parameters: {'criterion': 'gini', 'n_estimators': 226, 'max_depth': 31, 'min_samples_split': 4, 'min_samples_leaf': 2}. Best is trial 67 with value: 0.8000302069173841.\n",
      "[I 2025-07-02 11:48:48,714] Trial 77 finished with value: 0.7738005336555405 and parameters: {'criterion': 'gini', 'n_estimators': 153, 'max_depth': 31, 'min_samples_split': 3, 'min_samples_leaf': 10}. Best is trial 67 with value: 0.8000302069173841.\n",
      "[I 2025-07-02 11:48:59,708] Trial 78 finished with value: 0.7939888234405679 and parameters: {'criterion': 'gini', 'n_estimators': 196, 'max_depth': 29, 'min_samples_split': 3, 'min_samples_leaf': 2}. Best is trial 67 with value: 0.8000302069173841.\n",
      "[I 2025-07-02 11:49:10,983] Trial 79 finished with value: 0.7799929517192771 and parameters: {'criterion': 'gini', 'n_estimators': 246, 'max_depth': 31, 'min_samples_split': 4, 'min_samples_leaf': 6}. Best is trial 67 with value: 0.8000302069173841.\n",
      "[I 2025-07-02 11:49:15,731] Trial 80 finished with value: 0.7950460655490107 and parameters: {'criterion': 'gini', 'n_estimators': 79, 'max_depth': 32, 'min_samples_split': 7, 'min_samples_leaf': 1}. Best is trial 67 with value: 0.8000302069173841.\n",
      "[I 2025-07-02 11:49:39,179] Trial 81 finished with value: 0.7984191713235664 and parameters: {'criterion': 'entropy', 'n_estimators': 323, 'max_depth': 28, 'min_samples_split': 2, 'min_samples_leaf': 1}. Best is trial 67 with value: 0.8000302069173841.\n",
      "[I 2025-07-02 11:49:51,770] Trial 82 finished with value: 0.7994764134320093 and parameters: {'criterion': 'entropy', 'n_estimators': 170, 'max_depth': 30, 'min_samples_split': 2, 'min_samples_leaf': 1}. Best is trial 67 with value: 0.8000302069173841.\n",
      "[I 2025-07-02 11:49:59,816] Trial 83 finished with value: 0.7776267431908573 and parameters: {'criterion': 'entropy', 'n_estimators': 170, 'max_depth': 30, 'min_samples_split': 2, 'min_samples_leaf': 8}. Best is trial 67 with value: 0.8000302069173841.\n",
      "[I 2025-07-02 11:50:08,375] Trial 84 finished with value: 0.7976639983889644 and parameters: {'criterion': 'entropy', 'n_estimators': 118, 'max_depth': 29, 'min_samples_split': 3, 'min_samples_leaf': 1}. Best is trial 67 with value: 0.8000302069173841.\n",
      "[I 2025-07-02 11:50:22,547] Trial 85 finished with value: 0.793938478578261 and parameters: {'criterion': 'entropy', 'n_estimators': 219, 'max_depth': 31, 'min_samples_split': 2, 'min_samples_leaf': 2}. Best is trial 67 with value: 0.8000302069173841.\n",
      "[I 2025-07-02 11:50:33,322] Trial 86 finished with value: 0.7992750339827821 and parameters: {'criterion': 'entropy', 'n_estimators': 147, 'max_depth': 30, 'min_samples_split': 3, 'min_samples_leaf': 1}. Best is trial 67 with value: 0.8000302069173841.\n",
      "[I 2025-07-02 11:50:44,612] Trial 87 finished with value: 0.7948446860997835 and parameters: {'criterion': 'gini', 'n_estimators': 200, 'max_depth': 32, 'min_samples_split': 2, 'min_samples_leaf': 2}. Best is trial 67 with value: 0.8000302069173841.\n",
      "[I 2025-07-02 11:50:46,808] Trial 88 finished with value: 0.7237577405225797 and parameters: {'criterion': 'entropy', 'n_estimators': 137, 'max_depth': 5, 'min_samples_split': 3, 'min_samples_leaf': 1}. Best is trial 67 with value: 0.8000302069173841.\n",
      "[I 2025-07-02 11:50:59,306] Trial 89 finished with value: 0.797764688113578 and parameters: {'criterion': 'log_loss', 'n_estimators': 177, 'max_depth': 32, 'min_samples_split': 5, 'min_samples_leaf': 1}. Best is trial 67 with value: 0.8000302069173841.\n",
      "[I 2025-07-02 11:51:06,163] Trial 90 finished with value: 0.7950460655490107 and parameters: {'criterion': 'entropy', 'n_estimators': 106, 'max_depth': 29, 'min_samples_split': 2, 'min_samples_leaf': 2}. Best is trial 67 with value: 0.8000302069173841.\n",
      "[I 2025-07-02 11:51:41,859] Trial 91 finished with value: 0.7993253788450888 and parameters: {'criterion': 'entropy', 'n_estimators': 492, 'max_depth': 28, 'min_samples_split': 2, 'min_samples_leaf': 1}. Best is trial 67 with value: 0.8000302069173841.\n",
      "[I 2025-07-02 11:52:16,780] Trial 92 finished with value: 0.7992246891204753 and parameters: {'criterion': 'entropy', 'n_estimators': 470, 'max_depth': 30, 'min_samples_split': 2, 'min_samples_leaf': 1}. Best is trial 67 with value: 0.8000302069173841.\n",
      "[I 2025-07-02 11:52:36,662] Trial 93 finished with value: 0.8003322760912249 and parameters: {'criterion': 'entropy', 'n_estimators': 267, 'max_depth': 31, 'min_samples_split': 2, 'min_samples_leaf': 1}. Best is trial 93 with value: 0.8003322760912249.\n",
      "[I 2025-07-02 11:52:54,834] Trial 94 finished with value: 0.7992750339827821 and parameters: {'criterion': 'entropy', 'n_estimators': 248, 'max_depth': 31, 'min_samples_split': 3, 'min_samples_leaf': 1}. Best is trial 93 with value: 0.8003322760912249.\n",
      "[I 2025-07-02 11:53:05,607] Trial 95 finished with value: 0.7674067361425766 and parameters: {'criterion': 'entropy', 'n_estimators': 303, 'max_depth': 13, 'min_samples_split': 2, 'min_samples_leaf': 1}. Best is trial 93 with value: 0.8003322760912249.\n",
      "[I 2025-07-02 11:53:27,037] Trial 96 finished with value: 0.7905150279413986 and parameters: {'criterion': 'log_loss', 'n_estimators': 352, 'max_depth': 30, 'min_samples_split': 9, 'min_samples_leaf': 2}. Best is trial 93 with value: 0.8003322760912249.\n",
      "[I 2025-07-02 11:53:39,459] Trial 97 finished with value: 0.7999798620550773 and parameters: {'criterion': 'entropy', 'n_estimators': 168, 'max_depth': 31, 'min_samples_split': 3, 'min_samples_leaf': 1}. Best is trial 93 with value: 0.8003322760912249.\n",
      "[I 2025-07-02 11:53:44,032] Trial 98 finished with value: 0.7619191461511353 and parameters: {'criterion': 'entropy', 'n_estimators': 166, 'max_depth': 10, 'min_samples_split': 2, 'min_samples_leaf': 1}. Best is trial 93 with value: 0.8003322760912249.\n",
      "[I 2025-07-02 11:53:49,175] Trial 99 finished with value: 0.7932839953682727 and parameters: {'criterion': 'gini', 'n_estimators': 91, 'max_depth': 32, 'min_samples_split': 4, 'min_samples_leaf': 2}. Best is trial 93 with value: 0.8003322760912249.\n"
     ]
    },
    {
     "name": "stdout",
     "output_type": "stream",
     "text": [
      "Best parameters: {'criterion': 'entropy', 'n_estimators': 267, 'max_depth': 31, 'min_samples_split': 2, 'min_samples_leaf': 1}\n",
      "Best score: 0.8003322760912249\n"
     ]
    }
   ],
   "source": [
    "study = optuna.create_study(direction = 'maximize')\n",
    "study.optimize(objective, n_trials = 100)\n",
    "\n",
    "print(f\"Best parameters: {study.best_params}\")\n",
    "print(f\"Best score: {study.best_value}\")"
   ]
  },
  {
   "cell_type": "code",
   "execution_count": 18,
   "id": "0cef5255",
   "metadata": {},
   "outputs": [
    {
     "name": "stdout",
     "output_type": "stream",
     "text": [
      "              precision    recall  f1-score   support\n",
      "\n",
      "           0       0.88      0.74      0.80     13904\n",
      "           1       0.56      0.77      0.65      5959\n",
      "\n",
      "    accuracy                           0.75     19863\n",
      "   macro avg       0.72      0.75      0.72     19863\n",
      "weighted avg       0.78      0.75      0.76     19863\n",
      "\n"
     ]
    },
    {
     "data": {
      "image/png": "[encoded data removed]",
      "text/plain": [
       "<Figure size 640x480 with 2 Axes>"
      ]
     },
     "metadata": {},
     "output_type": "display_data"
    }
   ],
   "source": [
    "# Entrenar el modelo indicando los mejores parámetros\n",
    "clf_RF_op = RandomForestClassifier(criterion = \"entropy\", n_estimators = 267, max_depth = 31, min_samples_split = 2, min_samples_leaf = 1, class_weight = \"balanced\", random_state = 42)\n",
    "clf_RF_op.fit(X_train_us, y_train_us)\n",
    "\n",
    "# Realizar predicciones y evaluar el modelo\n",
    "y_pred_RF_op = clf_RF_op.predict(X_test)\n",
    "print(classification_report(y_test, y_pred_RF_op))\n",
    "ConfusionMatrixDisplay.from_predictions(y_test, y_pred_RF_op);"
   ]
  },
  {
   "cell_type": "code",
   "execution_count": 19,
   "id": "d1271553",
   "metadata": {},
   "outputs": [],
   "source": [
    "# Optimización de parámetros por GridSearchCV\n",
    "\n",
    "parameters = {\n",
    "    \"n_estimators\": [100,200,300],\n",
    "    \"max_depth\": [None],\n",
    "    \"min_samples_leaf\": [1,2,4],\n",
    "    \"min_samples_split\": [2,5,10],\n",
    "    \"max_features\": [\"sqrt\",\"log2\",None]}\n",
    "\n",
    "grid_RF = GridSearchCV(clf_RF,\n",
    "                       param_grid = parameters,\n",
    "                       cv = 5,\n",
    "                       scoring = \"balanced_accuracy\",\n",
    "                       n_jobs = -1)"
   ]
  },
  {
   "cell_type": "code",
   "execution_count": 20,
   "id": "a9c5a292",
   "metadata": {},
   "outputs": [
    {
     "name": "stdout",
     "output_type": "stream",
     "text": [
      "0.7306159192011094\n",
      "{'max_depth': None, 'max_features': None, 'min_samples_leaf': 1, 'min_samples_split': 2, 'n_estimators': 300}\n",
      "              precision    recall  f1-score   support\n",
      "\n",
      "           0       0.84      0.88      0.86     13904\n",
      "           1       0.69      0.61      0.65      5959\n",
      "\n",
      "    accuracy                           0.80     19863\n",
      "   macro avg       0.77      0.75      0.75     19863\n",
      "weighted avg       0.80      0.80      0.80     19863\n",
      "\n"
     ]
    },
    {
     "data": {
      "text/plain": [
       "<sklearn.metrics._plot.confusion_matrix.ConfusionMatrixDisplay at 0x1c0484c3530>"
      ]
     },
     "execution_count": 20,
     "metadata": {},
     "output_type": "execute_result"
    },
    {
     "data": {
      "image/png": "[encoded data removed]",
      "text/plain": [
       "<Figure size 640x480 with 2 Axes>"
      ]
     },
     "metadata": {},
     "output_type": "display_data"
    }
   ],
   "source": [
    "# Entrenar el modelo indicando los mejores parámetros\n",
    "grid_RF.fit(X_train, y_train)\n",
    "print(grid_RF.best_score_)\n",
    "print(grid_RF.best_params_)\n",
    "\n",
    "# Realizar predicciones y evaluar el modelo\n",
    "y_pred_RF_gs = grid_RF.best_estimator_.predict(X_test)\n",
    "print(classification_report(y_test, y_pred_RF_gs))\n",
    "ConfusionMatrixDisplay.from_predictions(y_test, y_pred_RF_gs)"
   ]
  },
  {
   "cell_type": "markdown",
   "id": "7db69220",
   "metadata": {},
   "source": [
    "### REPLANTEAMIENTO DE FEATURES"
   ]
  },
  {
   "cell_type": "code",
   "execution_count": 21,
   "id": "698c4d30",
   "metadata": {},
   "outputs": [],
   "source": [
    "# Se descarta la variable 'arr_week', que mostró poca relación estadística con el 'target'\n",
    "X_train2 = X_train.copy()\n",
    "X_train2.drop(columns = [\"arr_week\"], inplace = True)\n",
    "\n",
    "X_test2 = X_test.copy()\n",
    "X_test2.drop(columns = [\"arr_week\"], inplace = True)"
   ]
  },
  {
   "cell_type": "code",
   "execution_count": 22,
   "id": "9369a308",
   "metadata": {},
   "outputs": [
    {
     "name": "stdout",
     "output_type": "stream",
     "text": [
      "              precision    recall  f1-score   support\n",
      "\n",
      "           0       0.83      0.88      0.85     13904\n",
      "           1       0.67      0.58      0.62      5959\n",
      "\n",
      "    accuracy                           0.79     19863\n",
      "   macro avg       0.75      0.73      0.73     19863\n",
      "weighted avg       0.78      0.79      0.78     19863\n",
      "\n"
     ]
    },
    {
     "data": {
      "image/png": "[encoded data removed]",
      "text/plain": [
       "<Figure size 640x480 with 2 Axes>"
      ]
     },
     "metadata": {},
     "output_type": "display_data"
    }
   ],
   "source": [
    "# Entrenar modelo\n",
    "clf_RF.fit(X_train2, y_train)\n",
    "\n",
    "# Realizar predicciones y evaluar el modelo\n",
    "y_pred2_RF = clf_RF.predict(X_test2)\n",
    "print(classification_report(y_test, y_pred2_RF))\n",
    "ConfusionMatrixDisplay.from_predictions(y_test, y_pred2_RF);"
   ]
  },
  {
   "cell_type": "code",
   "execution_count": 23,
   "id": "c7f5fdb4",
   "metadata": {},
   "outputs": [
    {
     "name": "stdout",
     "output_type": "stream",
     "text": [
      "[1 1 1 1 2 3 1 1 1 1 1 1 1 1]\n"
     ]
    },
    {
     "data": {
      "text/html": [
       "<div>\n",
       "<style scoped>\n",
       "    .dataframe tbody tr th:only-of-type {\n",
       "        vertical-align: middle;\n",
       "    }\n",
       "\n",
       "    .dataframe tbody tr th {\n",
       "        vertical-align: top;\n",
       "    }\n",
       "\n",
       "    .dataframe thead th {\n",
       "        text-align: right;\n",
       "    }\n",
       "</style>\n",
       "<table border=\"1\" class=\"dataframe\">\n",
       "  <thead>\n",
       "    <tr style=\"text-align: right;\">\n",
       "      <th></th>\n",
       "      <th>ranking</th>\n",
       "    </tr>\n",
       "  </thead>\n",
       "  <tbody>\n",
       "    <tr>\n",
       "      <th>daily_price</th>\n",
       "      <td>1</td>\n",
       "    </tr>\n",
       "    <tr>\n",
       "      <th>lead_time</th>\n",
       "      <td>1</td>\n",
       "    </tr>\n",
       "    <tr>\n",
       "      <th>adults</th>\n",
       "      <td>1</td>\n",
       "    </tr>\n",
       "    <tr>\n",
       "      <th>children</th>\n",
       "      <td>1</td>\n",
       "    </tr>\n",
       "    <tr>\n",
       "      <th>pre_not_cancel</th>\n",
       "      <td>1</td>\n",
       "    </tr>\n",
       "    <tr>\n",
       "      <th>pre_cancel</th>\n",
       "      <td>1</td>\n",
       "    </tr>\n",
       "    <tr>\n",
       "      <th>week_nights</th>\n",
       "      <td>1</td>\n",
       "    </tr>\n",
       "    <tr>\n",
       "      <th>arr_week</th>\n",
       "      <td>1</td>\n",
       "    </tr>\n",
       "    <tr>\n",
       "      <th>parking</th>\n",
       "      <td>1</td>\n",
       "    </tr>\n",
       "    <tr>\n",
       "      <th>special_req</th>\n",
       "      <td>1</td>\n",
       "    </tr>\n",
       "    <tr>\n",
       "      <th>weekend_nights</th>\n",
       "      <td>1</td>\n",
       "    </tr>\n",
       "    <tr>\n",
       "      <th>meal_plan</th>\n",
       "      <td>1</td>\n",
       "    </tr>\n",
       "    <tr>\n",
       "      <th>repeated_guest</th>\n",
       "      <td>2</td>\n",
       "    </tr>\n",
       "    <tr>\n",
       "      <th>total_book</th>\n",
       "      <td>3</td>\n",
       "    </tr>\n",
       "  </tbody>\n",
       "</table>\n",
       "</div>"
      ],
      "text/plain": [
       "                ranking\n",
       "daily_price           1\n",
       "lead_time             1\n",
       "adults                1\n",
       "children              1\n",
       "pre_not_cancel        1\n",
       "pre_cancel            1\n",
       "week_nights           1\n",
       "arr_week              1\n",
       "parking               1\n",
       "special_req           1\n",
       "weekend_nights        1\n",
       "meal_plan             1\n",
       "repeated_guest        2\n",
       "total_book            3"
      ]
     },
     "execution_count": 23,
     "metadata": {},
     "output_type": "execute_result"
    }
   ],
   "source": [
    "clf_RF_rf = RandomForestClassifier(max_depth = None, max_features = None, min_samples_leaf = 1, min_samples_split = 2, n_estimators = 300, random_state = 42)\n",
    "features = X_train.columns.to_list()\n",
    "\n",
    "rfe = RFE(estimator = clf_RF_rf, n_features_to_select = 12, step = 1)\n",
    "rfe.fit(X_train, y_train)\n",
    "print(rfe.ranking_)\n",
    "pd.DataFrame(rfe.ranking_, columns = [\"ranking\"], index = features).sort_values(\"ranking\")"
   ]
  },
  {
   "cell_type": "code",
   "execution_count": 24,
   "id": "22be92b9",
   "metadata": {},
   "outputs": [],
   "source": [
    "rfe.transform(X_train)\n",
    "X_train_rfe = pd.DataFrame(rfe.transform(X_train), columns = rfe.get_feature_names_out())\n",
    "features_sel = X_train_rfe.columns.to_list()\n",
    "X_test_rfe = X_test[features_sel]"
   ]
  },
  {
   "cell_type": "code",
   "execution_count": 25,
   "id": "60868c22",
   "metadata": {},
   "outputs": [
    {
     "name": "stdout",
     "output_type": "stream",
     "text": [
      "              precision    recall  f1-score   support\n",
      "\n",
      "           0       0.83      0.89      0.86     13904\n",
      "           1       0.70      0.58      0.64      5959\n",
      "\n",
      "    accuracy                           0.80     19863\n",
      "   macro avg       0.77      0.74      0.75     19863\n",
      "weighted avg       0.79      0.80      0.79     19863\n",
      "\n"
     ]
    },
    {
     "data": {
      "image/png": "[encoded data removed]",
      "text/plain": [
       "<Figure size 640x480 with 2 Axes>"
      ]
     },
     "metadata": {},
     "output_type": "display_data"
    }
   ],
   "source": [
    "# Entrenar modelo\n",
    "clf_RF.fit(X_train_rfe, y_train)\n",
    "\n",
    "# Realizar predicciones y evaluar el modelo\n",
    "y_pred_RF_rfe = clf_RF.predict(X_test_rfe)\n",
    "print(classification_report(y_test, y_pred_RF_rfe))\n",
    "ConfusionMatrixDisplay.from_predictions(y_test, y_pred_RF_rfe);"
   ]
  },
  {
   "cell_type": "code",
   "execution_count": 26,
   "id": "b9ba23f7",
   "metadata": {},
   "outputs": [
    {
     "name": "stdout",
     "output_type": "stream",
     "text": [
      "[1 1 1 1 3 4 1 2 1 1 1 1 1 1]\n",
      "              precision    recall  f1-score   support\n",
      "\n",
      "           0       0.83      0.89      0.86     13904\n",
      "           1       0.70      0.58      0.63      5959\n",
      "\n",
      "    accuracy                           0.80     19863\n",
      "   macro avg       0.76      0.74      0.75     19863\n",
      "weighted avg       0.79      0.80      0.79     19863\n",
      "\n"
     ]
    },
    {
     "data": {
      "image/png": "[encoded data removed]",
      "text/plain": [
       "<Figure size 640x480 with 2 Axes>"
      ]
     },
     "metadata": {},
     "output_type": "display_data"
    }
   ],
   "source": [
    "clf_RF_rf = RandomForestClassifier(max_depth = None, max_features = None, min_samples_leaf = 1, min_samples_split = 2, n_estimators = 300, random_state = 42)\n",
    "features = X_train.columns.to_list()\n",
    "\n",
    "rfe = RFE(estimator = clf_RF_rf, n_features_to_select = 11, step = 1)\n",
    "rfe.fit(X_train, y_train)\n",
    "print(rfe.ranking_)\n",
    "pd.DataFrame(rfe.ranking_, columns = [\"ranking\"], index = features).sort_values(\"ranking\")\n",
    "\n",
    "rfe.transform(X_train)\n",
    "X_train_rfe = pd.DataFrame(rfe.transform(X_train), columns = rfe.get_feature_names_out())\n",
    "features_sel = X_train_rfe.columns.to_list()\n",
    "X_test_rfe = X_test[features_sel]\n",
    "\n",
    "# Entrenar modelo\n",
    "clf_RF.fit(X_train_rfe, y_train)\n",
    "\n",
    "# Realizar predicciones y evaluar el modelo\n",
    "y_pred_RF_rfe = clf_RF.predict(X_test_rfe)\n",
    "print(classification_report(y_test, y_pred_RF_rfe))\n",
    "ConfusionMatrixDisplay.from_predictions(y_test, y_pred_RF_rfe);"
   ]
  },
  {
   "cell_type": "code",
   "execution_count": 27,
   "id": "ad1d1997",
   "metadata": {},
   "outputs": [
    {
     "name": "stdout",
     "output_type": "stream",
     "text": [
      "[1 1 1 2 4 5 1 3 1 1 1 1 1 1]\n",
      "              precision    recall  f1-score   support\n",
      "\n",
      "           0       0.83      0.89      0.86     13904\n",
      "           1       0.70      0.59      0.64      5959\n",
      "\n",
      "    accuracy                           0.80     19863\n",
      "   macro avg       0.77      0.74      0.75     19863\n",
      "weighted avg       0.79      0.80      0.80     19863\n",
      "\n"
     ]
    },
    {
     "data": {
      "image/png": "[encoded data removed]",
      "text/plain": [
       "<Figure size 640x480 with 2 Axes>"
      ]
     },
     "metadata": {},
     "output_type": "display_data"
    }
   ],
   "source": [
    "clf_RF_rf = RandomForestClassifier(max_depth = None, max_features = None, min_samples_leaf = 1, min_samples_split = 2, n_estimators = 300, random_state = 42)\n",
    "features = X_train.columns.to_list()\n",
    "\n",
    "rfe = RFE(estimator = clf_RF_rf, n_features_to_select = 10, step = 1)\n",
    "rfe.fit(X_train, y_train)\n",
    "print(rfe.ranking_)\n",
    "pd.DataFrame(rfe.ranking_, columns = [\"ranking\"], index = features).sort_values(\"ranking\")\n",
    "\n",
    "rfe.transform(X_train)\n",
    "X_train_rfe = pd.DataFrame(rfe.transform(X_train), columns = rfe.get_feature_names_out())\n",
    "features_sel = X_train_rfe.columns.to_list()\n",
    "X_test_rfe = X_test[features_sel]\n",
    "\n",
    "# Entrenar modelo\n",
    "clf_RF.fit(X_train_rfe, y_train)\n",
    "\n",
    "# Realizar predicciones y evaluar el modelo\n",
    "y_pred_RF_rfe = clf_RF.predict(X_test_rfe)\n",
    "print(classification_report(y_test, y_pred_RF_rfe))\n",
    "ConfusionMatrixDisplay.from_predictions(y_test, y_pred_RF_rfe);"
   ]
  },
  {
   "cell_type": "code",
   "execution_count": 28,
   "id": "4be29456",
   "metadata": {},
   "outputs": [
    {
     "name": "stdout",
     "output_type": "stream",
     "text": [
      "[1 1 1 3 5 6 2 4 1 1 1 1 1 1]\n",
      "              precision    recall  f1-score   support\n",
      "\n",
      "           0       0.83      0.89      0.86     13904\n",
      "           1       0.69      0.57      0.62      5959\n",
      "\n",
      "    accuracy                           0.79     19863\n",
      "   macro avg       0.76      0.73      0.74     19863\n",
      "weighted avg       0.79      0.79      0.79     19863\n",
      "\n"
     ]
    },
    {
     "data": {
      "image/png": "[encoded data removed]",
      "text/plain": [
       "<Figure size 640x480 with 2 Axes>"
      ]
     },
     "metadata": {},
     "output_type": "display_data"
    }
   ],
   "source": [
    "clf_RF_rf = RandomForestClassifier(max_depth = None, max_features = None, min_samples_leaf = 1, min_samples_split = 2, n_estimators = 300, random_state = 42)\n",
    "features = X_train.columns.to_list()\n",
    "\n",
    "rfe = RFE(estimator = clf_RF_rf, n_features_to_select = 9, step = 1)\n",
    "rfe.fit(X_train, y_train)\n",
    "print(rfe.ranking_)\n",
    "pd.DataFrame(rfe.ranking_, columns = [\"ranking\"], index = features).sort_values(\"ranking\")\n",
    "\n",
    "rfe.transform(X_train)\n",
    "X_train_rfe = pd.DataFrame(rfe.transform(X_train), columns = rfe.get_feature_names_out())\n",
    "features_sel = X_train_rfe.columns.to_list()\n",
    "X_test_rfe = X_test[features_sel]\n",
    "\n",
    "# Entrenar modelo\n",
    "clf_RF.fit(X_train_rfe, y_train)\n",
    "\n",
    "# Realizar predicciones y evaluar el modelo\n",
    "y_pred_RF_rfe = clf_RF.predict(X_test_rfe)\n",
    "print(classification_report(y_test, y_pred_RF_rfe))\n",
    "ConfusionMatrixDisplay.from_predictions(y_test, y_pred_RF_rfe);"
   ]
  },
  {
   "cell_type": "code",
   "execution_count": 29,
   "id": "55f925ac",
   "metadata": {},
   "outputs": [
    {
     "name": "stdout",
     "output_type": "stream",
     "text": [
      "[1 1 1 4 6 7 3 5 1 1 1 1 2 1]\n",
      "              precision    recall  f1-score   support\n",
      "\n",
      "           0       0.82      0.89      0.85     13904\n",
      "           1       0.68      0.54      0.60      5959\n",
      "\n",
      "    accuracy                           0.78     19863\n",
      "   macro avg       0.75      0.71      0.72     19863\n",
      "weighted avg       0.77      0.78      0.78     19863\n",
      "\n"
     ]
    },
    {
     "data": {
      "image/png": "[encoded data removed]",
      "text/plain": [
       "<Figure size 640x480 with 2 Axes>"
      ]
     },
     "metadata": {},
     "output_type": "display_data"
    }
   ],
   "source": [
    "clf_RF_rf = RandomForestClassifier(max_depth = None, max_features = None, min_samples_leaf = 1, min_samples_split = 2, n_estimators = 300, random_state = 42)\n",
    "features = X_train.columns.to_list()\n",
    "\n",
    "rfe = RFE(estimator = clf_RF_rf, n_features_to_select = 8, step = 1)\n",
    "rfe.fit(X_train, y_train)\n",
    "print(rfe.ranking_)\n",
    "pd.DataFrame(rfe.ranking_, columns = [\"ranking\"], index = features).sort_values(\"ranking\")\n",
    "\n",
    "rfe.transform(X_train)\n",
    "X_train_rfe = pd.DataFrame(rfe.transform(X_train), columns = rfe.get_feature_names_out())\n",
    "features_sel = X_train_rfe.columns.to_list()\n",
    "X_test_rfe = X_test[features_sel]\n",
    "\n",
    "# Entrenar modelo\n",
    "clf_RF.fit(X_train_rfe, y_train)\n",
    "\n",
    "# Realizar predicciones y evaluar el modelo\n",
    "y_pred_RF_rfe = clf_RF.predict(X_test_rfe)\n",
    "print(classification_report(y_test, y_pred_RF_rfe))\n",
    "ConfusionMatrixDisplay.from_predictions(y_test, y_pred_RF_rfe);"
   ]
  },
  {
   "cell_type": "markdown",
   "id": "0f2ff3d3",
   "metadata": {},
   "source": [
    "## CONCLUSIONES"
   ]
  },
  {
   "cell_type": "markdown",
   "id": "5c9e0dd5",
   "metadata": {},
   "source": [
    "El mejor resultado se obtiene con una selección de 10 variables, aplicada a un modelo RandomForestClassifier.  \n",
    "Sin embargo, los resultados no son muy diferentes si se emplean todas las variables y se indica la opción 'balanced' en el 'class_weight' del modelo, o incluso si se entrena el modelo sin optimización de hiperparámetros o features.  \n",
    "En ninguno de los casos se ha superado el 80% de accuracy."
   ]
  }
 ],
 "metadata": {
  "kernelspec": {
   "display_name": "Python 3",
   "language": "python",
   "name": "python3"
  },
  "language_info": {
   "codemirror_mode": {
    "name": "ipython",
    "version": 3
   },
   "file_extension": ".py",
   "mimetype": "text/x-python",
   "name": "python",
   "nbconvert_exporter": "python",
   "pygments_lexer": "ipython3",
   "version": "3.13.2"
  }
 },
 "nbformat": 4,
 "nbformat_minor": 5
}
