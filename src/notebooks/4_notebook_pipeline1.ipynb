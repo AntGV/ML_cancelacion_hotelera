{
 "cells": [
  {
   "cell_type": "code",
   "execution_count": 20,
   "id": "a009ea0c",
   "metadata": {},
   "outputs": [],
   "source": [
    "import joblib\n",
    "import numpy as np\n",
    "import pandas as pd\n",
    "import pickle\n",
    "import seaborn as sns\n",
    "\n",
    "from matplotlib import pyplot as plt"
   ]
  },
  {
   "cell_type": "code",
   "execution_count": null,
   "id": "49981574",
   "metadata": {},
   "outputs": [],
   "source": [
    "# Se lee el dataset de trabajo\n",
    "df = pd.read_csv(\"../data/Datos_Reservas_full.csv\")\n",
    "\n",
    "# Se extrae una muestra aleatoria de mil registros y se guarda el archivo\n",
    "df_muestra = df.sample(1000, random_state = 42)\n",
    "df_muestra.to_csv(\"../data_sample/muestra_reservas.csv\", index = False) \n",
    "\n",
    "# Se eliminan esos registros del dataset original\n",
    "df = df[~df.isin(df_muestra).all(axis=1)]"
   ]
  },
  {
   "cell_type": "code",
   "execution_count": 22,
   "id": "800421ab",
   "metadata": {},
   "outputs": [
    {
     "name": "stdout",
     "output_type": "stream",
     "text": [
      "<class 'pandas.core.frame.DataFrame'>\n",
      "Index: 152355 entries, 0 to 153354\n",
      "Data columns (total 16 columns):\n",
      " #   Column          Non-Null Count   Dtype  \n",
      "---  ------          --------------   -----  \n",
      " 0   daily_price     152355 non-null  float64\n",
      " 1   lead_time       152355 non-null  int64  \n",
      " 2   adults          152355 non-null  int64  \n",
      " 3   children        152355 non-null  int64  \n",
      " 4   repeated_guest  152355 non-null  int64  \n",
      " 5   total_book      152355 non-null  int64  \n",
      " 6   pre_cancel      152355 non-null  int64  \n",
      " 7   pre_not_cancel  152355 non-null  int64  \n",
      " 8   arr_date        152355 non-null  object \n",
      " 9   arr_week        152355 non-null  int64  \n",
      " 10  week_nights     152355 non-null  int64  \n",
      " 11  weekend_nights  152355 non-null  int64  \n",
      " 12  meal_plan       152355 non-null  object \n",
      " 13  parking         152355 non-null  int64  \n",
      " 14  special_req     152355 non-null  int64  \n",
      " 15  canceled        152355 non-null  int64  \n",
      "dtypes: float64(1), int64(13), object(2)\n",
      "memory usage: 19.8+ MB\n"
     ]
    }
   ],
   "source": [
    "df.info()"
   ]
  }
 ],
 "metadata": {
  "kernelspec": {
   "display_name": "Python 3",
   "language": "python",
   "name": "python3"
  },
  "language_info": {
   "codemirror_mode": {
    "name": "ipython",
    "version": 3
   },
   "file_extension": ".py",
   "mimetype": "text/x-python",
   "name": "python",
   "nbconvert_exporter": "python",
   "pygments_lexer": "ipython3",
   "version": "3.13.2"
  }
 },
 "nbformat": 4,
 "nbformat_minor": 5
}
