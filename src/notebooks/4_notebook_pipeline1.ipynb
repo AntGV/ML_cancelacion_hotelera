{
 "cells": [
  {
   "cell_type": "code",
   "execution_count": 33,
   "id": "a009ea0c",
   "metadata": {},
   "outputs": [],
   "source": [
    "import os, sys\n",
    "sys.path.append(os.path.abspath(\"../\"))\n",
    "from utils.toolbox import *\n",
    "\n",
    "import joblib\n",
    "import numpy as np\n",
    "import pandas as pd\n",
    "import pickle\n",
    "\n",
    "from sklearn.compose import ColumnTransformer\n",
    "from sklearn.pipeline import Pipeline, make_pipeline"
   ]
  },
  {
   "cell_type": "code",
   "execution_count": 34,
   "id": "49981574",
   "metadata": {},
   "outputs": [],
   "source": [
    "# Se lee el dataset de trabajo\n",
    "df = pd.read_csv(\"../data/Datos_Reservas_full.csv\")\n",
    "\n",
    "# Se extrae una muestra aleatoria de mil registros y se guarda el archivo\n",
    "df_muestra = df.sample(1000, random_state = 42)\n",
    "df_muestra.to_csv(\"../data_sample/muestra_reservas.csv\", index = False) \n",
    "\n",
    "# Se eliminan esos registros del dataset original\n",
    "df = df[~df.isin(df_muestra).all(axis=1)]"
   ]
  },
  {
   "cell_type": "code",
   "execution_count": 35,
   "id": "800421ab",
   "metadata": {},
   "outputs": [
    {
     "name": "stdout",
     "output_type": "stream",
     "text": [
      "<class 'pandas.core.frame.DataFrame'>\n",
      "Index: 152355 entries, 0 to 153354\n",
      "Data columns (total 16 columns):\n",
      " #   Column          Non-Null Count   Dtype  \n",
      "---  ------          --------------   -----  \n",
      " 0   daily_price     152355 non-null  float64\n",
      " 1   lead_time       152355 non-null  int64  \n",
      " 2   adults          152355 non-null  int64  \n",
      " 3   children        152355 non-null  int64  \n",
      " 4   repeated_guest  152355 non-null  int64  \n",
      " 5   total_book      152355 non-null  int64  \n",
      " 6   pre_cancel      152355 non-null  int64  \n",
      " 7   pre_not_cancel  152355 non-null  int64  \n",
      " 8   arr_date        152355 non-null  object \n",
      " 9   arr_week        152355 non-null  int64  \n",
      " 10  week_nights     152355 non-null  int64  \n",
      " 11  weekend_nights  152355 non-null  int64  \n",
      " 12  meal_plan       152355 non-null  object \n",
      " 13  parking         152355 non-null  int64  \n",
      " 14  special_req     152355 non-null  int64  \n",
      " 15  canceled        152355 non-null  int64  \n",
      "dtypes: float64(1), int64(13), object(2)\n",
      "memory usage: 19.8+ MB\n"
     ]
    }
   ],
   "source": [
    "df.info()"
   ]
  },
  {
   "cell_type": "code",
   "execution_count": 36,
   "id": "a8786e92",
   "metadata": {},
   "outputs": [],
   "source": [
    "columns_to_include = ['daily_price',\n",
    "                      'lead_time',\n",
    "                      'adults',\n",
    "                      'children',\n",
    "                      'repeated_guest',\n",
    "                      'total_book',\n",
    "                      'pre_cancel',\n",
    "                      'pre_not_cancel',\n",
    "                      'arr_date',\n",
    "                      'arr_week',\n",
    "                      'week_nights',\n",
    "                      'weekend_nights',\n",
    "                      'meal_plan',\n",
    "                      'parking',\n",
    "                      'special_req',\n",
    "                      'canceled']"
   ]
  },
  {
   "cell_type": "code",
   "execution_count": 37,
   "id": "b15a00b8",
   "metadata": {},
   "outputs": [],
   "source": [
    "pipe_columns = ColumnTransformer([(\"incluye\",\"passthrough\",columns_to_include)], remainder = \"drop\" )"
   ]
  },
  {
   "cell_type": "code",
   "execution_count": 38,
   "id": "76b25c3f",
   "metadata": {},
   "outputs": [
    {
     "name": "stdout",
     "output_type": "stream",
     "text": [
      "<class 'pandas.core.frame.DataFrame'>\n",
      "RangeIndex: 152355 entries, 0 to 152354\n",
      "Data columns (total 16 columns):\n",
      " #   Column                   Non-Null Count   Dtype \n",
      "---  ------                   --------------   ----- \n",
      " 0   incluye__daily_price     152355 non-null  object\n",
      " 1   incluye__lead_time       152355 non-null  object\n",
      " 2   incluye__adults          152355 non-null  object\n",
      " 3   incluye__children        152355 non-null  object\n",
      " 4   incluye__repeated_guest  152355 non-null  object\n",
      " 5   incluye__total_book      152355 non-null  object\n",
      " 6   incluye__pre_cancel      152355 non-null  object\n",
      " 7   incluye__pre_not_cancel  152355 non-null  object\n",
      " 8   incluye__arr_date        152355 non-null  object\n",
      " 9   incluye__arr_week        152355 non-null  object\n",
      " 10  incluye__week_nights     152355 non-null  object\n",
      " 11  incluye__weekend_nights  152355 non-null  object\n",
      " 12  incluye__meal_plan       152355 non-null  object\n",
      " 13  incluye__parking         152355 non-null  object\n",
      " 14  incluye__special_req     152355 non-null  object\n",
      " 15  incluye__canceled        152355 non-null  object\n",
      "dtypes: object(16)\n",
      "memory usage: 18.6+ MB\n"
     ]
    }
   ],
   "source": [
    "pipe_end = pipe_columns.fit_transform(df)\n",
    "pipe_columns.get_feature_names_out()\n",
    "df_check = pd.DataFrame(pipe_end, columns = pipe_columns.get_feature_names_out())\n",
    "df_check.info()"
   ]
  },
  {
   "cell_type": "code",
   "execution_count": 39,
   "id": "cfd8e438",
   "metadata": {},
   "outputs": [
    {
     "name": "stdout",
     "output_type": "stream",
     "text": [
      "<class 'pandas.core.frame.DataFrame'>\n",
      "RangeIndex: 36275 entries, 0 to 36274\n",
      "Data columns (total 19 columns):\n",
      " #   Column                                Non-Null Count  Dtype  \n",
      "---  ------                                --------------  -----  \n",
      " 0   Booking_ID                            36275 non-null  object \n",
      " 1   no_of_adults                          36275 non-null  int64  \n",
      " 2   no_of_children                        36275 non-null  int64  \n",
      " 3   no_of_weekend_nights                  36275 non-null  int64  \n",
      " 4   no_of_week_nights                     36275 non-null  int64  \n",
      " 5   type_of_meal_plan                     36275 non-null  object \n",
      " 6   required_car_parking_space            36275 non-null  int64  \n",
      " 7   room_type_reserved                    36275 non-null  object \n",
      " 8   lead_time                             36275 non-null  int64  \n",
      " 9   arrival_year                          36275 non-null  int64  \n",
      " 10  arrival_month                         36275 non-null  int64  \n",
      " 11  arrival_date                          36275 non-null  int64  \n",
      " 12  market_segment_type                   36275 non-null  object \n",
      " 13  repeated_guest                        36275 non-null  int64  \n",
      " 14  no_of_previous_cancellations          36275 non-null  int64  \n",
      " 15  no_of_previous_bookings_not_canceled  36275 non-null  int64  \n",
      " 16  avg_price_per_room                    36275 non-null  float64\n",
      " 17  no_of_special_requests                36275 non-null  int64  \n",
      " 18  booking_status                        36275 non-null  object \n",
      "dtypes: float64(1), int64(13), object(5)\n",
      "memory usage: 5.3+ MB\n"
     ]
    }
   ],
   "source": [
    "df_test = pd.read_csv(\"../data/Hotel_Reservations.csv\")\n",
    "df_test.info()"
   ]
  },
  {
   "cell_type": "code",
   "execution_count": 40,
   "id": "54c285bb",
   "metadata": {},
   "outputs": [
    {
     "name": "stdout",
     "output_type": "stream",
     "text": [
      "<class 'pandas.core.frame.DataFrame'>\n",
      "RangeIndex: 119390 entries, 0 to 119389\n",
      "Data columns (total 36 columns):\n",
      " #   Column                          Non-Null Count   Dtype  \n",
      "---  ------                          --------------   -----  \n",
      " 0   hotel                           119390 non-null  object \n",
      " 1   is_canceled                     119390 non-null  int64  \n",
      " 2   lead_time                       119390 non-null  int64  \n",
      " 3   arrival_date_year               119390 non-null  int64  \n",
      " 4   arrival_date_month              119390 non-null  object \n",
      " 5   arrival_date_week_number        119390 non-null  int64  \n",
      " 6   arrival_date_day_of_month       119390 non-null  int64  \n",
      " 7   stays_in_weekend_nights         119390 non-null  int64  \n",
      " 8   stays_in_week_nights            119390 non-null  int64  \n",
      " 9   adults                          119390 non-null  int64  \n",
      " 10  children                        119386 non-null  float64\n",
      " 11  babies                          119390 non-null  int64  \n",
      " 12  meal                            119390 non-null  object \n",
      " 13  country                         118902 non-null  object \n",
      " 14  market_segment                  119390 non-null  object \n",
      " 15  distribution_channel            119390 non-null  object \n",
      " 16  is_repeated_guest               119390 non-null  int64  \n",
      " 17  previous_cancellations          119390 non-null  int64  \n",
      " 18  previous_bookings_not_canceled  119390 non-null  int64  \n",
      " 19  reserved_room_type              119390 non-null  object \n",
      " 20  assigned_room_type              119390 non-null  object \n",
      " 21  booking_changes                 119390 non-null  int64  \n",
      " 22  deposit_type                    119390 non-null  object \n",
      " 23  agent                           103050 non-null  float64\n",
      " 24  company                         6797 non-null    float64\n",
      " 25  days_in_waiting_list            119390 non-null  int64  \n",
      " 26  customer_type                   119390 non-null  object \n",
      " 27  adr                             119390 non-null  float64\n",
      " 28  required_car_parking_spaces     119390 non-null  int64  \n",
      " 29  total_of_special_requests       119390 non-null  int64  \n",
      " 30  reservation_status              119390 non-null  object \n",
      " 31  reservation_status_date         119390 non-null  object \n",
      " 32  name                            119390 non-null  object \n",
      " 33  email                           119390 non-null  object \n",
      " 34  phone-number                    119390 non-null  object \n",
      " 35  credit_card                     119390 non-null  object \n",
      "dtypes: float64(4), int64(16), object(16)\n",
      "memory usage: 32.8+ MB\n"
     ]
    }
   ],
   "source": [
    "df_test2 = pd.read_csv(\"../data/Hotel_Bookings.csv\")\n",
    "df_test2.info()"
   ]
  },
  {
   "cell_type": "code",
   "execution_count": 43,
   "id": "74d52cd7",
   "metadata": {},
   "outputs": [
    {
     "ename": "NameError",
     "evalue": "name 'nombres_columnas' is not defined",
     "output_type": "error",
     "traceback": [
      "\u001b[1;31m---------------------------------------------------------------------------\u001b[0m",
      "\u001b[1;31mNameError\u001b[0m                                 Traceback (most recent call last)",
      "Cell \u001b[1;32mIn[43], line 1\u001b[0m\n\u001b[1;32m----> 1\u001b[0m \u001b[43mnombres_columnas\u001b[49m(df_test)\n",
      "\u001b[1;31mNameError\u001b[0m: name 'nombres_columnas' is not defined"
     ]
    }
   ],
   "source": [
    "nombres_columnas(df_test)"
   ]
  }
 ],
 "metadata": {
  "kernelspec": {
   "display_name": "Python 3",
   "language": "python",
   "name": "python3"
  },
  "language_info": {
   "codemirror_mode": {
    "name": "ipython",
    "version": 3
   },
   "file_extension": ".py",
   "mimetype": "text/x-python",
   "name": "python",
   "nbconvert_exporter": "python",
   "pygments_lexer": "ipython3",
   "version": "3.13.2"
  }
 },
 "nbformat": 4,
 "nbformat_minor": 5
}
