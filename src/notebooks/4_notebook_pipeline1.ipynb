{
 "cells": [
  {
   "cell_type": "code",
   "execution_count": null,
   "id": "a009ea0c",
   "metadata": {},
   "outputs": [],
   "source": [
    "import joblib\n",
    "import numpy as np\n",
    "import pandas as pd\n",
    "import pickle\n",
    "import seaborn as sns\n",
    "\n",
    "from matplotlib import pyplot as plt"
   ]
  },
  {
   "cell_type": "code",
   "execution_count": null,
   "id": "49981574",
   "metadata": {},
   "outputs": [],
   "source": [
    "df = pd.read_csv(\"../data_sample/Datos_Reservas_full.csv\")\n",
    "df_muestra = df.sample(1000, random_state = 42)\n",
    "df_muestra.info()"
   ]
  }
 ],
 "metadata": {
  "language_info": {
   "name": "python"
  }
 },
 "nbformat": 4,
 "nbformat_minor": 5
}
