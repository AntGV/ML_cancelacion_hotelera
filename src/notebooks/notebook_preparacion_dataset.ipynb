{
 "cells": [
  {
   "cell_type": "code",
   "execution_count": 170,
   "id": "4c36a5da",
   "metadata": {},
   "outputs": [],
   "source": [
    "import os, sys\n",
    "sys.path.append(os.path.abspath(\"../\"))\n",
    "\n",
    "import pandas as pd\n",
    "\n",
    "from utils.funciones import *\n"
   ]
  },
  {
   "cell_type": "markdown",
   "id": "f91b3ee2",
   "metadata": {},
   "source": [
    "### REVISIÓN INICIAL DE LOS DATASET"
   ]
  },
  {
   "cell_type": "code",
   "execution_count": 171,
   "id": "8761be04",
   "metadata": {},
   "outputs": [
    {
     "name": "stdout",
     "output_type": "stream",
     "text": [
      "<class 'pandas.core.frame.DataFrame'>\n",
      "RangeIndex: 36275 entries, 0 to 36274\n",
      "Data columns (total 19 columns):\n",
      " #   Column                                Non-Null Count  Dtype  \n",
      "---  ------                                --------------  -----  \n",
      " 0   Booking_ID                            36275 non-null  object \n",
      " 1   no_of_adults                          36275 non-null  int64  \n",
      " 2   no_of_children                        36275 non-null  int64  \n",
      " 3   no_of_weekend_nights                  36275 non-null  int64  \n",
      " 4   no_of_week_nights                     36275 non-null  int64  \n",
      " 5   type_of_meal_plan                     36275 non-null  object \n",
      " 6   required_car_parking_space            36275 non-null  int64  \n",
      " 7   room_type_reserved                    36275 non-null  object \n",
      " 8   lead_time                             36275 non-null  int64  \n",
      " 9   arrival_year                          36275 non-null  int64  \n",
      " 10  arrival_month                         36275 non-null  int64  \n",
      " 11  arrival_date                          36275 non-null  int64  \n",
      " 12  market_segment_type                   36275 non-null  object \n",
      " 13  repeated_guest                        36275 non-null  int64  \n",
      " 14  no_of_previous_cancellations          36275 non-null  int64  \n",
      " 15  no_of_previous_bookings_not_canceled  36275 non-null  int64  \n",
      " 16  avg_price_per_room                    36275 non-null  float64\n",
      " 17  no_of_special_requests                36275 non-null  int64  \n",
      " 18  booking_status                        36275 non-null  object \n",
      "dtypes: float64(1), int64(13), object(5)\n",
      "memory usage: 5.3+ MB\n",
      "None\n",
      "No hay registros duplicados\n"
     ]
    }
   ],
   "source": [
    "# Carga del DataFrame 1, revisión de la información general y del número de registros duplicados.\n",
    "df1 = pd.read_csv(\"../data_sample/Hotel_Reservations.csv\")\n",
    "print(df1.info())\n",
    "if len(df1[df1.duplicated()]) == 0:\n",
    "    print(\"No hay registros duplicados\")\n",
    "else:\n",
    "    print(f\"Hay {len(df1[df1.duplicated()])} registros duplicados\")"
   ]
  },
  {
   "cell_type": "code",
   "execution_count": 172,
   "id": "cfb0a7c0",
   "metadata": {},
   "outputs": [
    {
     "name": "stdout",
     "output_type": "stream",
     "text": [
      "<class 'pandas.core.frame.DataFrame'>\n",
      "RangeIndex: 119390 entries, 0 to 119389\n",
      "Data columns (total 36 columns):\n",
      " #   Column                          Non-Null Count   Dtype  \n",
      "---  ------                          --------------   -----  \n",
      " 0   hotel                           119390 non-null  object \n",
      " 1   is_canceled                     119390 non-null  int64  \n",
      " 2   lead_time                       119390 non-null  int64  \n",
      " 3   arrival_date_year               119390 non-null  int64  \n",
      " 4   arrival_date_month              119390 non-null  object \n",
      " 5   arrival_date_week_number        119390 non-null  int64  \n",
      " 6   arrival_date_day_of_month       119390 non-null  int64  \n",
      " 7   stays_in_weekend_nights         119390 non-null  int64  \n",
      " 8   stays_in_week_nights            119390 non-null  int64  \n",
      " 9   adults                          119390 non-null  int64  \n",
      " 10  children                        119386 non-null  float64\n",
      " 11  babies                          119390 non-null  int64  \n",
      " 12  meal                            119390 non-null  object \n",
      " 13  country                         118902 non-null  object \n",
      " 14  market_segment                  119390 non-null  object \n",
      " 15  distribution_channel            119390 non-null  object \n",
      " 16  is_repeated_guest               119390 non-null  int64  \n",
      " 17  previous_cancellations          119390 non-null  int64  \n",
      " 18  previous_bookings_not_canceled  119390 non-null  int64  \n",
      " 19  reserved_room_type              119390 non-null  object \n",
      " 20  assigned_room_type              119390 non-null  object \n",
      " 21  booking_changes                 119390 non-null  int64  \n",
      " 22  deposit_type                    119390 non-null  object \n",
      " 23  agent                           103050 non-null  float64\n",
      " 24  company                         6797 non-null    float64\n",
      " 25  days_in_waiting_list            119390 non-null  int64  \n",
      " 26  customer_type                   119390 non-null  object \n",
      " 27  adr                             119390 non-null  float64\n",
      " 28  required_car_parking_spaces     119390 non-null  int64  \n",
      " 29  total_of_special_requests       119390 non-null  int64  \n",
      " 30  reservation_status              119390 non-null  object \n",
      " 31  reservation_status_date         119390 non-null  object \n",
      " 32  name                            119390 non-null  object \n",
      " 33  email                           119390 non-null  object \n",
      " 34  phone-number                    119390 non-null  object \n",
      " 35  credit_card                     119390 non-null  object \n",
      "dtypes: float64(4), int64(16), object(16)\n",
      "memory usage: 32.8+ MB\n",
      "None\n",
      "No hay registros duplicados\n"
     ]
    }
   ],
   "source": [
    "# Carga del DataFrame 2, revisión de la información general y del número de registros duplicados.\n",
    "df2 = pd.read_csv(\"../data_sample/Hotel_Bookings.csv\")\n",
    "print(df2.info())\n",
    "if len(df2[df2.duplicated()]) == 0:\n",
    "    print(\"No hay registros duplicados\")\n",
    "else:\n",
    "    print(f\"Hay {len(df2[df2.duplicated()])} registros duplicados\")"
   ]
  },
  {
   "cell_type": "markdown",
   "id": "b2de72b9",
   "metadata": {},
   "source": [
    "### UNIFORMIDAD DE DATASET"
   ]
  },
  {
   "cell_type": "code",
   "execution_count": 173,
   "id": "03b4db37",
   "metadata": {},
   "outputs": [],
   "source": [
    "# Se unifica el criterio de los nombres de las columnas.\n",
    "df2.rename(columns = {\"is_canceled\":\"booking_status\",\n",
    "                      \"arrival_date_year\":\"arrival_year\",\n",
    "                      \"arrival_date_month\":\"arrival_month\",\n",
    "                      \"arrival_date_day_of_month\":\"arrival_date\",\n",
    "                      \"stays_in_weekend_nights\":\"no_of_weekend_nights\",\n",
    "                      \"stays_in_week_nights\":\"no_of_week_nights\",\n",
    "                      \"adults\":\"no_of_adults\",\n",
    "                      \"children\":\"no_of_children\",\n",
    "                      \"meal\":\"type_of_meal_plan\",\n",
    "                      \"market_segment\":\"market_segment_type\",\n",
    "                      \"is_repeated_guest\":\"repeated_guest\",\n",
    "                      \"previous_cancellations\":\"no_of_previous_cancellations\",\n",
    "                      \"previous_bookings_not_canceled\":\"no_of_previous_bookings_not_canceled\",\n",
    "                      \"reserved_room_type\":\"room_type_reserved\",\n",
    "                      \"required_car_parking_spaces\":\"required_car_parking_space\",\n",
    "                      \"total_of_special_requests\":\"no_of_special_requests\",\n",
    "                      \"adr\":\"avg_price_per_room\",\n",
    "                      }, inplace = True)"
   ]
  },
  {
   "cell_type": "code",
   "execution_count": 174,
   "id": "70d5e9d3",
   "metadata": {},
   "outputs": [],
   "source": [
    "# Se identifican las columnas coincidentes o no entre ambos DataFrame.\n",
    "lista_coincidencias = []\n",
    "lista_no_coincidencias = []\n",
    "for col in df2.columns:\n",
    "    if col in df1.columns:\n",
    "        lista_coincidencias.append(col)\n",
    "    else:\n",
    "        lista_no_coincidencias.append(col)\n"
   ]
  },
  {
   "cell_type": "code",
   "execution_count": 175,
   "id": "537db0c9",
   "metadata": {},
   "outputs": [
    {
     "name": "stdout",
     "output_type": "stream",
     "text": [
      "18\n"
     ]
    },
    {
     "data": {
      "text/plain": [
       "['booking_status',\n",
       " 'lead_time',\n",
       " 'arrival_year',\n",
       " 'arrival_month',\n",
       " 'arrival_date',\n",
       " 'no_of_weekend_nights',\n",
       " 'no_of_week_nights',\n",
       " 'no_of_adults',\n",
       " 'no_of_children',\n",
       " 'type_of_meal_plan',\n",
       " 'market_segment_type',\n",
       " 'repeated_guest',\n",
       " 'no_of_previous_cancellations',\n",
       " 'no_of_previous_bookings_not_canceled',\n",
       " 'room_type_reserved',\n",
       " 'avg_price_per_room',\n",
       " 'required_car_parking_space',\n",
       " 'no_of_special_requests']"
      ]
     },
     "execution_count": 175,
     "metadata": {},
     "output_type": "execute_result"
    }
   ],
   "source": [
    "# Se imprime la lista de coincidentes.\n",
    "print(len(lista_coincidencias))\n",
    "lista_coincidencias"
   ]
  },
  {
   "cell_type": "code",
   "execution_count": 176,
   "id": "14514dd4",
   "metadata": {},
   "outputs": [
    {
     "name": "stdout",
     "output_type": "stream",
     "text": [
      "18\n"
     ]
    },
    {
     "data": {
      "text/plain": [
       "['hotel',\n",
       " 'arrival_date_week_number',\n",
       " 'babies',\n",
       " 'country',\n",
       " 'distribution_channel',\n",
       " 'assigned_room_type',\n",
       " 'booking_changes',\n",
       " 'deposit_type',\n",
       " 'agent',\n",
       " 'company',\n",
       " 'days_in_waiting_list',\n",
       " 'customer_type',\n",
       " 'reservation_status',\n",
       " 'reservation_status_date',\n",
       " 'name',\n",
       " 'email',\n",
       " 'phone-number',\n",
       " 'credit_card']"
      ]
     },
     "execution_count": 176,
     "metadata": {},
     "output_type": "execute_result"
    }
   ],
   "source": [
    "# Se imprime la lista de no coincidentes.\n",
    "print(len(lista_no_coincidencias))\n",
    "lista_no_coincidencias"
   ]
  },
  {
   "cell_type": "code",
   "execution_count": 177,
   "id": "1ebd711b",
   "metadata": {},
   "outputs": [
    {
     "name": "stdout",
     "output_type": "stream",
     "text": [
      "Booking_ID\n"
     ]
    }
   ],
   "source": [
    "# Se identifica la columna faltante.\n",
    "for col in df1.columns:\n",
    "    if col not in lista_coincidencias:\n",
    "        print(col)\n",
    "\n",
    "# Se crean los DataFrame coincidentes en columnas.\n",
    "dfA = df1.copy()\n",
    "dfA.drop(columns = [\"Booking_ID\"], inplace = True)\n",
    "dfB = df2[lista_coincidencias]"
   ]
  },
  {
   "cell_type": "code",
   "execution_count": 178,
   "id": "7e66b6be",
   "metadata": {},
   "outputs": [
    {
     "name": "stdout",
     "output_type": "stream",
     "text": [
      "<class 'pandas.core.frame.DataFrame'>\n",
      "RangeIndex: 36275 entries, 0 to 36274\n",
      "Data columns (total 18 columns):\n",
      " #   Column                                Non-Null Count  Dtype  \n",
      "---  ------                                --------------  -----  \n",
      " 0   no_of_adults                          36275 non-null  int64  \n",
      " 1   no_of_children                        36275 non-null  int64  \n",
      " 2   no_of_weekend_nights                  36275 non-null  int64  \n",
      " 3   no_of_week_nights                     36275 non-null  int64  \n",
      " 4   type_of_meal_plan                     36275 non-null  object \n",
      " 5   required_car_parking_space            36275 non-null  int64  \n",
      " 6   room_type_reserved                    36275 non-null  object \n",
      " 7   lead_time                             36275 non-null  int64  \n",
      " 8   arrival_year                          36275 non-null  int64  \n",
      " 9   arrival_month                         36275 non-null  int64  \n",
      " 10  arrival_date                          36275 non-null  int64  \n",
      " 11  market_segment_type                   36275 non-null  object \n",
      " 12  repeated_guest                        36275 non-null  int64  \n",
      " 13  no_of_previous_cancellations          36275 non-null  int64  \n",
      " 14  no_of_previous_bookings_not_canceled  36275 non-null  int64  \n",
      " 15  avg_price_per_room                    36275 non-null  float64\n",
      " 16  no_of_special_requests                36275 non-null  int64  \n",
      " 17  booking_status                        36275 non-null  object \n",
      "dtypes: float64(1), int64(13), object(4)\n",
      "memory usage: 5.0+ MB\n"
     ]
    }
   ],
   "source": [
    "# Se revisa la información del DataFrame A.\n",
    "dfA.info()"
   ]
  },
  {
   "cell_type": "code",
   "execution_count": 179,
   "id": "97ef9145",
   "metadata": {},
   "outputs": [
    {
     "name": "stdout",
     "output_type": "stream",
     "text": [
      "<class 'pandas.core.frame.DataFrame'>\n",
      "RangeIndex: 119390 entries, 0 to 119389\n",
      "Data columns (total 18 columns):\n",
      " #   Column                                Non-Null Count   Dtype  \n",
      "---  ------                                --------------   -----  \n",
      " 0   booking_status                        119390 non-null  int64  \n",
      " 1   lead_time                             119390 non-null  int64  \n",
      " 2   arrival_year                          119390 non-null  int64  \n",
      " 3   arrival_month                         119390 non-null  object \n",
      " 4   arrival_date                          119390 non-null  int64  \n",
      " 5   no_of_weekend_nights                  119390 non-null  int64  \n",
      " 6   no_of_week_nights                     119390 non-null  int64  \n",
      " 7   no_of_adults                          119390 non-null  int64  \n",
      " 8   no_of_children                        119386 non-null  float64\n",
      " 9   type_of_meal_plan                     119390 non-null  object \n",
      " 10  market_segment_type                   119390 non-null  object \n",
      " 11  repeated_guest                        119390 non-null  int64  \n",
      " 12  no_of_previous_cancellations          119390 non-null  int64  \n",
      " 13  no_of_previous_bookings_not_canceled  119390 non-null  int64  \n",
      " 14  room_type_reserved                    119390 non-null  object \n",
      " 15  avg_price_per_room                    119390 non-null  float64\n",
      " 16  required_car_parking_space            119390 non-null  int64  \n",
      " 17  no_of_special_requests                119390 non-null  int64  \n",
      "dtypes: float64(2), int64(12), object(4)\n",
      "memory usage: 16.4+ MB\n"
     ]
    }
   ],
   "source": [
    "# Se revisa la información del DataFrame B.\n",
    "dfB.info()"
   ]
  },
  {
   "cell_type": "markdown",
   "id": "4f432197",
   "metadata": {},
   "source": [
    "### UNIÓN DE DATAFRAMES"
   ]
  },
  {
   "cell_type": "code",
   "execution_count": 180,
   "id": "28c1e07b",
   "metadata": {},
   "outputs": [
    {
     "name": "stdout",
     "output_type": "stream",
     "text": [
      "<class 'pandas.core.frame.DataFrame'>\n",
      "Index: 155665 entries, 0 to 119389\n",
      "Data columns (total 18 columns):\n",
      " #   Column                                Non-Null Count   Dtype  \n",
      "---  ------                                --------------   -----  \n",
      " 0   no_of_adults                          155665 non-null  int64  \n",
      " 1   no_of_children                        155661 non-null  float64\n",
      " 2   no_of_weekend_nights                  155665 non-null  int64  \n",
      " 3   no_of_week_nights                     155665 non-null  int64  \n",
      " 4   type_of_meal_plan                     155665 non-null  object \n",
      " 5   required_car_parking_space            155665 non-null  int64  \n",
      " 6   room_type_reserved                    155665 non-null  object \n",
      " 7   lead_time                             155665 non-null  int64  \n",
      " 8   arrival_year                          155665 non-null  int64  \n",
      " 9   arrival_month                         155665 non-null  object \n",
      " 10  arrival_date                          155665 non-null  int64  \n",
      " 11  market_segment_type                   155665 non-null  object \n",
      " 12  repeated_guest                        155665 non-null  int64  \n",
      " 13  no_of_previous_cancellations          155665 non-null  int64  \n",
      " 14  no_of_previous_bookings_not_canceled  155665 non-null  int64  \n",
      " 15  avg_price_per_room                    155665 non-null  float64\n",
      " 16  no_of_special_requests                155665 non-null  int64  \n",
      " 17  booking_status                        155665 non-null  object \n",
      "dtypes: float64(2), int64(11), object(5)\n",
      "memory usage: 22.6+ MB\n"
     ]
    }
   ],
   "source": [
    "# Se unifican ambos DataFrame en un único conjunto de datos.\n",
    "df = pd.concat([dfA,dfB],axis = 0)\n",
    "df.info()"
   ]
  },
  {
   "cell_type": "markdown",
   "id": "8170fc74",
   "metadata": {},
   "source": [
    "### SIMPLIFICACIÓN DE NOMBRES DE COLUMNAS"
   ]
  },
  {
   "cell_type": "code",
   "execution_count": 181,
   "id": "95118366",
   "metadata": {},
   "outputs": [],
   "source": [
    "# Se simplifican los nombres de las columnas.\n",
    "df.rename(columns = {\"no_of_adults\":\"adults\",\n",
    "                     \"no_of_children\":\"children\",\n",
    "                     \"no_of_weekend_nights\":\"weekend_nights\",\n",
    "                     \"no_of_week_nights\":\"week_nights\",\n",
    "                     \"type_of_meal_plan\":\"meal_plan\",\n",
    "                     \"required_car_parking_space\":\"parking\",\n",
    "                     \"room_type_reserved\":\"room_type\",\n",
    "                     \"lead_time\":\"lead_time\",\n",
    "                     \"arrival_year\":\"arrival_year\",\n",
    "                     \"arrival_month\":\"arrival_month\",\n",
    "                     \"arrival_date\":\"arrival_day\",\n",
    "                     \"market_segment_type\":\"ms_type\",\n",
    "                     \"repeated_guest\":\"repeated_guest\",\n",
    "                     \"no_of_previous_cancellations\":\"pre_cancel\",\n",
    "                     \"no_of_previous_bookings_not_canceled\":\"pre_not_cancel\",\n",
    "                     \"avg_price_per_room\":\"daily_price\",\n",
    "                     \"no_of_special_requests\":\"special_req\",\n",
    "                     \"booking_status\":\"canceled\",\n",
    "                     }, inplace = True)"
   ]
  },
  {
   "cell_type": "markdown",
   "id": "a175f3f7",
   "metadata": {},
   "source": [
    "### TRANSFORMACIONES"
   ]
  },
  {
   "cell_type": "code",
   "execution_count": 182,
   "id": "8339f9d0",
   "metadata": {},
   "outputs": [],
   "source": [
    "# TANSFORMACIONES A 'CHILDREN'\n",
    "\n",
    "# Asignación de mediana a valores faltantes, para su posterior cambio de tipo.\n",
    "mediana_children = df.children.median()\n",
    "df.children = df.children.fillna(mediana_children)"
   ]
  },
  {
   "cell_type": "code",
   "execution_count": 183,
   "id": "2213b98d",
   "metadata": {},
   "outputs": [],
   "source": [
    "# TRANSFORMACIONES A NÚMERO DE RESERVAS\n",
    "\n",
    "# Suma de reservas totales del cliente y eliminación de columna ?pre_not_cancel'\n",
    "df[\"total_book\"] = df[\"pre_cancel\"] + df[\"pre_not_cancel\"]"
   ]
  },
  {
   "cell_type": "code",
   "execution_count": 184,
   "id": "96645339",
   "metadata": {},
   "outputs": [
    {
     "name": "stderr",
     "output_type": "stream",
     "text": [
      "S:\\Users\\NewWalhalla\\AppData\\Local\\Temp\\ipykernel_8604\\4206972183.py:8: FutureWarning: Downcasting behavior in `replace` is deprecated and will be removed in a future version. To retain the old behavior, explicitly call `result.infer_objects(copy=False)`. To opt-in to the future behavior, set `pd.set_option('future.no_silent_downcasting', True)`\n",
      "  df.canceled = df.canceled.replace({\"Not_Canceled\":0,\"Canceled\":1})\n",
      "S:\\Users\\NewWalhalla\\AppData\\Local\\Temp\\ipykernel_8604\\4206972183.py:11: FutureWarning: Downcasting behavior in `replace` is deprecated and will be removed in a future version. To retain the old behavior, explicitly call `result.infer_objects(copy=False)`. To opt-in to the future behavior, set `pd.set_option('future.no_silent_downcasting', True)`\n",
      "  df.arrival_month = df.arrival_month.replace({\"January\":1,\"February\":2,\"March\":3,\"April\":4,\"May\":5,\"June\":6,\"July\":7,\"August\":8,\"September\":9,\"October\":10,\"November\":11,\"December\":12})\n"
     ]
    }
   ],
   "source": [
    "3 # UNIFORMIDAD DE VALORES\n",
    "\n",
    "# Se transforman los valores faltantes en la columna 'children' para su posterior cambio de tipo.\n",
    "mediana_children = df.children.median()\n",
    "df.children = df.children.fillna(mediana_children)\n",
    "\n",
    "# Se uniformizan los valores que contienen las columnas para que coincidan entre los aportados por ambos DataFrame.\n",
    "df.canceled = df.canceled.replace({\"Not_Canceled\":0,\"Canceled\":1})\n",
    "df.children = df.children.astype(int)\n",
    "df.meal_plan = df.meal_plan.replace({\"Not Selected\":\"RO\",\"Meal Plan 1\":\"BB\",\"Meal Plan 2\":\"HB\",\"Meal Plan 3\":\"FB\",\"Undefined\":\"NA\"})\n",
    "df.arrival_month = df.arrival_month.replace({\"January\":1,\"February\":2,\"March\":3,\"April\":4,\"May\":5,\"June\":6,\"July\":7,\"August\":8,\"September\":9,\"October\":10,\"November\":11,\"December\":12})"
   ]
  },
  {
   "cell_type": "code",
   "execution_count": 185,
   "id": "9ee21d65",
   "metadata": {},
   "outputs": [],
   "source": [
    "# TRANSFORMACIONES A FECHAS\n",
    "\n",
    "# Decido cambiar la fecha del 29 de febrero de 2018 a 28 de febrero de 2018, porque no fue un año bisiesto.\n",
    "df.loc[(df.arrival_day == 29)&(df.arrival_month == 2)&(df.arrival_year == 2018), \"arrival_day\"] = 28\n",
    "\n",
    "# Creo una columna fecha con todos los datos y le doy formato.\n",
    "df[\"arr_date\"] = pd.to_datetime(dict(day = df.arrival_day, month = df.arrival_month, year = df.arrival_year), errors = \"coerce\")\n",
    "df.arr_date.dt.strftime(\"%d-%m-%Y\")\n",
    "\n",
    "# Creo una columna semana con la semana a la que corresponde la fecha.\n",
    "df[\"arr_week\"] = df[\"arr_date\"].dt.isocalendar().week\n",
    "df[\"arr_week\"] = df[\"arr_week\"].astype(int)\n",
    "\n",
    "# Elimino las columnas anteriores (día, mes y año).\n",
    "df.drop(columns = [\"arrival_day\",\"arrival_month\",\"arrival_year\"], inplace = True)"
   ]
  },
  {
   "cell_type": "markdown",
   "id": "2bb8c0d2",
   "metadata": {},
   "source": [
    "##### **Descripción de 'meal_plan'**\n",
    "https://www.kaggle.com/code/mariyamalshatta/inn-hotel-classification  \n",
    "Not selected = RO = Room Only  \n",
    "Meal plan 1 = BB = Bed and Breakfast  \n",
    "Meal plan 2 = HB = Half Board (breakfast and 1 meal)  \n",
    "Meal plan 3 = FB = Full Board (Breakfast, lunch, dinner)  \n",
    "SC = Self Catering (apartamento)  \n",
    "Undefined = NA (Sin determinar)  \n",
    "\n",
    "##### **Descripción de 'ms_type'**\n",
    "Online TA = Online Travel Agencies  \n",
    "Online TO = Online Tour Operator  \n",
    "\n",
    "##### **Caso especial de 'room_type'**\n",
    "No sé a qué se corresponde cada uno de los códigos, así que a menos que tenga especial relevancia con respecto a la variable target, eliminaré la columna.  \n",
    "Los tipos enconrtados en la propia página de INN Hotels no aclaran el código empleado.\n",
    "    \n",
    "Standar Room  \n",
    "Studio  \n",
    "One bedroom suite  \n",
    "Loft queen suite  \n",
    "Two bedroom suite  \n",
    "Executive suite  "
   ]
  },
  {
   "cell_type": "markdown",
   "id": "46c0ee99",
   "metadata": {},
   "source": [
    "#### REVISIÓN DE DUPLICADOS"
   ]
  },
  {
   "cell_type": "code",
   "execution_count": 186,
   "id": "f2604b3f",
   "metadata": {},
   "outputs": [
    {
     "name": "stdout",
     "output_type": "stream",
     "text": [
      "Hay 46637 registros duplicados\n"
     ]
    }
   ],
   "source": [
    "# Se indica el número de diplicados existentes tras la unión.\n",
    "if len(df[df.duplicated()]) == 0:\n",
    "    print(\"No hay registros duplicados\")\n",
    "else:\n",
    "    print(f\"Hay {len(df[df.duplicated()])} registros duplicados\")\n",
    "\n",
    "# Se eliminan los registros duplicados.\n",
    "df.drop_duplicates(keep = \"first\", inplace = True)\n"
   ]
  },
  {
   "cell_type": "markdown",
   "id": "6b8e2be0",
   "metadata": {},
   "source": [
    "### REORDENAMIENTO DE COLUMNAS Y REINDEX"
   ]
  },
  {
   "cell_type": "code",
   "execution_count": 187,
   "id": "b152325e",
   "metadata": {},
   "outputs": [
    {
     "name": "stdout",
     "output_type": "stream",
     "text": [
      "<class 'pandas.core.frame.DataFrame'>\n",
      "RangeIndex: 109028 entries, 0 to 109027\n",
      "Data columns (total 17 columns):\n",
      " #   Column          Non-Null Count   Dtype         \n",
      "---  ------          --------------   -----         \n",
      " 0   daily_price     109028 non-null  float64       \n",
      " 1   lead_time       109028 non-null  int64         \n",
      " 2   adults          109028 non-null  int64         \n",
      " 3   children        109028 non-null  int64         \n",
      " 4   repeated_guest  109028 non-null  int64         \n",
      " 5   total_book      109028 non-null  int64         \n",
      " 6   pre_cancel      109028 non-null  int64         \n",
      " 7   arr_date        109028 non-null  datetime64[ns]\n",
      " 8   arr_week        109028 non-null  int64         \n",
      " 9   week_nights     109028 non-null  int64         \n",
      " 10  weekend_nights  109028 non-null  int64         \n",
      " 11  meal_plan       109028 non-null  object        \n",
      " 12  room_type       109028 non-null  object        \n",
      " 13  parking         109028 non-null  int64         \n",
      " 14  special_req     109028 non-null  int64         \n",
      " 15  ms_type         109028 non-null  object        \n",
      " 16  canceled        109028 non-null  int64         \n",
      "dtypes: datetime64[ns](1), float64(1), int64(12), object(3)\n",
      "memory usage: 14.1+ MB\n"
     ]
    }
   ],
   "source": [
    "# Orden definitivo de columnas.\n",
    "df = df.reindex([\"daily_price\",\"lead_time\",\"adults\",\"children\",\"repeated_guest\",\"total_book\",\"pre_cancel\",\"arr_date\",\"arr_week\",\"week_nights\",\"weekend_nights\",\"meal_plan\",\"room_type\",\"parking\",\"special_req\",\"ms_type\",\"canceled\"], axis = 1)\n",
    "\n",
    "# Reseteo de índice.\n",
    "df.reset_index(drop = True, inplace = True)\n",
    "\n",
    "# Revisión de información.\n",
    "df.info()"
   ]
  },
  {
   "cell_type": "markdown",
   "id": "b27e91ef",
   "metadata": {},
   "source": [
    "#### GUARDADO DE DATASET DE TRABAJO"
   ]
  },
  {
   "cell_type": "code",
   "execution_count": 188,
   "id": "1bf07661",
   "metadata": {},
   "outputs": [],
   "source": [
    "df.to_csv(\"../data_sample/Datos_Reservas.csv\", index = False) "
   ]
  }
 ],
 "metadata": {
  "kernelspec": {
   "display_name": "Python 3",
   "language": "python",
   "name": "python3"
  },
  "language_info": {
   "codemirror_mode": {
    "name": "ipython",
    "version": 3
   },
   "file_extension": ".py",
   "mimetype": "text/x-python",
   "name": "python",
   "nbconvert_exporter": "python",
   "pygments_lexer": "ipython3",
   "version": "3.13.2"
  }
 },
 "nbformat": 4,
 "nbformat_minor": 5
}
