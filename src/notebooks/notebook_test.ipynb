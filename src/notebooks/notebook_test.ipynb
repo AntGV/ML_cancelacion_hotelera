{
 "cells": [
  {
   "cell_type": "code",
   "execution_count": 310,
   "id": "4c36a5da",
   "metadata": {},
   "outputs": [],
   "source": [
    "import os, sys\n",
    "sys.path.append(os.path.abspath(\"../\"))\n",
    "import pandas as pd\n",
    "\n",
    "from sklearn.model_selection import train_test_split\n",
    "from utils.bootcampviztools import *\n",
    "from utils.toolbox_ML import *\n"
   ]
  },
  {
   "cell_type": "code",
   "execution_count": 311,
   "id": "8761be04",
   "metadata": {},
   "outputs": [
    {
     "name": "stdout",
     "output_type": "stream",
     "text": [
      "<class 'pandas.core.frame.DataFrame'>\n",
      "RangeIndex: 36275 entries, 0 to 36274\n",
      "Data columns (total 19 columns):\n",
      " #   Column                                Non-Null Count  Dtype  \n",
      "---  ------                                --------------  -----  \n",
      " 0   Booking_ID                            36275 non-null  object \n",
      " 1   no_of_adults                          36275 non-null  int64  \n",
      " 2   no_of_children                        36275 non-null  int64  \n",
      " 3   no_of_weekend_nights                  36275 non-null  int64  \n",
      " 4   no_of_week_nights                     36275 non-null  int64  \n",
      " 5   type_of_meal_plan                     36275 non-null  object \n",
      " 6   required_car_parking_space            36275 non-null  int64  \n",
      " 7   room_type_reserved                    36275 non-null  object \n",
      " 8   lead_time                             36275 non-null  int64  \n",
      " 9   arrival_year                          36275 non-null  int64  \n",
      " 10  arrival_month                         36275 non-null  int64  \n",
      " 11  arrival_date                          36275 non-null  int64  \n",
      " 12  market_segment_type                   36275 non-null  object \n",
      " 13  repeated_guest                        36275 non-null  int64  \n",
      " 14  no_of_previous_cancellations          36275 non-null  int64  \n",
      " 15  no_of_previous_bookings_not_canceled  36275 non-null  int64  \n",
      " 16  avg_price_per_room                    36275 non-null  float64\n",
      " 17  no_of_special_requests                36275 non-null  int64  \n",
      " 18  booking_status                        36275 non-null  object \n",
      "dtypes: float64(1), int64(13), object(5)\n",
      "memory usage: 5.3+ MB\n",
      "None\n",
      "No hay registros duplicados\n"
     ]
    }
   ],
   "source": [
    "df1 = pd.read_csv(\"../data_sample/Hotel_Reservations.csv\")\n",
    "print(df1.info())\n",
    "if len(df1[df1.duplicated()]) == 0:\n",
    "    print(\"No hay registros duplicados\")\n",
    "else:\n",
    "    print(f\"Hay {len(df1[df1.duplicated()])} registros duplicados\")"
   ]
  },
  {
   "cell_type": "code",
   "execution_count": 312,
   "id": "4a93da44",
   "metadata": {},
   "outputs": [
    {
     "data": {
      "text/html": [
       "<div>\n",
       "<style scoped>\n",
       "    .dataframe tbody tr th:only-of-type {\n",
       "        vertical-align: middle;\n",
       "    }\n",
       "\n",
       "    .dataframe tbody tr th {\n",
       "        vertical-align: top;\n",
       "    }\n",
       "\n",
       "    .dataframe thead th {\n",
       "        text-align: right;\n",
       "    }\n",
       "</style>\n",
       "<table border=\"1\" class=\"dataframe\">\n",
       "  <thead>\n",
       "    <tr style=\"text-align: right;\">\n",
       "      <th></th>\n",
       "      <th>count</th>\n",
       "      <th>mean</th>\n",
       "      <th>std</th>\n",
       "      <th>min</th>\n",
       "      <th>25%</th>\n",
       "      <th>50%</th>\n",
       "      <th>75%</th>\n",
       "      <th>max</th>\n",
       "    </tr>\n",
       "  </thead>\n",
       "  <tbody>\n",
       "    <tr>\n",
       "      <th>no_of_adults</th>\n",
       "      <td>36275.0</td>\n",
       "      <td>1.844962</td>\n",
       "      <td>0.518715</td>\n",
       "      <td>0.0</td>\n",
       "      <td>2.0</td>\n",
       "      <td>2.00</td>\n",
       "      <td>2.0</td>\n",
       "      <td>4.0</td>\n",
       "    </tr>\n",
       "    <tr>\n",
       "      <th>no_of_children</th>\n",
       "      <td>36275.0</td>\n",
       "      <td>0.105279</td>\n",
       "      <td>0.402648</td>\n",
       "      <td>0.0</td>\n",
       "      <td>0.0</td>\n",
       "      <td>0.00</td>\n",
       "      <td>0.0</td>\n",
       "      <td>10.0</td>\n",
       "    </tr>\n",
       "    <tr>\n",
       "      <th>no_of_weekend_nights</th>\n",
       "      <td>36275.0</td>\n",
       "      <td>0.810724</td>\n",
       "      <td>0.870644</td>\n",
       "      <td>0.0</td>\n",
       "      <td>0.0</td>\n",
       "      <td>1.00</td>\n",
       "      <td>2.0</td>\n",
       "      <td>7.0</td>\n",
       "    </tr>\n",
       "    <tr>\n",
       "      <th>no_of_week_nights</th>\n",
       "      <td>36275.0</td>\n",
       "      <td>2.204300</td>\n",
       "      <td>1.410905</td>\n",
       "      <td>0.0</td>\n",
       "      <td>1.0</td>\n",
       "      <td>2.00</td>\n",
       "      <td>3.0</td>\n",
       "      <td>17.0</td>\n",
       "    </tr>\n",
       "    <tr>\n",
       "      <th>required_car_parking_space</th>\n",
       "      <td>36275.0</td>\n",
       "      <td>0.030986</td>\n",
       "      <td>0.173281</td>\n",
       "      <td>0.0</td>\n",
       "      <td>0.0</td>\n",
       "      <td>0.00</td>\n",
       "      <td>0.0</td>\n",
       "      <td>1.0</td>\n",
       "    </tr>\n",
       "    <tr>\n",
       "      <th>lead_time</th>\n",
       "      <td>36275.0</td>\n",
       "      <td>85.232557</td>\n",
       "      <td>85.930817</td>\n",
       "      <td>0.0</td>\n",
       "      <td>17.0</td>\n",
       "      <td>57.00</td>\n",
       "      <td>126.0</td>\n",
       "      <td>443.0</td>\n",
       "    </tr>\n",
       "    <tr>\n",
       "      <th>arrival_year</th>\n",
       "      <td>36275.0</td>\n",
       "      <td>2017.820427</td>\n",
       "      <td>0.383836</td>\n",
       "      <td>2017.0</td>\n",
       "      <td>2018.0</td>\n",
       "      <td>2018.00</td>\n",
       "      <td>2018.0</td>\n",
       "      <td>2018.0</td>\n",
       "    </tr>\n",
       "    <tr>\n",
       "      <th>arrival_month</th>\n",
       "      <td>36275.0</td>\n",
       "      <td>7.423653</td>\n",
       "      <td>3.069894</td>\n",
       "      <td>1.0</td>\n",
       "      <td>5.0</td>\n",
       "      <td>8.00</td>\n",
       "      <td>10.0</td>\n",
       "      <td>12.0</td>\n",
       "    </tr>\n",
       "    <tr>\n",
       "      <th>arrival_date</th>\n",
       "      <td>36275.0</td>\n",
       "      <td>15.596995</td>\n",
       "      <td>8.740447</td>\n",
       "      <td>1.0</td>\n",
       "      <td>8.0</td>\n",
       "      <td>16.00</td>\n",
       "      <td>23.0</td>\n",
       "      <td>31.0</td>\n",
       "    </tr>\n",
       "    <tr>\n",
       "      <th>repeated_guest</th>\n",
       "      <td>36275.0</td>\n",
       "      <td>0.025637</td>\n",
       "      <td>0.158053</td>\n",
       "      <td>0.0</td>\n",
       "      <td>0.0</td>\n",
       "      <td>0.00</td>\n",
       "      <td>0.0</td>\n",
       "      <td>1.0</td>\n",
       "    </tr>\n",
       "    <tr>\n",
       "      <th>no_of_previous_cancellations</th>\n",
       "      <td>36275.0</td>\n",
       "      <td>0.023349</td>\n",
       "      <td>0.368331</td>\n",
       "      <td>0.0</td>\n",
       "      <td>0.0</td>\n",
       "      <td>0.00</td>\n",
       "      <td>0.0</td>\n",
       "      <td>13.0</td>\n",
       "    </tr>\n",
       "    <tr>\n",
       "      <th>no_of_previous_bookings_not_canceled</th>\n",
       "      <td>36275.0</td>\n",
       "      <td>0.153411</td>\n",
       "      <td>1.754171</td>\n",
       "      <td>0.0</td>\n",
       "      <td>0.0</td>\n",
       "      <td>0.00</td>\n",
       "      <td>0.0</td>\n",
       "      <td>58.0</td>\n",
       "    </tr>\n",
       "    <tr>\n",
       "      <th>avg_price_per_room</th>\n",
       "      <td>36275.0</td>\n",
       "      <td>103.423539</td>\n",
       "      <td>35.089424</td>\n",
       "      <td>0.0</td>\n",
       "      <td>80.3</td>\n",
       "      <td>99.45</td>\n",
       "      <td>120.0</td>\n",
       "      <td>540.0</td>\n",
       "    </tr>\n",
       "    <tr>\n",
       "      <th>no_of_special_requests</th>\n",
       "      <td>36275.0</td>\n",
       "      <td>0.619655</td>\n",
       "      <td>0.786236</td>\n",
       "      <td>0.0</td>\n",
       "      <td>0.0</td>\n",
       "      <td>0.00</td>\n",
       "      <td>1.0</td>\n",
       "      <td>5.0</td>\n",
       "    </tr>\n",
       "  </tbody>\n",
       "</table>\n",
       "</div>"
      ],
      "text/plain": [
       "                                        count         mean        std     min  \\\n",
       "no_of_adults                          36275.0     1.844962   0.518715     0.0   \n",
       "no_of_children                        36275.0     0.105279   0.402648     0.0   \n",
       "no_of_weekend_nights                  36275.0     0.810724   0.870644     0.0   \n",
       "no_of_week_nights                     36275.0     2.204300   1.410905     0.0   \n",
       "required_car_parking_space            36275.0     0.030986   0.173281     0.0   \n",
       "lead_time                             36275.0    85.232557  85.930817     0.0   \n",
       "arrival_year                          36275.0  2017.820427   0.383836  2017.0   \n",
       "arrival_month                         36275.0     7.423653   3.069894     1.0   \n",
       "arrival_date                          36275.0    15.596995   8.740447     1.0   \n",
       "repeated_guest                        36275.0     0.025637   0.158053     0.0   \n",
       "no_of_previous_cancellations          36275.0     0.023349   0.368331     0.0   \n",
       "no_of_previous_bookings_not_canceled  36275.0     0.153411   1.754171     0.0   \n",
       "avg_price_per_room                    36275.0   103.423539  35.089424     0.0   \n",
       "no_of_special_requests                36275.0     0.619655   0.786236     0.0   \n",
       "\n",
       "                                         25%      50%     75%     max  \n",
       "no_of_adults                             2.0     2.00     2.0     4.0  \n",
       "no_of_children                           0.0     0.00     0.0    10.0  \n",
       "no_of_weekend_nights                     0.0     1.00     2.0     7.0  \n",
       "no_of_week_nights                        1.0     2.00     3.0    17.0  \n",
       "required_car_parking_space               0.0     0.00     0.0     1.0  \n",
       "lead_time                               17.0    57.00   126.0   443.0  \n",
       "arrival_year                          2018.0  2018.00  2018.0  2018.0  \n",
       "arrival_month                            5.0     8.00    10.0    12.0  \n",
       "arrival_date                             8.0    16.00    23.0    31.0  \n",
       "repeated_guest                           0.0     0.00     0.0     1.0  \n",
       "no_of_previous_cancellations             0.0     0.00     0.0    13.0  \n",
       "no_of_previous_bookings_not_canceled     0.0     0.00     0.0    58.0  \n",
       "avg_price_per_room                      80.3    99.45   120.0   540.0  \n",
       "no_of_special_requests                   0.0     0.00     1.0     5.0  "
      ]
     },
     "execution_count": 312,
     "metadata": {},
     "output_type": "execute_result"
    }
   ],
   "source": [
    "df1.describe().T"
   ]
  },
  {
   "cell_type": "code",
   "execution_count": 313,
   "id": "cfb0a7c0",
   "metadata": {},
   "outputs": [
    {
     "name": "stdout",
     "output_type": "stream",
     "text": [
      "<class 'pandas.core.frame.DataFrame'>\n",
      "RangeIndex: 119390 entries, 0 to 119389\n",
      "Data columns (total 36 columns):\n",
      " #   Column                          Non-Null Count   Dtype  \n",
      "---  ------                          --------------   -----  \n",
      " 0   hotel                           119390 non-null  object \n",
      " 1   is_canceled                     119390 non-null  int64  \n",
      " 2   lead_time                       119390 non-null  int64  \n",
      " 3   arrival_date_year               119390 non-null  int64  \n",
      " 4   arrival_date_month              119390 non-null  object \n",
      " 5   arrival_date_week_number        119390 non-null  int64  \n",
      " 6   arrival_date_day_of_month       119390 non-null  int64  \n",
      " 7   stays_in_weekend_nights         119390 non-null  int64  \n",
      " 8   stays_in_week_nights            119390 non-null  int64  \n",
      " 9   adults                          119390 non-null  int64  \n",
      " 10  children                        119386 non-null  float64\n",
      " 11  babies                          119390 non-null  int64  \n",
      " 12  meal                            119390 non-null  object \n",
      " 13  country                         118902 non-null  object \n",
      " 14  market_segment                  119390 non-null  object \n",
      " 15  distribution_channel            119390 non-null  object \n",
      " 16  is_repeated_guest               119390 non-null  int64  \n",
      " 17  previous_cancellations          119390 non-null  int64  \n",
      " 18  previous_bookings_not_canceled  119390 non-null  int64  \n",
      " 19  reserved_room_type              119390 non-null  object \n",
      " 20  assigned_room_type              119390 non-null  object \n",
      " 21  booking_changes                 119390 non-null  int64  \n",
      " 22  deposit_type                    119390 non-null  object \n",
      " 23  agent                           103050 non-null  float64\n",
      " 24  company                         6797 non-null    float64\n",
      " 25  days_in_waiting_list            119390 non-null  int64  \n",
      " 26  customer_type                   119390 non-null  object \n",
      " 27  adr                             119390 non-null  float64\n",
      " 28  required_car_parking_spaces     119390 non-null  int64  \n",
      " 29  total_of_special_requests       119390 non-null  int64  \n",
      " 30  reservation_status              119390 non-null  object \n",
      " 31  reservation_status_date         119390 non-null  object \n",
      " 32  name                            119390 non-null  object \n",
      " 33  email                           119390 non-null  object \n",
      " 34  phone-number                    119390 non-null  object \n",
      " 35  credit_card                     119390 non-null  object \n",
      "dtypes: float64(4), int64(16), object(16)\n",
      "memory usage: 32.8+ MB\n",
      "None\n",
      "No hay registros duplicados\n"
     ]
    }
   ],
   "source": [
    "df2 = pd.read_csv(\"../data_sample/Hotel_Bookings.csv\")\n",
    "print(df2.info())\n",
    "if len(df2[df2.duplicated()]) == 0:\n",
    "    print(\"No hay registros duplicados\")\n",
    "else:\n",
    "    print(f\"Hay {len(df2[df2.duplicated()])} registros duplicados\")"
   ]
  },
  {
   "cell_type": "code",
   "execution_count": 314,
   "id": "581d2440",
   "metadata": {},
   "outputs": [
    {
     "data": {
      "text/html": [
       "<div>\n",
       "<style scoped>\n",
       "    .dataframe tbody tr th:only-of-type {\n",
       "        vertical-align: middle;\n",
       "    }\n",
       "\n",
       "    .dataframe tbody tr th {\n",
       "        vertical-align: top;\n",
       "    }\n",
       "\n",
       "    .dataframe thead th {\n",
       "        text-align: right;\n",
       "    }\n",
       "</style>\n",
       "<table border=\"1\" class=\"dataframe\">\n",
       "  <thead>\n",
       "    <tr style=\"text-align: right;\">\n",
       "      <th></th>\n",
       "      <th>count</th>\n",
       "      <th>mean</th>\n",
       "      <th>std</th>\n",
       "      <th>min</th>\n",
       "      <th>25%</th>\n",
       "      <th>50%</th>\n",
       "      <th>75%</th>\n",
       "      <th>max</th>\n",
       "    </tr>\n",
       "  </thead>\n",
       "  <tbody>\n",
       "    <tr>\n",
       "      <th>is_canceled</th>\n",
       "      <td>119390.0</td>\n",
       "      <td>0.370416</td>\n",
       "      <td>0.482918</td>\n",
       "      <td>0.00</td>\n",
       "      <td>0.00</td>\n",
       "      <td>0.000</td>\n",
       "      <td>1.0</td>\n",
       "      <td>1.0</td>\n",
       "    </tr>\n",
       "    <tr>\n",
       "      <th>lead_time</th>\n",
       "      <td>119390.0</td>\n",
       "      <td>104.011416</td>\n",
       "      <td>106.863097</td>\n",
       "      <td>0.00</td>\n",
       "      <td>18.00</td>\n",
       "      <td>69.000</td>\n",
       "      <td>160.0</td>\n",
       "      <td>737.0</td>\n",
       "    </tr>\n",
       "    <tr>\n",
       "      <th>arrival_date_year</th>\n",
       "      <td>119390.0</td>\n",
       "      <td>2016.156554</td>\n",
       "      <td>0.707476</td>\n",
       "      <td>2015.00</td>\n",
       "      <td>2016.00</td>\n",
       "      <td>2016.000</td>\n",
       "      <td>2017.0</td>\n",
       "      <td>2017.0</td>\n",
       "    </tr>\n",
       "    <tr>\n",
       "      <th>arrival_date_week_number</th>\n",
       "      <td>119390.0</td>\n",
       "      <td>27.165173</td>\n",
       "      <td>13.605138</td>\n",
       "      <td>1.00</td>\n",
       "      <td>16.00</td>\n",
       "      <td>28.000</td>\n",
       "      <td>38.0</td>\n",
       "      <td>53.0</td>\n",
       "    </tr>\n",
       "    <tr>\n",
       "      <th>arrival_date_day_of_month</th>\n",
       "      <td>119390.0</td>\n",
       "      <td>15.798241</td>\n",
       "      <td>8.780829</td>\n",
       "      <td>1.00</td>\n",
       "      <td>8.00</td>\n",
       "      <td>16.000</td>\n",
       "      <td>23.0</td>\n",
       "      <td>31.0</td>\n",
       "    </tr>\n",
       "    <tr>\n",
       "      <th>stays_in_weekend_nights</th>\n",
       "      <td>119390.0</td>\n",
       "      <td>0.927599</td>\n",
       "      <td>0.998613</td>\n",
       "      <td>0.00</td>\n",
       "      <td>0.00</td>\n",
       "      <td>1.000</td>\n",
       "      <td>2.0</td>\n",
       "      <td>19.0</td>\n",
       "    </tr>\n",
       "    <tr>\n",
       "      <th>stays_in_week_nights</th>\n",
       "      <td>119390.0</td>\n",
       "      <td>2.500302</td>\n",
       "      <td>1.908286</td>\n",
       "      <td>0.00</td>\n",
       "      <td>1.00</td>\n",
       "      <td>2.000</td>\n",
       "      <td>3.0</td>\n",
       "      <td>50.0</td>\n",
       "    </tr>\n",
       "    <tr>\n",
       "      <th>adults</th>\n",
       "      <td>119390.0</td>\n",
       "      <td>1.856403</td>\n",
       "      <td>0.579261</td>\n",
       "      <td>0.00</td>\n",
       "      <td>2.00</td>\n",
       "      <td>2.000</td>\n",
       "      <td>2.0</td>\n",
       "      <td>55.0</td>\n",
       "    </tr>\n",
       "    <tr>\n",
       "      <th>children</th>\n",
       "      <td>119386.0</td>\n",
       "      <td>0.103890</td>\n",
       "      <td>0.398561</td>\n",
       "      <td>0.00</td>\n",
       "      <td>0.00</td>\n",
       "      <td>0.000</td>\n",
       "      <td>0.0</td>\n",
       "      <td>10.0</td>\n",
       "    </tr>\n",
       "    <tr>\n",
       "      <th>babies</th>\n",
       "      <td>119390.0</td>\n",
       "      <td>0.007949</td>\n",
       "      <td>0.097436</td>\n",
       "      <td>0.00</td>\n",
       "      <td>0.00</td>\n",
       "      <td>0.000</td>\n",
       "      <td>0.0</td>\n",
       "      <td>10.0</td>\n",
       "    </tr>\n",
       "    <tr>\n",
       "      <th>is_repeated_guest</th>\n",
       "      <td>119390.0</td>\n",
       "      <td>0.031912</td>\n",
       "      <td>0.175767</td>\n",
       "      <td>0.00</td>\n",
       "      <td>0.00</td>\n",
       "      <td>0.000</td>\n",
       "      <td>0.0</td>\n",
       "      <td>1.0</td>\n",
       "    </tr>\n",
       "    <tr>\n",
       "      <th>previous_cancellations</th>\n",
       "      <td>119390.0</td>\n",
       "      <td>0.087118</td>\n",
       "      <td>0.844336</td>\n",
       "      <td>0.00</td>\n",
       "      <td>0.00</td>\n",
       "      <td>0.000</td>\n",
       "      <td>0.0</td>\n",
       "      <td>26.0</td>\n",
       "    </tr>\n",
       "    <tr>\n",
       "      <th>previous_bookings_not_canceled</th>\n",
       "      <td>119390.0</td>\n",
       "      <td>0.137097</td>\n",
       "      <td>1.497437</td>\n",
       "      <td>0.00</td>\n",
       "      <td>0.00</td>\n",
       "      <td>0.000</td>\n",
       "      <td>0.0</td>\n",
       "      <td>72.0</td>\n",
       "    </tr>\n",
       "    <tr>\n",
       "      <th>booking_changes</th>\n",
       "      <td>119390.0</td>\n",
       "      <td>0.221124</td>\n",
       "      <td>0.652306</td>\n",
       "      <td>0.00</td>\n",
       "      <td>0.00</td>\n",
       "      <td>0.000</td>\n",
       "      <td>0.0</td>\n",
       "      <td>21.0</td>\n",
       "    </tr>\n",
       "    <tr>\n",
       "      <th>agent</th>\n",
       "      <td>103050.0</td>\n",
       "      <td>86.693382</td>\n",
       "      <td>110.774548</td>\n",
       "      <td>1.00</td>\n",
       "      <td>9.00</td>\n",
       "      <td>14.000</td>\n",
       "      <td>229.0</td>\n",
       "      <td>535.0</td>\n",
       "    </tr>\n",
       "    <tr>\n",
       "      <th>company</th>\n",
       "      <td>6797.0</td>\n",
       "      <td>189.266735</td>\n",
       "      <td>131.655015</td>\n",
       "      <td>6.00</td>\n",
       "      <td>62.00</td>\n",
       "      <td>179.000</td>\n",
       "      <td>270.0</td>\n",
       "      <td>543.0</td>\n",
       "    </tr>\n",
       "    <tr>\n",
       "      <th>days_in_waiting_list</th>\n",
       "      <td>119390.0</td>\n",
       "      <td>2.321149</td>\n",
       "      <td>17.594721</td>\n",
       "      <td>0.00</td>\n",
       "      <td>0.00</td>\n",
       "      <td>0.000</td>\n",
       "      <td>0.0</td>\n",
       "      <td>391.0</td>\n",
       "    </tr>\n",
       "    <tr>\n",
       "      <th>adr</th>\n",
       "      <td>119390.0</td>\n",
       "      <td>101.831122</td>\n",
       "      <td>50.535790</td>\n",
       "      <td>-6.38</td>\n",
       "      <td>69.29</td>\n",
       "      <td>94.575</td>\n",
       "      <td>126.0</td>\n",
       "      <td>5400.0</td>\n",
       "    </tr>\n",
       "    <tr>\n",
       "      <th>required_car_parking_spaces</th>\n",
       "      <td>119390.0</td>\n",
       "      <td>0.062518</td>\n",
       "      <td>0.245291</td>\n",
       "      <td>0.00</td>\n",
       "      <td>0.00</td>\n",
       "      <td>0.000</td>\n",
       "      <td>0.0</td>\n",
       "      <td>8.0</td>\n",
       "    </tr>\n",
       "    <tr>\n",
       "      <th>total_of_special_requests</th>\n",
       "      <td>119390.0</td>\n",
       "      <td>0.571363</td>\n",
       "      <td>0.792798</td>\n",
       "      <td>0.00</td>\n",
       "      <td>0.00</td>\n",
       "      <td>0.000</td>\n",
       "      <td>1.0</td>\n",
       "      <td>5.0</td>\n",
       "    </tr>\n",
       "  </tbody>\n",
       "</table>\n",
       "</div>"
      ],
      "text/plain": [
       "                                   count         mean         std      min  \\\n",
       "is_canceled                     119390.0     0.370416    0.482918     0.00   \n",
       "lead_time                       119390.0   104.011416  106.863097     0.00   \n",
       "arrival_date_year               119390.0  2016.156554    0.707476  2015.00   \n",
       "arrival_date_week_number        119390.0    27.165173   13.605138     1.00   \n",
       "arrival_date_day_of_month       119390.0    15.798241    8.780829     1.00   \n",
       "stays_in_weekend_nights         119390.0     0.927599    0.998613     0.00   \n",
       "stays_in_week_nights            119390.0     2.500302    1.908286     0.00   \n",
       "adults                          119390.0     1.856403    0.579261     0.00   \n",
       "children                        119386.0     0.103890    0.398561     0.00   \n",
       "babies                          119390.0     0.007949    0.097436     0.00   \n",
       "is_repeated_guest               119390.0     0.031912    0.175767     0.00   \n",
       "previous_cancellations          119390.0     0.087118    0.844336     0.00   \n",
       "previous_bookings_not_canceled  119390.0     0.137097    1.497437     0.00   \n",
       "booking_changes                 119390.0     0.221124    0.652306     0.00   \n",
       "agent                           103050.0    86.693382  110.774548     1.00   \n",
       "company                           6797.0   189.266735  131.655015     6.00   \n",
       "days_in_waiting_list            119390.0     2.321149   17.594721     0.00   \n",
       "adr                             119390.0   101.831122   50.535790    -6.38   \n",
       "required_car_parking_spaces     119390.0     0.062518    0.245291     0.00   \n",
       "total_of_special_requests       119390.0     0.571363    0.792798     0.00   \n",
       "\n",
       "                                    25%       50%     75%     max  \n",
       "is_canceled                        0.00     0.000     1.0     1.0  \n",
       "lead_time                         18.00    69.000   160.0   737.0  \n",
       "arrival_date_year               2016.00  2016.000  2017.0  2017.0  \n",
       "arrival_date_week_number          16.00    28.000    38.0    53.0  \n",
       "arrival_date_day_of_month          8.00    16.000    23.0    31.0  \n",
       "stays_in_weekend_nights            0.00     1.000     2.0    19.0  \n",
       "stays_in_week_nights               1.00     2.000     3.0    50.0  \n",
       "adults                             2.00     2.000     2.0    55.0  \n",
       "children                           0.00     0.000     0.0    10.0  \n",
       "babies                             0.00     0.000     0.0    10.0  \n",
       "is_repeated_guest                  0.00     0.000     0.0     1.0  \n",
       "previous_cancellations             0.00     0.000     0.0    26.0  \n",
       "previous_bookings_not_canceled     0.00     0.000     0.0    72.0  \n",
       "booking_changes                    0.00     0.000     0.0    21.0  \n",
       "agent                              9.00    14.000   229.0   535.0  \n",
       "company                           62.00   179.000   270.0   543.0  \n",
       "days_in_waiting_list               0.00     0.000     0.0   391.0  \n",
       "adr                               69.29    94.575   126.0  5400.0  \n",
       "required_car_parking_spaces        0.00     0.000     0.0     8.0  \n",
       "total_of_special_requests          0.00     0.000     1.0     5.0  "
      ]
     },
     "execution_count": 314,
     "metadata": {},
     "output_type": "execute_result"
    }
   ],
   "source": [
    "df2.describe().T"
   ]
  },
  {
   "cell_type": "code",
   "execution_count": 315,
   "id": "03b4db37",
   "metadata": {},
   "outputs": [],
   "source": [
    "df2.rename(columns = {\"is_canceled\":\"booking_status\",\n",
    "                      \"arrival_date_year\":\"arrival_year\",\n",
    "                      \"arrival_date_month\":\"arrival_month\",\n",
    "                      \"arrival_date_day_of_month\":\"arrival_date\",\n",
    "                      \"stays_in_weekend_nights\":\"no_of_weekend_nights\",\n",
    "                      \"stays_in_week_nights\":\"no_of_week_nights\",\n",
    "                      \"adults\":\"no_of_adults\",\n",
    "                      \"children\":\"no_of_children\",\n",
    "                      \"meal\":\"type_of_meal_plan\",\n",
    "                      \"market_segment\":\"market_segment_type\",\n",
    "                      \"is_repeated_guest\":\"repeated_guest\",\n",
    "                      \"previous_cancellations\":\"no_of_previous_cancellations\",\n",
    "                      \"previous_bookings_not_canceled\":\"no_of_previous_bookings_not_canceled\",\n",
    "                      \"reserved_room_type\":\"room_type_reserved\",\n",
    "                      \"required_car_parking_spaces\":\"required_car_parking_space\",\n",
    "                      \"total_of_special_requests\":\"no_of_special_requests\",\n",
    "                      \"adr\":\"avg_price_per_room\",\n",
    "                      }, inplace = True)"
   ]
  },
  {
   "cell_type": "code",
   "execution_count": 316,
   "id": "70d5e9d3",
   "metadata": {},
   "outputs": [
    {
     "name": "stdout",
     "output_type": "stream",
     "text": [
      "18\n"
     ]
    },
    {
     "data": {
      "text/plain": [
       "['hotel',\n",
       " 'arrival_date_week_number',\n",
       " 'babies',\n",
       " 'country',\n",
       " 'distribution_channel',\n",
       " 'assigned_room_type',\n",
       " 'booking_changes',\n",
       " 'deposit_type',\n",
       " 'agent',\n",
       " 'company',\n",
       " 'days_in_waiting_list',\n",
       " 'customer_type',\n",
       " 'reservation_status',\n",
       " 'reservation_status_date',\n",
       " 'name',\n",
       " 'email',\n",
       " 'phone-number',\n",
       " 'credit_card']"
      ]
     },
     "execution_count": 316,
     "metadata": {},
     "output_type": "execute_result"
    }
   ],
   "source": [
    "lista_coincidencias = []\n",
    "lista_no_coincidencias = []\n",
    "for col in df2.columns:\n",
    "    if col in df1.columns:\n",
    "        lista_coincidencias.append(col)\n",
    "    else:\n",
    "        lista_no_coincidencias.append(col)\n",
    "print(len(lista_no_coincidencias))\n",
    "lista_no_coincidencias"
   ]
  },
  {
   "cell_type": "code",
   "execution_count": 317,
   "id": "537db0c9",
   "metadata": {},
   "outputs": [
    {
     "name": "stdout",
     "output_type": "stream",
     "text": [
      "18\n"
     ]
    },
    {
     "data": {
      "text/plain": [
       "['booking_status',\n",
       " 'lead_time',\n",
       " 'arrival_year',\n",
       " 'arrival_month',\n",
       " 'arrival_date',\n",
       " 'no_of_weekend_nights',\n",
       " 'no_of_week_nights',\n",
       " 'no_of_adults',\n",
       " 'no_of_children',\n",
       " 'type_of_meal_plan',\n",
       " 'market_segment_type',\n",
       " 'repeated_guest',\n",
       " 'no_of_previous_cancellations',\n",
       " 'no_of_previous_bookings_not_canceled',\n",
       " 'room_type_reserved',\n",
       " 'avg_price_per_room',\n",
       " 'required_car_parking_space',\n",
       " 'no_of_special_requests']"
      ]
     },
     "execution_count": 317,
     "metadata": {},
     "output_type": "execute_result"
    }
   ],
   "source": [
    "print(len(lista_coincidencias))\n",
    "lista_coincidencias"
   ]
  },
  {
   "cell_type": "code",
   "execution_count": 318,
   "id": "1ebd711b",
   "metadata": {},
   "outputs": [
    {
     "name": "stdout",
     "output_type": "stream",
     "text": [
      "Booking_ID\n"
     ]
    }
   ],
   "source": [
    "for col in df1.columns:\n",
    "    if col not in lista_coincidencias:\n",
    "        print(col)"
   ]
  },
  {
   "cell_type": "code",
   "execution_count": 319,
   "id": "d2315bb7",
   "metadata": {},
   "outputs": [],
   "source": [
    "dfA = df1.copy()\n",
    "dfA.drop(columns = [\"Booking_ID\"], inplace = True)\n",
    "dfB = df2[lista_coincidencias]"
   ]
  },
  {
   "cell_type": "code",
   "execution_count": 320,
   "id": "7e66b6be",
   "metadata": {},
   "outputs": [
    {
     "name": "stdout",
     "output_type": "stream",
     "text": [
      "<class 'pandas.core.frame.DataFrame'>\n",
      "RangeIndex: 36275 entries, 0 to 36274\n",
      "Data columns (total 18 columns):\n",
      " #   Column                                Non-Null Count  Dtype  \n",
      "---  ------                                --------------  -----  \n",
      " 0   no_of_adults                          36275 non-null  int64  \n",
      " 1   no_of_children                        36275 non-null  int64  \n",
      " 2   no_of_weekend_nights                  36275 non-null  int64  \n",
      " 3   no_of_week_nights                     36275 non-null  int64  \n",
      " 4   type_of_meal_plan                     36275 non-null  object \n",
      " 5   required_car_parking_space            36275 non-null  int64  \n",
      " 6   room_type_reserved                    36275 non-null  object \n",
      " 7   lead_time                             36275 non-null  int64  \n",
      " 8   arrival_year                          36275 non-null  int64  \n",
      " 9   arrival_month                         36275 non-null  int64  \n",
      " 10  arrival_date                          36275 non-null  int64  \n",
      " 11  market_segment_type                   36275 non-null  object \n",
      " 12  repeated_guest                        36275 non-null  int64  \n",
      " 13  no_of_previous_cancellations          36275 non-null  int64  \n",
      " 14  no_of_previous_bookings_not_canceled  36275 non-null  int64  \n",
      " 15  avg_price_per_room                    36275 non-null  float64\n",
      " 16  no_of_special_requests                36275 non-null  int64  \n",
      " 17  booking_status                        36275 non-null  object \n",
      "dtypes: float64(1), int64(13), object(4)\n",
      "memory usage: 5.0+ MB\n"
     ]
    }
   ],
   "source": [
    "dfA.info()"
   ]
  },
  {
   "cell_type": "code",
   "execution_count": 321,
   "id": "97ef9145",
   "metadata": {},
   "outputs": [
    {
     "name": "stdout",
     "output_type": "stream",
     "text": [
      "<class 'pandas.core.frame.DataFrame'>\n",
      "RangeIndex: 119390 entries, 0 to 119389\n",
      "Data columns (total 18 columns):\n",
      " #   Column                                Non-Null Count   Dtype  \n",
      "---  ------                                --------------   -----  \n",
      " 0   booking_status                        119390 non-null  int64  \n",
      " 1   lead_time                             119390 non-null  int64  \n",
      " 2   arrival_year                          119390 non-null  int64  \n",
      " 3   arrival_month                         119390 non-null  object \n",
      " 4   arrival_date                          119390 non-null  int64  \n",
      " 5   no_of_weekend_nights                  119390 non-null  int64  \n",
      " 6   no_of_week_nights                     119390 non-null  int64  \n",
      " 7   no_of_adults                          119390 non-null  int64  \n",
      " 8   no_of_children                        119386 non-null  float64\n",
      " 9   type_of_meal_plan                     119390 non-null  object \n",
      " 10  market_segment_type                   119390 non-null  object \n",
      " 11  repeated_guest                        119390 non-null  int64  \n",
      " 12  no_of_previous_cancellations          119390 non-null  int64  \n",
      " 13  no_of_previous_bookings_not_canceled  119390 non-null  int64  \n",
      " 14  room_type_reserved                    119390 non-null  object \n",
      " 15  avg_price_per_room                    119390 non-null  float64\n",
      " 16  required_car_parking_space            119390 non-null  int64  \n",
      " 17  no_of_special_requests                119390 non-null  int64  \n",
      "dtypes: float64(2), int64(12), object(4)\n",
      "memory usage: 16.4+ MB\n"
     ]
    }
   ],
   "source": [
    "dfB.info()"
   ]
  },
  {
   "cell_type": "code",
   "execution_count": 322,
   "id": "28c1e07b",
   "metadata": {},
   "outputs": [
    {
     "name": "stdout",
     "output_type": "stream",
     "text": [
      "<class 'pandas.core.frame.DataFrame'>\n",
      "Index: 155665 entries, 0 to 119389\n",
      "Data columns (total 18 columns):\n",
      " #   Column                                Non-Null Count   Dtype  \n",
      "---  ------                                --------------   -----  \n",
      " 0   no_of_adults                          155665 non-null  int64  \n",
      " 1   no_of_children                        155661 non-null  float64\n",
      " 2   no_of_weekend_nights                  155665 non-null  int64  \n",
      " 3   no_of_week_nights                     155665 non-null  int64  \n",
      " 4   type_of_meal_plan                     155665 non-null  object \n",
      " 5   required_car_parking_space            155665 non-null  int64  \n",
      " 6   room_type_reserved                    155665 non-null  object \n",
      " 7   lead_time                             155665 non-null  int64  \n",
      " 8   arrival_year                          155665 non-null  int64  \n",
      " 9   arrival_month                         155665 non-null  object \n",
      " 10  arrival_date                          155665 non-null  int64  \n",
      " 11  market_segment_type                   155665 non-null  object \n",
      " 12  repeated_guest                        155665 non-null  int64  \n",
      " 13  no_of_previous_cancellations          155665 non-null  int64  \n",
      " 14  no_of_previous_bookings_not_canceled  155665 non-null  int64  \n",
      " 15  avg_price_per_room                    155665 non-null  float64\n",
      " 16  no_of_special_requests                155665 non-null  int64  \n",
      " 17  booking_status                        155665 non-null  object \n",
      "dtypes: float64(2), int64(11), object(5)\n",
      "memory usage: 22.6+ MB\n"
     ]
    }
   ],
   "source": [
    "df = pd.concat([dfA,dfB],axis = 0)\n",
    "df.info()"
   ]
  },
  {
   "cell_type": "code",
   "execution_count": 323,
   "id": "cf8cef99",
   "metadata": {},
   "outputs": [
    {
     "data": {
      "text/plain": [
       "no_of_adults                            0\n",
       "no_of_children                          4\n",
       "no_of_weekend_nights                    0\n",
       "no_of_week_nights                       0\n",
       "type_of_meal_plan                       0\n",
       "required_car_parking_space              0\n",
       "room_type_reserved                      0\n",
       "lead_time                               0\n",
       "arrival_year                            0\n",
       "arrival_month                           0\n",
       "arrival_date                            0\n",
       "market_segment_type                     0\n",
       "repeated_guest                          0\n",
       "no_of_previous_cancellations            0\n",
       "no_of_previous_bookings_not_canceled    0\n",
       "avg_price_per_room                      0\n",
       "no_of_special_requests                  0\n",
       "booking_status                          0\n",
       "dtype: int64"
      ]
     },
     "execution_count": 323,
     "metadata": {},
     "output_type": "execute_result"
    }
   ],
   "source": [
    "df.isnull().sum()"
   ]
  },
  {
   "cell_type": "code",
   "execution_count": 324,
   "id": "dc01aac1",
   "metadata": {},
   "outputs": [
    {
     "data": {
      "text/plain": [
       "no_of_adults                            0\n",
       "no_of_children                          0\n",
       "no_of_weekend_nights                    0\n",
       "no_of_week_nights                       0\n",
       "type_of_meal_plan                       0\n",
       "required_car_parking_space              0\n",
       "room_type_reserved                      0\n",
       "lead_time                               0\n",
       "arrival_year                            0\n",
       "arrival_month                           0\n",
       "arrival_date                            0\n",
       "market_segment_type                     0\n",
       "repeated_guest                          0\n",
       "no_of_previous_cancellations            0\n",
       "no_of_previous_bookings_not_canceled    0\n",
       "avg_price_per_room                      0\n",
       "no_of_special_requests                  0\n",
       "booking_status                          0\n",
       "dtype: int64"
      ]
     },
     "execution_count": 324,
     "metadata": {},
     "output_type": "execute_result"
    }
   ],
   "source": [
    "mediana_children = df.no_of_children.median()\n",
    "df.no_of_children = df.no_of_children.fillna(mediana_children)\n",
    "df.isnull().sum()"
   ]
  },
  {
   "cell_type": "code",
   "execution_count": 325,
   "id": "95118366",
   "metadata": {},
   "outputs": [],
   "source": [
    "df.rename(columns = {\"no_of_adults\":\"adults\",\n",
    "                     \"no_of_children\":\"children\",\n",
    "                     \"no_of_weekend_nights\":\"weekend_nights\",\n",
    "                     \"no_of_week_nights\":\"week_nights\",\n",
    "                     \"type_of_meal_plan\":\"meal_plan\",\n",
    "                     \"required_car_parking_space\":\"parking\",\n",
    "                     \"room_type_reserved\":\"room_type\",\n",
    "                     \"lead_time\":\"lead_time\",\n",
    "                     \"arrival_year\":\"arrival_year\",\n",
    "                     \"arrival_month\":\"arrival_month\",\n",
    "                     \"arrival_date\":\"arrival_day\",\n",
    "                     \"market_segment_type\":\"ms_type\",\n",
    "                     \"repeated_guest\":\"repeated_guest\",\n",
    "                     \"no_of_previous_cancellations\":\"pre_cancel\",\n",
    "                     \"no_of_previous_bookings_not_canceled\":\"pre_not_cancel\",\n",
    "                     \"avg_price_per_room\":\"daily_price\",\n",
    "                     \"no_of_special_requests\":\"special_req\",\n",
    "                     \"booking_status\":\"canceled\",\n",
    "                     }, inplace = True)"
   ]
  },
  {
   "cell_type": "code",
   "execution_count": 326,
   "id": "5d928be1",
   "metadata": {},
   "outputs": [
    {
     "name": "stdout",
     "output_type": "stream",
     "text": [
      "<class 'pandas.core.frame.DataFrame'>\n",
      "Index: 155665 entries, 0 to 119389\n",
      "Data columns (total 18 columns):\n",
      " #   Column          Non-Null Count   Dtype  \n",
      "---  ------          --------------   -----  \n",
      " 0   adults          155665 non-null  int64  \n",
      " 1   children        155665 non-null  float64\n",
      " 2   weekend_nights  155665 non-null  int64  \n",
      " 3   week_nights     155665 non-null  int64  \n",
      " 4   meal_plan       155665 non-null  object \n",
      " 5   parking         155665 non-null  int64  \n",
      " 6   room_type       155665 non-null  object \n",
      " 7   lead_time       155665 non-null  int64  \n",
      " 8   arrival_year    155665 non-null  int64  \n",
      " 9   arrival_month   155665 non-null  object \n",
      " 10  arrival_day     155665 non-null  int64  \n",
      " 11  ms_type         155665 non-null  object \n",
      " 12  repeated_guest  155665 non-null  int64  \n",
      " 13  pre_cancel      155665 non-null  int64  \n",
      " 14  pre_not_cancel  155665 non-null  int64  \n",
      " 15  daily_price     155665 non-null  float64\n",
      " 16  special_req     155665 non-null  int64  \n",
      " 17  canceled        155665 non-null  object \n",
      "dtypes: float64(2), int64(11), object(5)\n",
      "memory usage: 22.6+ MB\n"
     ]
    }
   ],
   "source": [
    "df.info()"
   ]
  },
  {
   "cell_type": "code",
   "execution_count": 327,
   "id": "96645339",
   "metadata": {},
   "outputs": [
    {
     "name": "stderr",
     "output_type": "stream",
     "text": [
      "S:\\Users\\NewWalhalla\\AppData\\Local\\Temp\\ipykernel_14660\\1526249455.py:1: FutureWarning: Downcasting behavior in `replace` is deprecated and will be removed in a future version. To retain the old behavior, explicitly call `result.infer_objects(copy=False)`. To opt-in to the future behavior, set `pd.set_option('future.no_silent_downcasting', True)`\n",
      "  df.canceled = df.canceled.replace({\"Not_Canceled\":0,\"Canceled\":1})\n"
     ]
    },
    {
     "data": {
      "text/plain": [
       "canceled\n",
       "0    99556\n",
       "1    56109\n",
       "Name: count, dtype: int64"
      ]
     },
     "execution_count": 327,
     "metadata": {},
     "output_type": "execute_result"
    }
   ],
   "source": [
    "df.canceled = df.canceled.replace({\"Not_Canceled\":0,\"Canceled\":1})\n",
    "df.canceled.value_counts()"
   ]
  },
  {
   "cell_type": "code",
   "execution_count": 328,
   "id": "3e5c60af",
   "metadata": {},
   "outputs": [],
   "source": [
    "df.children = df.children.astype(int)"
   ]
  },
  {
   "cell_type": "code",
   "execution_count": 329,
   "id": "50cf7f56",
   "metadata": {},
   "outputs": [
    {
     "data": {
      "text/plain": [
       "children\n",
       "0     144377\n",
       "1       6479\n",
       "2       4710\n",
       "3         95\n",
       "10         2\n",
       "9          2\n",
       "Name: count, dtype: int64"
      ]
     },
     "execution_count": 329,
     "metadata": {},
     "output_type": "execute_result"
    }
   ],
   "source": [
    "df.children.value_counts()"
   ]
  },
  {
   "cell_type": "code",
   "execution_count": 330,
   "id": "b9720624",
   "metadata": {},
   "outputs": [
    {
     "name": "stdout",
     "output_type": "stream",
     "text": [
      "<class 'pandas.core.frame.DataFrame'>\n",
      "Index: 155665 entries, 0 to 119389\n",
      "Data columns (total 18 columns):\n",
      " #   Column          Non-Null Count   Dtype  \n",
      "---  ------          --------------   -----  \n",
      " 0   adults          155665 non-null  int64  \n",
      " 1   children        155665 non-null  int64  \n",
      " 2   weekend_nights  155665 non-null  int64  \n",
      " 3   week_nights     155665 non-null  int64  \n",
      " 4   meal_plan       155665 non-null  object \n",
      " 5   parking         155665 non-null  int64  \n",
      " 6   room_type       155665 non-null  object \n",
      " 7   lead_time       155665 non-null  int64  \n",
      " 8   arrival_year    155665 non-null  int64  \n",
      " 9   arrival_month   155665 non-null  object \n",
      " 10  arrival_day     155665 non-null  int64  \n",
      " 11  ms_type         155665 non-null  object \n",
      " 12  repeated_guest  155665 non-null  int64  \n",
      " 13  pre_cancel      155665 non-null  int64  \n",
      " 14  pre_not_cancel  155665 non-null  int64  \n",
      " 15  daily_price     155665 non-null  float64\n",
      " 16  special_req     155665 non-null  int64  \n",
      " 17  canceled        155665 non-null  int64  \n",
      "dtypes: float64(1), int64(13), object(4)\n",
      "memory usage: 22.6+ MB\n"
     ]
    }
   ],
   "source": [
    "df.info()"
   ]
  },
  {
   "cell_type": "code",
   "execution_count": 331,
   "id": "830ede51",
   "metadata": {},
   "outputs": [
    {
     "data": {
      "text/plain": [
       "meal_plan\n",
       "BB              92310\n",
       "Meal Plan 1     27835\n",
       "HB              14463\n",
       "SC              10650\n",
       "Not Selected     5130\n",
       "Meal Plan 2      3305\n",
       "Undefined        1169\n",
       "FB                798\n",
       "Meal Plan 3         5\n",
       "Name: count, dtype: int64"
      ]
     },
     "execution_count": 331,
     "metadata": {},
     "output_type": "execute_result"
    }
   ],
   "source": [
    "df.meal_plan.value_counts()"
   ]
  },
  {
   "cell_type": "markdown",
   "id": "2bb8c0d2",
   "metadata": {},
   "source": [
    "https://www.kaggle.com/code/mariyamalshatta/inn-hotel-classification  \n",
    "Not selected = RO = Room Only  \n",
    "Meal plan 1 = BB = Bed and Breakfast  \n",
    "Meal plan 2 = HB = Half Board (breakfast and 1 meal)  \n",
    "Meal plan 3 = FB = Full Board (Breakfast, lunch, dinner)  \n",
    "SC = Self Catering (apartamento)  \n",
    "Undefined = NA (Sin determinar)  "
   ]
  },
  {
   "cell_type": "code",
   "execution_count": 332,
   "id": "5d654fc5",
   "metadata": {},
   "outputs": [
    {
     "data": {
      "text/plain": [
       "meal_plan\n",
       "BB    120145\n",
       "HB     17768\n",
       "SC     10650\n",
       "RO      5130\n",
       "NA      1169\n",
       "FB       803\n",
       "Name: count, dtype: int64"
      ]
     },
     "execution_count": 332,
     "metadata": {},
     "output_type": "execute_result"
    }
   ],
   "source": [
    "df.meal_plan = df.meal_plan.replace({\"Not Selected\":\"RO\",\"Meal Plan 1\":\"BB\",\"Meal Plan 2\":\"HB\",\"Meal Plan 3\":\"FB\",\"Undefined\":\"NA\"})\n",
    "df.meal_plan.value_counts()"
   ]
  },
  {
   "cell_type": "code",
   "execution_count": 333,
   "id": "22446e99",
   "metadata": {},
   "outputs": [
    {
     "data": {
      "text/plain": [
       "room_type\n",
       "A              85994\n",
       "Room_Type 1    28130\n",
       "D              19201\n",
       "E               6535\n",
       "Room_Type 4     6057\n",
       "F               2897\n",
       "G               2094\n",
       "B               1118\n",
       "Room_Type 6      966\n",
       "C                932\n",
       "Room_Type 2      692\n",
       "H                601\n",
       "Room_Type 5      265\n",
       "Room_Type 7      158\n",
       "P                 12\n",
       "Room_Type 3        7\n",
       "L                  6\n",
       "Name: count, dtype: int64"
      ]
     },
     "execution_count": 333,
     "metadata": {},
     "output_type": "execute_result"
    }
   ],
   "source": [
    "df.room_type.value_counts()"
   ]
  },
  {
   "cell_type": "markdown",
   "id": "b1d32cfc",
   "metadata": {},
   "source": [
    "No sé a qué se corresponde cada uno de los códigos, asío que a menos que tenga especial relevancia con respecto a la variable target, eliminaré la columna.  \n",
    "Los tipos enconrtados en la propia página de INN Hotels no aclaran el código empleado.\n",
    "    \n",
    "Standar Room  \n",
    "Studio  \n",
    "One bedroom suite  \n",
    "Loft queen suite  \n",
    "Two bedroom suite  \n",
    "Executive suite  \n"
   ]
  },
  {
   "cell_type": "code",
   "execution_count": 334,
   "id": "df9b2fdc",
   "metadata": {},
   "outputs": [
    {
     "data": {
      "text/plain": [
       "arrival_month\n",
       "August       13877\n",
       "July         12661\n",
       "May          11791\n",
       "October      11160\n",
       "April        11089\n",
       "June         10939\n",
       "September    10508\n",
       "March         9794\n",
       "February      8068\n",
       "November      6794\n",
       "December      6780\n",
       "January       5929\n",
       "10            5317\n",
       "9             4611\n",
       "8             3813\n",
       "6             3203\n",
       "12            3021\n",
       "11            2980\n",
       "7             2920\n",
       "4             2736\n",
       "5             2598\n",
       "3             2358\n",
       "2             1704\n",
       "1             1014\n",
       "Name: count, dtype: int64"
      ]
     },
     "execution_count": 334,
     "metadata": {},
     "output_type": "execute_result"
    }
   ],
   "source": [
    "df.arrival_month.value_counts()"
   ]
  },
  {
   "cell_type": "code",
   "execution_count": 335,
   "id": "819866a6",
   "metadata": {},
   "outputs": [
    {
     "name": "stderr",
     "output_type": "stream",
     "text": [
      "S:\\Users\\NewWalhalla\\AppData\\Local\\Temp\\ipykernel_14660\\1711459781.py:1: FutureWarning: Downcasting behavior in `replace` is deprecated and will be removed in a future version. To retain the old behavior, explicitly call `result.infer_objects(copy=False)`. To opt-in to the future behavior, set `pd.set_option('future.no_silent_downcasting', True)`\n",
      "  df.arrival_month = df.arrival_month.replace({\"January\":1,\"February\":2,\"March\":3,\"April\":4,\"May\":5,\"June\":6,\"July\":7,\n"
     ]
    },
    {
     "data": {
      "text/plain": [
       "arrival_month\n",
       "8     17690\n",
       "10    16477\n",
       "7     15581\n",
       "9     15119\n",
       "5     14389\n",
       "6     14142\n",
       "4     13825\n",
       "3     12152\n",
       "12     9801\n",
       "11     9774\n",
       "2      9772\n",
       "1      6943\n",
       "Name: count, dtype: int64"
      ]
     },
     "execution_count": 335,
     "metadata": {},
     "output_type": "execute_result"
    }
   ],
   "source": [
    "df.arrival_month = df.arrival_month.replace({\"January\":1,\"February\":2,\"March\":3,\"April\":4,\"May\":5,\"June\":6,\"July\":7,\n",
    "                                             \"August\":8,\"September\":9,\"October\":10,\"November\":11,\"December\":12})\n",
    "df.arrival_month.value_counts()"
   ]
  },
  {
   "cell_type": "markdown",
   "id": "00e3a8c4",
   "metadata": {},
   "source": [
    "Decido cambiar la fecha del 29 de febrero de 2018 a 28 de febrero de 2018, porque no fue un año bisiesto."
   ]
  },
  {
   "cell_type": "code",
   "execution_count": 336,
   "id": "9ee21d65",
   "metadata": {},
   "outputs": [],
   "source": [
    "df.loc[(df.arrival_day == 29)&(df.arrival_month == 2)&(df.arrival_year == 2018), \"arrival_day\"] = 28"
   ]
  },
  {
   "cell_type": "code",
   "execution_count": 337,
   "id": "3524c4bb",
   "metadata": {},
   "outputs": [],
   "source": [
    "df[\"arr_date\"] = pd.to_datetime(dict(day = df.arrival_day, month = df.arrival_month, year = df.arrival_year), errors = \"coerce\")"
   ]
  },
  {
   "cell_type": "code",
   "execution_count": 338,
   "id": "cd8b48e6",
   "metadata": {},
   "outputs": [
    {
     "data": {
      "text/plain": [
       "0         02-10-2017\n",
       "1         06-11-2018\n",
       "2         28-02-2018\n",
       "3         20-05-2018\n",
       "4         11-04-2018\n",
       "             ...    \n",
       "119385    30-08-2017\n",
       "119386    31-08-2017\n",
       "119387    31-08-2017\n",
       "119388    31-08-2017\n",
       "119389    29-08-2017\n",
       "Name: arr_date, Length: 155665, dtype: object"
      ]
     },
     "execution_count": 338,
     "metadata": {},
     "output_type": "execute_result"
    }
   ],
   "source": [
    "df.arr_date.dt.strftime(\"%d-%m-%Y\")"
   ]
  },
  {
   "cell_type": "code",
   "execution_count": 339,
   "id": "33e37bd2",
   "metadata": {},
   "outputs": [],
   "source": [
    "df[\"arr_week\"] = df[\"arr_date\"].dt.isocalendar().week"
   ]
  },
  {
   "cell_type": "code",
   "execution_count": 341,
   "id": "5212984c",
   "metadata": {},
   "outputs": [],
   "source": [
    "df[\"arr_week\"] = df[\"arr_week\"].astype(int)"
   ]
  },
  {
   "cell_type": "code",
   "execution_count": 342,
   "id": "095e4098",
   "metadata": {},
   "outputs": [
    {
     "name": "stdout",
     "output_type": "stream",
     "text": [
      "<class 'pandas.core.frame.DataFrame'>\n",
      "Index: 155665 entries, 0 to 119389\n",
      "Data columns (total 20 columns):\n",
      " #   Column          Non-Null Count   Dtype         \n",
      "---  ------          --------------   -----         \n",
      " 0   adults          155665 non-null  int64         \n",
      " 1   children        155665 non-null  int64         \n",
      " 2   weekend_nights  155665 non-null  int64         \n",
      " 3   week_nights     155665 non-null  int64         \n",
      " 4   meal_plan       155665 non-null  object        \n",
      " 5   parking         155665 non-null  int64         \n",
      " 6   room_type       155665 non-null  object        \n",
      " 7   lead_time       155665 non-null  int64         \n",
      " 8   arrival_year    155665 non-null  int64         \n",
      " 9   arrival_month   155665 non-null  int64         \n",
      " 10  arrival_day     155665 non-null  int64         \n",
      " 11  ms_type         155665 non-null  object        \n",
      " 12  repeated_guest  155665 non-null  int64         \n",
      " 13  pre_cancel      155665 non-null  int64         \n",
      " 14  pre_not_cancel  155665 non-null  int64         \n",
      " 15  daily_price     155665 non-null  float64       \n",
      " 16  special_req     155665 non-null  int64         \n",
      " 17  canceled        155665 non-null  int64         \n",
      " 18  arr_date        155665 non-null  datetime64[ns]\n",
      " 19  arr_week        155665 non-null  int64         \n",
      "dtypes: datetime64[ns](1), float64(1), int64(15), object(3)\n",
      "memory usage: 24.9+ MB\n"
     ]
    }
   ],
   "source": [
    "df.info()"
   ]
  },
  {
   "cell_type": "code",
   "execution_count": 343,
   "id": "1fbafcdb",
   "metadata": {},
   "outputs": [
    {
     "data": {
      "text/plain": [
       "ms_type\n",
       "Online TA        56477\n",
       "Offline TA/TO    24219\n",
       "Online           23214\n",
       "Groups           19811\n",
       "Direct           12606\n",
       "Offline          10528\n",
       "Corporate         7312\n",
       "Complementary     1134\n",
       "Aviation           362\n",
       "Undefined            2\n",
       "Name: count, dtype: int64"
      ]
     },
     "execution_count": 343,
     "metadata": {},
     "output_type": "execute_result"
    }
   ],
   "source": [
    "df.ms_type.value_counts()"
   ]
  },
  {
   "cell_type": "markdown",
   "id": "f3320be8",
   "metadata": {},
   "source": [
    "Online TA = Online Travel Agencies  \n",
    "Online TO = Online Tour Operator"
   ]
  },
  {
   "cell_type": "markdown",
   "id": "423c06ee",
   "metadata": {},
   "source": [
    "<div style=\"background-color: #e6f3ff;\">\n",
    "\n",
    "---\n",
    "\n",
    "##### **DESCRIPCIÓN DE LAS VARIABLES**\n",
    "\n",
    "---\n",
    "<div style=\"background-color: AliceBlue;\">\n",
    "\n",
    "| Variable | Tipo | Descripción |\n",
    "|:---------|:----:|:------------|\n",
    "| Booking_ID | object |---|\n",
    "| no_of_adults | int64 |---| \n",
    "| no_of_children | int64 |---|\n",
    "| no_of_weekend_nights | int64 |---| \n",
    "| no_of_week_nights | int64 |---| \n",
    "| type_of_meal_plan | object |---| \n",
    "| required_car_parking_space | int64 |---| \n",
    "| room_type_reserved | object |---|\n",
    "| lead_time | int64 |---|\n",
    "| arrival_year | int64 |---|\n",
    "| arrival_month | int64 |---|\n",
    "| arrival_date | int64 |---|\n",
    "| market_segment_type | object |---|\n",
    "| repeated_guest | int64 |---|\n",
    "| no_of_previous_cancellations | int64 |---|\n",
    "| no_of_previous_bookings_not_canceled | int64 |---|\n",
    "| avg_price_per_room | float64 |---|\n",
    "| no_of_special_requests | int64 |---|\n",
    "| booking_status | object |---|\n",
    "\n",
    "</div>\n",
    "\n",
    "---\n",
    "\n",
    "<div style=\"text-align: left;background-color: #e6f3ff;\">\n",
    "\n",
    "En un primer vistazo a los datos del dataset no se aprecian valores nulos ni registros duplicados, aunque se <br>\n",
    "realizará una inspección más a fondo por si se encontrara alguna inconsistencia en los datos registrados.<br><br>\n",
    "El primer paso será separar los datos en los sets de train y test para evitar el análisis accidental del dataset<br>\n",
    "de testeto e identificar la variable 'target'.<br><br>\n",
    "\n",
    "---\n",
    "</div>"
   ]
  },
  {
   "cell_type": "markdown",
   "id": "1caafff8",
   "metadata": {},
   "source": [
    "About columns\n",
    "\n",
    "    ID : unique identifier of each booking\n",
    "    n_adults : Number of adults\n",
    "    n_children : Number of Children\n",
    "    weekend_nights : Number of weekend nights (Saturday or Sunday) the guest stayed or booked to stay at the hotel\n",
    "    week_nights : Number of week nights (Monday to Friday) the guest stayed or booked to stay at the hotel\n",
    "    meal_plan : Type of meal plan booked by the customer:\n",
    "    car_parking_space : Does the customer require a car parking space? (0 - No, 1- Yes)\n",
    "    room_type : Type of room reserved by the customer. The values are ciphered (encoded) by INN Hotels.\n",
    "    lead_time : Number of days between the date of booking and the arrival date\n",
    "    year : Year of arrival date\n",
    "    month : Month of arrival date\n",
    "    date : Date of the month\n",
    "    market_segment : Market segment designation.\n",
    "    repeated_guest : Is the customer a repeated guest? (0 - No, 1- Yes)\n",
    "    previous_cancellations : Number of previous bookings that were canceled by the customer prior to the current booking\n",
    "    previous_bookings_not_canceled : Number of previous bookings not canceled by the customer prior to the current booking\n",
    "    avg_room_price : Average price per day of the reservation; prices of the rooms are dynamic. (in euros)\n",
    "    special_requests : Total number of special requests made by the customer (e.g. high floor, view from the room, etc)\n",
    "    status : Flag indicating if the booking was canceled or not.\n"
   ]
  },
  {
   "cell_type": "code",
   "execution_count": 345,
   "id": "60ad0d73",
   "metadata": {},
   "outputs": [
    {
     "data": {
      "image/png": "[encoded data removed]",
      "text/plain": [
       "<Figure size 1500x500 with 2 Axes>"
      ]
     },
     "metadata": {},
     "output_type": "display_data"
    }
   ],
   "source": [
    "train_set, test_set = train_test_split(df, test_size = 0.2, random_state = 42)\n",
    "target = \"canceled\"\n",
    "\n",
    "train_set[target].value_counts()\n",
    "pinta_distribucion_categoricas(train_set, [target], relativa = True)"
   ]
  }
 ],
 "metadata": {
  "kernelspec": {
   "display_name": "Python 3",
   "language": "python",
   "name": "python3"
  },
  "language_info": {
   "codemirror_mode": {
    "name": "ipython",
    "version": 3
   },
   "file_extension": ".py",
   "mimetype": "text/x-python",
   "name": "python",
   "nbconvert_exporter": "python",
   "pygments_lexer": "ipython3",
   "version": "3.13.2"
  }
 },
 "nbformat": 4,
 "nbformat_minor": 5
}
